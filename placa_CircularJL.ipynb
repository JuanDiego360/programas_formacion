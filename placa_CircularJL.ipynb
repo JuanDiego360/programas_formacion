{
 "cells": [
  {
   "cell_type": "markdown",
   "id": "15a9dadb",
   "metadata": {},
   "source": [
    "# placa Triangular"
   ]
  },
  {
   "cell_type": "markdown",
   "id": "986038f8",
   "metadata": {},
   "source": [
    "This is the Laplace equation in 2-D cartesian coordinates (for heat equation)\n",
    "\n",
    "$$ \\frac{\\partial^2 T}{\\partial^2 x}+\\frac{\\partial^2 T}{\\partial^2 y}=0 $$\n",
    "\n",
    "Where T is temperature, x is x-dimension, and y is y-dimension. x and y are functions of position in Cartesian coordinates.\n",
    "\n",
    "Here, we only need to solve 2-D form of the Laplace equation. The problem to solve is shown below:"
   ]
  },
  {
   "cell_type": "markdown",
   "id": "c432aacf",
   "metadata": {},
   "source": [
    "La ecuación de laplace discretizada queda de la siguiente forma:\n",
    "\n",
    "$$\n",
    "T(x,y)=\\frac{T(x+1,y) + T(x+1,y) + T(x,y+1) + T(x,y+1)}{4}\n",
    "$$\n",
    "\n",
    "importamos las librerias que vamos a necesitar\n"
   ]
  },
  {
   "cell_type": "code",
   "execution_count": 1,
   "id": "e0018df3",
   "metadata": {},
   "outputs": [],
   "source": [
    "using Plots"
   ]
  },
  {
   "cell_type": "code",
   "execution_count": null,
   "id": "e0cc2580",
   "metadata": {},
   "outputs": [],
   "source": [
    "# necesitamos una funcion que pinte (rellene de 1's las posiciones de la matriz)\n",
    "# array es la array 2D que debemos rellenar de 1's segÃºn la figura de un circulo\n",
    "function pinta(array,listaCoordenadasX,listaCantidadDeCeldasYAPintar): \n",
    "\n",
    "    centerY = int((len(array)-1)/2)\n",
    "\n",
    "    for x,cantidadCeldasYAPintar in zip(listaCoordenadasX,listaCantidadDeCeldasYAPintar):\n",
    "        r = range(0,int(cantidadCeldasYAPintar) + 1,1)\n",
    "        for celda in r:\n",
    "            #por lo de +- de la solucion\n",
    "            array[centerY+celda][x] = 100\n",
    "            array[centerY-celda][x] = 100    \n",
    "        end\n",
    "    end\n",
    "end\n",
    "\n",
    "function circleMask(rad,radOffset):\n",
    "\n",
    "    #pasamos el radio a entero\n",
    "    radAsInt =Int(rad)\n",
    "    #damos un offset al radio para ver bien el circulo en la array bidimensional\n",
    "    radOffsetAsInt =Int(round(float(radOffset),1))\n",
    "    #obtenemos el centro de la matriz (en X. En Y es igual, pero aqui no lo necesitamos)\n",
    "    centerX = radAsInt + radOffsetAsInt   \n",
    "\n",
    "    # En base a lo anterior calculamos el diametro del circulo\n",
    "    # hacemos el diametro del circulo un numero impar para conseguir simetria\n",
    "    # con respecto asl centro de la matriz\n",
    "    d = radAsInt*2+1\n",
    "    dOffset = radOffsetAsInt*2\n",
    "\n",
    "    #devuelve matriz de 0's\n",
    "    mask = zeros((d+dOffset,d+dOffset),np.uint8) \n",
    "\n",
    "    #En este for calculamos, haciendo un barrido en x el valor que debe tomar y.\n",
    "    #Todo en base a la formula de un circulo (radAsInt+0.5)**2 = x**2 + y**2 centrado en 0,0\n",
    "    #El valor de +-y se interpreta como la cantidad de celdas de la matriz que deben ser pintadas para\n",
    "    #cada valor de x.\n",
    "\n",
    "    listaCoordenadasX = list()\n",
    "    listaCantidadDeCeldasAPintar = list()\n",
    "\n",
    "    #rango para la obtencion de las x para el barrido\n",
    "    r = range(-(radAsInt),(radAsInt)+1,1)\n",
    "\n",
    "    for x in r:\n",
    "\n",
    "        #y = +-math.sqrt((radAsInt+0.5)**2 - x**2 + y**2)\n",
    "        y = math.sqrt(((radAsInt)**2)-(x**2))\n",
    "        #correccion del centro en X a nuestro sistema matricial \n",
    "        xbis = centerX+x\n",
    "        listaCoordenadasX.append(xbis)\n",
    "        listaCantidadDeCeldasAPintar.append(y)\n",
    "        \n",
    "    end\n",
    "\n",
    "    #poblamos la array 2D para cada valor de xbis con el valor de y obtenido\n",
    "    pinta(mask,listaCoordenadasX,listaCantidadDeCeldasAPintar)\n",
    "\n",
    "\n",
    "    return mask\n",
    "end"
   ]
  }
 ],
 "metadata": {
  "kernelspec": {
   "display_name": "Julia 1.8.2",
   "language": "julia",
   "name": "julia-1.8"
  },
  "language_info": {
   "file_extension": ".jl",
   "mimetype": "application/julia",
   "name": "julia",
   "version": "1.8.2"
  }
 },
 "nbformat": 4,
 "nbformat_minor": 5
}
