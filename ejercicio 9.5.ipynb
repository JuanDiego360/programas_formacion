{
 "cells": [
  {
   "cell_type": "code",
   "execution_count": 1,
   "metadata": {},
   "outputs": [],
   "source": [
    "import numpy as np\n",
    "import matplotlib.pyplot as plt"
   ]
  },
  {
   "cell_type": "code",
   "execution_count": 4,
   "metadata": {},
   "outputs": [
    {
     "name": "stdout",
     "output_type": "stream",
     "text": [
      "[0.   0.05 0.1  0.15 0.2  0.25 0.3  0.35 0.4  0.45 0.5  0.55 0.6  0.65\n",
      " 0.7  0.75 0.8  0.85 0.9  0.95]\n"
     ]
    }
   ],
   "source": [
    "h=1E-6 #discretización del tiempo\n",
    "tf=0.001\n",
    "ti=0\n",
    "xf=1\n",
    "xi=0\n",
    "nx=20 #numero de pasos en el espacio\n",
    "nt=(tf-ti)/h # numero de pasos en el tiempo\n",
    "a=(xf-xi)/nx # discretización en el espacio step\n",
    "phi=[0]*nx\n",
    "x=np.arange(xi,xf,a)\n",
    "#parametros de phi\n",
    "C=1\n",
    "d=0.1\n",
    "sigma=0.3\n",
    "for i in range(0,nx):\n",
    "    phi[i]=C*(x[i])"
   ]
  }
 ],
 "metadata": {
  "kernelspec": {
   "display_name": "Python 3.9.12 ('base')",
   "language": "python",
   "name": "python3"
  },
  "language_info": {
   "codemirror_mode": {
    "name": "ipython",
    "version": 3
   },
   "file_extension": ".py",
   "mimetype": "text/x-python",
   "name": "python",
   "nbconvert_exporter": "python",
   "pygments_lexer": "ipython3",
   "version": "3.9.12"
  },
  "vscode": {
   "interpreter": {
    "hash": "ad2bdc8ecc057115af97d19610ffacc2b4e99fae6737bb82f5d7fb13d2f2c186"
   }
  }
 },
 "nbformat": 4,
 "nbformat_minor": 2
}
