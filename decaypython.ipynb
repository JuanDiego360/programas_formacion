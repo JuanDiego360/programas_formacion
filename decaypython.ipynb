{
 "cells": [
  {
   "cell_type": "markdown",
   "id": "81da2595",
   "metadata": {},
   "source": [
    "# problema\n",
    "\n",
    "El radioisótopo $^{208}Tl$ (talio 208) se descompone a $^{208}Pb$ estable (plomo 208) con una semi-vida de 3.053 minutos. Supongamos que comenzamos con una muestra de 1000 átomos de talio. Simulemos la desintegración de estos átomos a lo largo del tiempo, imitando la aleatoriedad de esa desintegración usando números aleatorios. En promedio, sabemos que el número N de átomos en nuestra muestra caerá exponencialmente con el tiempo de acuerdo con la ecuación estándar de desintegración radiactiva:\n",
    "\n",
    "$$\n",
    "N(t)=N(0)2^{-t/\\tau}\n",
    "$$\n",
    "\n",
    "donde $\\tau$ es la vida media. Entonces la fracción de átomos que quedan después del tiempo t es $N(t) /N(0) = 2^{-t/\\tau}$ y la fracción que se ha desintegrado, que también es igual a la probabilidad $p (t)$ de que cualquier átomo individual en particular se haya desintegrado, es uno menos este número, o\n",
    "\n",
    "\\begin{equation}\n",
    "    p(t)=1-2^{-t/\\tau}\n",
    "\\end{equation}\n",
    "\n",
    "Por lo tanto, este número representa la probabilidad de que un solo átomo decaiga en un intervalo de tiempo de longitud t.<br>\n",
    "Simularemos la desintegración de nuestra muestra de 1000 átomos dividiendo los átomos en dos conjuntos, uno de talio y otro de plomo. Inicialmente, todos los átomos están en el conjunto de talio. Dividiremos el tiempo en pasos de tiempo de 1 segundo cada uno y en cada paso de tiempo consideraremos a su vez cada átomo de talio y con la probabilidad dada por la ecuación de arriba, decide si se descompone o no. De esta manera calculamos el número total de átomos de talio que se desintegran en cada segundo, luego restamos este número del total en el conjunto de talio y lo sumamos al total en el conjunto de plomo.\n",
    "Aquí hay un programa para realizar el cálculo y hacer un gráfico del número de átomos de cada tipo en función del tiempo durante 1000 segundos:"
   ]
  },
  {
   "cell_type": "code",
   "execution_count": 7,
   "id": "f920d1a9",
   "metadata": {},
   "outputs": [],
   "source": [
    "from random import random\n",
    "from numpy import arange\n",
    "from pylab import plot,xlabel,ylabel,show,grid"
   ]
  },
  {
   "cell_type": "code",
   "execution_count": 2,
   "id": "759c1b65",
   "metadata": {},
   "outputs": [],
   "source": [
    "# Constants\n",
    "NTl = 1000            # Number of thallium atoms\n",
    "NPb = 0               # Number of lead atoms\n",
    "tau = 3.053*60        # Half life of thallium in seconds\n",
    "h = 1.0               # Size of time-step in seconds\n",
    "p = 1 - 2**(-h/tau)   # Probability of decay in one step\n",
    "tmax = 1000           # Total time"
   ]
  },
  {
   "cell_type": "code",
   "execution_count": 3,
   "id": "93c7e5a0",
   "metadata": {},
   "outputs": [],
   "source": [
    "# Lists of plot points\n",
    "tpoints = arange(0.0,tmax,h)\n",
    "Tlpoints = []\n",
    "Pbpoints = []"
   ]
  },
  {
   "cell_type": "code",
   "execution_count": 4,
   "id": "4e3075ce",
   "metadata": {},
   "outputs": [],
   "source": [
    "# Main loop\n",
    "for t in tpoints:\n",
    "    Tlpoints.append(NTl)\n",
    "    Pbpoints.append(NPb)\n",
    "\n",
    "    # Calculate the number of atoms that decay\n",
    "    decay = 0\n",
    "    for i in range(NTl):\n",
    "        if random()<p:\n",
    "            decay += 1\n",
    "    NTl -= decay\n",
    "    NPb += decay"
   ]
  },
  {
   "cell_type": "code",
   "execution_count": 8,
   "id": "1987ac6f",
   "metadata": {},
   "outputs": [
    {
     "data": {
      "image/png": "[encoded data removed]",
      "text/plain": [
       "<Figure size 432x288 with 1 Axes>"
      ]
     },
     "metadata": {
      "needs_background": "light"
     },
     "output_type": "display_data"
    }
   ],
   "source": [
    "# Make the graph\n",
    "plot(tpoints,Tlpoints)\n",
    "plot(tpoints,Pbpoints)\n",
    "xlabel(\"Time\")\n",
    "ylabel(\"Number of atoms\")\n",
    "grid()\n",
    "show()"
   ]
  }
 ],
 "metadata": {
  "hide_input": false,
  "kernelspec": {
   "display_name": "Python 3 (ipykernel)",
   "language": "python",
   "name": "python3"
  },
  "language_info": {
   "codemirror_mode": {
    "name": "ipython",
    "version": 3
   },
   "file_extension": ".py",
   "mimetype": "text/x-python",
   "name": "python",
   "nbconvert_exporter": "python",
   "pygments_lexer": "ipython3",
   "version": "3.9.12"
  },
  "nbTranslate": {
   "displayLangs": [
    "*"
   ],
   "hotkey": "alt-t",
   "langInMainMenu": true,
   "sourceLang": "en",
   "targetLang": "fr",
   "useGoogleTranslate": true
  },
  "toc": {
   "base_numbering": 1,
   "nav_menu": {},
   "number_sections": true,
   "sideBar": true,
   "skip_h1_title": false,
   "title_cell": "Table of Contents",
   "title_sidebar": "Contents",
   "toc_cell": false,
   "toc_position": {},
   "toc_section_display": true,
   "toc_window_display": false
  },
  "varInspector": {
   "cols": {
    "lenName": 16,
    "lenType": 16,
    "lenVar": 40
   },
   "kernels_config": {
    "python": {
     "delete_cmd_postfix": "",
     "delete_cmd_prefix": "del ",
     "library": "var_list.py",
     "varRefreshCmd": "print(var_dic_list())"
    },
    "r": {
     "delete_cmd_postfix": ") ",
     "delete_cmd_prefix": "rm(",
     "library": "var_list.r",
     "varRefreshCmd": "cat(var_dic_list()) "
    }
   },
   "types_to_exclude": [
    "module",
    "function",
    "builtin_function_or_method",
    "instance",
    "_Feature"
   ],
   "window_display": false
  }
 },
 "nbformat": 4,
 "nbformat_minor": 5
}
