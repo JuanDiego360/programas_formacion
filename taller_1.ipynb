{
 "cells": [
  {
   "cell_type": "markdown",
   "metadata": {},
   "source": [
    "# Taller de computacional\n",
    "## Juan Diego Florez Vera"
   ]
  },
  {
   "cell_type": "markdown",
   "metadata": {},
   "source": [
    "### 1) Si cambian la malla de cuadrada a rectangular (lenX diferente lenY) les va dar error. Deben solucionar ese error para poder trabajar configuraciones rectangulares."
   ]
  },
  {
   "cell_type": "markdown",
   "metadata": {},
   "source": [
    "vamos a trabajar con el metodo de Jacobi\n",
    "\n",
    "$$\n",
    "\\phi(x,y)=\\frac{1}{4} \\left[ \\phi(x+a,y)+ \\phi(x-a,y) + \\phi(x,y+a) + \\phi(x,y-a) \\right]\n",
    "$$\n",
    "\n",
    "con 500 iteraciones y una placa rectangular"
   ]
  },
  {
   "cell_type": "code",
   "execution_count": 2,
   "metadata": {},
   "outputs": [],
   "source": [
    "# importamos las liberias que necesitamos \n",
    "import numpy as np\n",
    "import matplotlib.pyplot as plt"
   ]
  },
  {
   "cell_type": "code",
   "execution_count": 26,
   "metadata": {},
   "outputs": [],
   "source": [
    "# Set maximum iteration\n",
    "maxIter = 500 #numeros de pasos para iterar\n",
    "\n",
    "#dimensiones de la placa\n",
    "lenX =20  #longitud en x de la placa\n",
    "lenY=30 #longitud en y de la placa\n",
    "delta = 1 \n",
    "\n",
    "# condiciones de la frontera\n",
    "Ttop = 0\n",
    "Tbottom = 0\n",
    "Tleft = 0\n",
    "Tright = 150\n",
    "\n",
    "# Initial guess of interior grid\n",
    "Tguess = 30"
   ]
  },
  {
   "cell_type": "code",
   "execution_count": 27,
   "metadata": {},
   "outputs": [],
   "source": [
    "# Set colour interpolation and colour map.\n",
    "# You can try set it to 10, or 100 to see the difference\n",
    "# You can also try: colourMap = plt.cm.coolwarm\n",
    "colorinterpolation = 50\n",
    "colourMap = plt.cm.jet\n",
    "\n",
    "# Set meshgrid\n",
    "X, Y = np.meshgrid(np.arange(0, lenX), np.arange(0, lenY))"
   ]
  },
  {
   "cell_type": "code",
   "execution_count": 28,
   "metadata": {},
   "outputs": [],
   "source": [
    "T = np.empty((lenX, lenY))\n",
    "T.fill(Tguess)\n",
    "# Set Boundary condition\n",
    "T[0,1:lenX-1] = Ttop #0    #[fila,columna]\n",
    "T[lenX-1,:] = Tbottom #0\n",
    "T[:,lenY-1]= Tright #100\n",
    "T[:,0] = Tleft #0"
   ]
  },
  {
   "cell_type": "code",
   "execution_count": 29,
   "metadata": {},
   "outputs": [
    {
     "name": "stdout",
     "output_type": "stream",
     "text": [
      "Please wait for a moment\n",
      "Iteration finished\n"
     ]
    }
   ],
   "source": [
    "# Iteration (We assume that the iteration is convergence in maxIter = 500)\n",
    "print(\"Please wait for a moment\")\n",
    "for iteration in range(0, maxIter):\n",
    "    for i in range(1, lenX-1, delta):\n",
    "        for j in range(1, lenY-1, delta):\n",
    "            T[i, j] = 0.25 * (T[i+1][j] + T[i-1][j] + T[i][j+1] + T[i][j-1])\n",
    "\n",
    "print(\"Iteration finished\")"
   ]
  },
  {
   "cell_type": "code",
   "execution_count": 30,
   "metadata": {},
   "outputs": [
    {
     "data": {
      "image/png": "[encoded data removed]",
      "text/plain": [
       "<Figure size 432x288 with 2 Axes>"
      ]
     },
     "metadata": {
      "needs_background": "light"
     },
     "output_type": "display_data"
    },
    {
     "name": "stdout",
     "output_type": "stream",
     "text": [
      "\n"
     ]
    }
   ],
   "source": [
    "# Configure the contour\n",
    "plt.title(\"Contour of Temperature\")\n",
    "plt.contourf(X, Y, T.T, colorinterpolation, cmap=colourMap)\n",
    "\n",
    "# Set Colorbar\n",
    "plt.colorbar()\n",
    "\n",
    "# Show the result in the plot window\n",
    "plt.show()\n",
    "\n",
    "print(\"\")"
   ]
  },
  {
   "cell_type": "markdown",
   "metadata": {},
   "source": [
    "este es el resultado de colocar una placa rectangular de dimensiones de 20 Unidades de largo y 30 Unidades de alto con una temperatura de $150^{\\circ}C $ en la parte superior de la placa.\n",
    "\n",
    "### 2) El código no tiene un criterio claro de convergencia. Simplemente usa un máximo de iteraciones (maxIter = 500). Deben agregar un criterio de convergencia con una precisión de $1*10^{-2}$"
   ]
  },
  {
   "cell_type": "code",
   "execution_count": 31,
   "metadata": {},
   "outputs": [],
   "source": [
    "# Set Dimension and delta\n",
    "lenX = 20 #we set it rectangular\n",
    "lenY= 30\n",
    "\n",
    "# Boundary condition\n",
    "Ttop = 0 #lado derecho\n",
    "Tbottom = 0 #lado izquierdo\n",
    "Tleft = 0 #lado de abajo\n",
    "Tright = 100 #lado de arriba\n",
    "\n",
    "# Initial guess of interior grid\n",
    "Tguess = 30"
   ]
  },
  {
   "cell_type": "code",
   "execution_count": 32,
   "metadata": {},
   "outputs": [],
   "source": [
    "colorinterpolation = 50\n",
    "colourMap = plt.cm.jet\n",
    "\n",
    "# Set meshgrid\n",
    "X, Y = np.meshgrid(np.arange(0, lenX), np.arange(0, lenY))"
   ]
  },
  {
   "cell_type": "code",
   "execution_count": 33,
   "metadata": {},
   "outputs": [
    {
     "name": "stdout",
     "output_type": "stream",
     "text": [
      "Please wait for a moment\n",
      "Iteration finished\n",
      "el numero de interacciones fueron: 181\n"
     ]
    }
   ],
   "source": [
    "T = np.empty((lenX, lenY))\n",
    "T.fill(Tguess)\n",
    "# Set Boundary condition\n",
    "T[0,1:lenX-1] = Ttop #0    #[fila,columna]\n",
    "T[lenX-1,:] = Tbottom #0\n",
    "T[:,lenY-1]= Tright #100\n",
    "T[:,0] = Tleft #0\n",
    "\n",
    "target = 1e-2  # Target accuracy\n",
    "\n",
    "# Iteration (We assume that the iteration is convergence in maxIter = 500)\n",
    "cont=0\n",
    "error=1\n",
    "p=1\n",
    "print(\"Please wait for a moment\")\n",
    "while error>target:\n",
    "    Tcopy=np.copy(T)\n",
    "    for i in range(1, lenX-1, p):\n",
    "        for j in range(1, lenY-1, p):\n",
    "            T[i,j]=0.25*(T[i+1][j] + T[i-1][j] + T[i][j+1] + T[i][j-1])\n",
    "            \n",
    "    error=np.max(np.abs(T-Tcopy))\n",
    "    cont+=1\n",
    "\n",
    "print(\"Iteration finished\")\n",
    "print(\"el numero de interacciones fueron:\",cont)"
   ]
  },
  {
   "cell_type": "markdown",
   "metadata": {},
   "source": [
    "Aplicando el criterio de convergencia se pudo reducir el numero de iteracciones de 500 a 181, demostrando que se puede obtener un resultado bueno con una tolerancia de $1*10^{-2}$ con menos 500 iteraciones, haciendo el codigo más eficiente"
   ]
  },
  {
   "cell_type": "code",
   "execution_count": 34,
   "metadata": {},
   "outputs": [
    {
     "data": {
      "image/png": "[encoded data removed]",
      "text/plain": [
       "<Figure size 432x288 with 2 Axes>"
      ]
     },
     "metadata": {
      "needs_background": "light"
     },
     "output_type": "display_data"
    },
    {
     "name": "stdout",
     "output_type": "stream",
     "text": [
      "\n"
     ]
    }
   ],
   "source": [
    "plt.title(\"Contour of Temperature\")\n",
    "plt.contourf(X,Y,T.T, colorinterpolation, cmap=colourMap)\n",
    "\n",
    "# Set Colorbar\n",
    "plt.colorbar()\n",
    "\n",
    "# Show the result in the plot window\n",
    "plt.show()\n",
    "\n",
    "print(\"\")"
   ]
  },
  {
   "cell_type": "markdown",
   "metadata": {},
   "source": [
    "### 3) El código no tiene aceleración de la convergencia. Deben acelerarla con el método de sobre-rrelajación y el método de Gauss Seidel.\n",
    "\n",
    "implementando el metodo de sobre relajación con el metodo de Gauss Seidel nos queda el modelo de la siguiente forma:\n",
    "\n",
    "$$\n",
    "\\Delta \\phi(x,y)= \\frac{1}{4} \\left[ \\phi(x+a,y) + \\phi(x-a,y) +\\phi(x,y+a)+ \\phi(x,y-a)\\right] - \\phi(x,y)\n",
    "$$\n",
    "\n",
    "$$\n",
    "\\phi(x,y)_n= \\phi(x,y)+(1+w) \\Delta \\phi(x,y)\n",
    "$$"
   ]
  },
  {
   "cell_type": "code",
   "execution_count": 36,
   "metadata": {},
   "outputs": [
    {
     "name": "stdout",
     "output_type": "stream",
     "text": [
      "Please wait for a moment\n",
      "Iteration finished\n",
      "el numero de interacciones fueron: 86\n"
     ]
    }
   ],
   "source": [
    "T = np.empty((lenX, lenY))\n",
    "T.fill(Tguess)\n",
    "# Set Boundary condition\n",
    "T[0,1:lenX-1] = Ttop #0    #[fila,columna]\n",
    "T[lenX-1,:] = Tbottom #0\n",
    "T[:,lenY-1]= Tright #100\n",
    "T[:,0] = Tleft #0\n",
    "\n",
    "target = 1e-2  # Target accuracy\n",
    "\n",
    "# Iteration (We assume that the iteration is convergence in maxIter = 500)\n",
    "cont=0 # contador\n",
    "error=1 # error\n",
    "w=0.9 #constante de sobrerelajación\n",
    "p=1 # pasos\n",
    "print(\"Please wait for a moment\")\n",
    "while error>target:\n",
    "    # print(\"matriz antes de pasar por el metodo de gauss\")\n",
    "    # print(T)\n",
    "    error=0\n",
    "    for i in range(1, lenX-1, p):\n",
    "        for j in range(1, lenY-1, p):\n",
    "            diff=0.25*(T[i+1][j] + T[i-1][j] + T[i][j+1] + T[i][j-1])-T[i][j]\n",
    "            T[i][j]=T[i][j]+(w+1)*diff\n",
    "            \n",
    "            if (diff>error):error=diff\n",
    "    cont+=1\n",
    "\n",
    "print(\"Iteration finished\")\n",
    "print(\"el numero de interacciones fueron:\",cont)"
   ]
  },
  {
   "cell_type": "markdown",
   "metadata": {},
   "source": [
    "aplicando el metodo de Gauss seidel con el metodo de sobre-rrelación se pudo reducir el numero de iteraciones de 181 que tardó el metodo de Jacobi con el criterio de convergencia a 86 que tardó este metodo aplicado, dandonos una eficiencia mayor para resolver el problema de la temperatura de la placa rectangular"
   ]
  },
  {
   "cell_type": "code",
   "execution_count": 37,
   "metadata": {},
   "outputs": [
    {
     "data": {
      "image/png": "[encoded data removed]",
      "text/plain": [
       "<Figure size 432x288 with 2 Axes>"
      ]
     },
     "metadata": {
      "needs_background": "light"
     },
     "output_type": "display_data"
    },
    {
     "name": "stdout",
     "output_type": "stream",
     "text": [
      "\n"
     ]
    }
   ],
   "source": [
    "plt.title(\"Contour of Temperature\")\n",
    "plt.contourf(X,Y,T.T, colorinterpolation, cmap=colourMap)\n",
    "\n",
    "# Set Colorbar\n",
    "plt.colorbar()\n",
    "\n",
    "# Show the result in the plot window\n",
    "plt.show()\n",
    "\n",
    "print(\"\")"
   ]
  },
  {
   "cell_type": "markdown",
   "metadata": {},
   "source": [
    "### 4) El código no tiene carga. Agregar dos cargas internas mediante la solución de la ecuación de Poisson.\n",
    "\n",
    "La ecuación de Poisson discretizada es:\n",
    "\n",
    "$$\n",
    "\\phi(x,y)=\\frac{1}{4} \\left[ \\phi(x+a,y)+ \\phi(x-a,y) + \\phi(x,y+a) + \\phi(x,y-a) \\right] - \\frac{a^2}{4} \\frac{\\rho(x,y)}{\\varepsilon_o} \n",
    "$$"
   ]
  },
  {
   "cell_type": "code",
   "execution_count": 49,
   "metadata": {},
   "outputs": [
    {
     "name": "stdout",
     "output_type": "stream",
     "text": [
      "Iteration finished\n",
      "el numero de interacciones fueron: 282\n"
     ]
    }
   ],
   "source": [
    "a=0.5 #pasos\n",
    "e0=8.85418717e-12 #permitividad electrica del vacio\n",
    "lenX = 6 #we set it rectangular\n",
    "lenY= 5\n",
    "Te=np.zeros((int(lenX/a),int(lenY/a)))\n",
    "pho=np.zeros((int(lenX/a),int(lenY/a)))\n",
    "\n",
    "#ubicación de los potenciales\n",
    "pho[2,int(lenY/a)-3]=100 \n",
    "pho[int(lenX/a)-3,2]=100\n",
    "\n",
    "colorinterpolation = 50\n",
    "colourMap = plt.cm.jet\n",
    "# Set meshgrid\n",
    "X, Y = np.meshgrid(np.arange(0, lenX,a), np.arange(0, lenY,a))\n",
    "\n",
    "cont=0\n",
    "target=1e-2\n",
    "error=1\n",
    "\n",
    "while error>target:\n",
    "    Tecopy=np.copy(Te)\n",
    "    for i in range(1, int(lenX/a)-1):\n",
    "        for j in range(1, int(lenY/a)-1):\n",
    "            Te[i,j]=0.25*(Te[i+1,j] + Te[i-1,j] + Te[i,j+1] + Te[i,j-1])+a**2/(4*e0)*pho[i,j]\n",
    "            \n",
    "    error=np.max(np.abs(Te-Tecopy))\n",
    "    cont+=1\n",
    "\n",
    "print(\"Iteration finished\")\n",
    "print(\"el numero de interacciones fueron:\",cont)"
   ]
  },
  {
   "cell_type": "code",
   "execution_count": 50,
   "metadata": {},
   "outputs": [
    {
     "data": {
      "image/png": "[encoded data removed]",
      "text/plain": [
       "<Figure size 432x288 with 2 Axes>"
      ]
     },
     "metadata": {
      "needs_background": "light"
     },
     "output_type": "display_data"
    },
    {
     "name": "stdout",
     "output_type": "stream",
     "text": [
      "\n"
     ]
    }
   ],
   "source": [
    "plt.title(\"Placa con potencial electrico\")\n",
    "plt.contourf(X,Y,Te.T, colorinterpolation, cmap=colourMap)\n",
    "\n",
    "# Set Colorbar\n",
    "plt.colorbar()\n",
    "\n",
    "# Show the result in the plot window\n",
    "plt.show()\n",
    "\n",
    "print(\"\")"
   ]
  },
  {
   "cell_type": "markdown",
   "metadata": {},
   "source": [
    "### 5) Explorar si se puede establecer la aceleración al código con carga, es decir, a la ecuación de Poisson.\n",
    "\n",
    "para el metodo de sobre relajación con el metodo de Gauss Seidel de la ecuación de Poisson, queda de la siguente forma:\n",
    "\n",
    "$$\n",
    "\\Delta \\phi(x,y)= \\frac{1}{4} \\left[ \\phi(x+a,y) + \\phi(x-a,y) +\\phi(x,y+a)+ \\phi(x,y-a) \\right] + \\frac{a^2}{4} \\frac{\\rho(x,y)}{\\varepsilon_o}- \\phi(x,y)\n",
    "$$\n",
    "\n",
    "$$\n",
    "\\phi(x,y)_n= \\phi(x,y)+(1+w) \\Delta \\phi(x,y)\n",
    "$$\n"
   ]
  },
  {
   "cell_type": "code",
   "execution_count": 21,
   "metadata": {},
   "outputs": [
    {
     "name": "stdout",
     "output_type": "stream",
     "text": [
      "Please wait for a moment\n",
      "Iteration finished\n",
      "el numero de interacciones fueron: 64\n"
     ]
    }
   ],
   "source": [
    "a=0.5 #pasos\n",
    "e0=8.85418717e-12 #permitividad electrica del vacio\n",
    "lenX = 6 #we set it rectangular\n",
    "lenY= 5\n",
    "Te=np.zeros((int(lenX/a),int(lenY/a)))\n",
    "pho=np.zeros((int(lenX/a),int(lenY/a)))\n",
    "# Te.fill(5)\n",
    "\n",
    "#ubicación de los potenciales\n",
    "pho[2,int(lenY/a)-3]=100 \n",
    "pho[int(lenX/a)-3,2]=100\n",
    "\n",
    "colorinterpolation = 50\n",
    "colourMap = plt.cm.jet\n",
    "# Set meshgrid\n",
    "X, Y = np.meshgrid(np.arange(0, lenX,a), np.arange(0, lenY,a))\n",
    "\n",
    "cont=0\n",
    "target=1e-2\n",
    "error=1\n",
    "w=0.6\n",
    "print(\"Please wait for a moment\")\n",
    "while error>target:\n",
    "    error=0\n",
    "    for i in range(1, int(lenX/a)-1):\n",
    "        for j in range(1, int(lenY/a)-1):\n",
    "            diff=0.25*(Te[i+1][j] + Te[i-1][j] + Te[i][j+1] + Te[i][j-1])+a**2/(4*e0)*pho[i,j]-Te[i][j]\n",
    "            Te[i][j]=Te[i][j]+(w+1)*diff\n",
    "            \n",
    "            if (diff>error):error=diff\n",
    "    cont+=1\n",
    "\n",
    "print(\"Iteration finished\")\n",
    "print(\"el numero de interacciones fueron:\",cont)"
   ]
  },
  {
   "cell_type": "markdown",
   "metadata": {},
   "source": [
    "aplicando el metodo de Gauss seidel con el metodo de sobre-rrelación a la ecuación de Poisson se pudo reducir el numero de iteraciones de 282 que tardó el metodo de Jacobi sobre la ecuación de Poisson, con el criterio de convergencia se pudo reducir 64 iteraciones, dandonos una eficiencia mayor para resolver el problema del potencial de la placa rectangular"
   ]
  },
  {
   "cell_type": "code",
   "execution_count": 23,
   "metadata": {},
   "outputs": [
    {
     "data": {
      "image/png": "[encoded data removed]",
      "text/plain": [
       "<Figure size 432x288 with 2 Axes>"
      ]
     },
     "metadata": {
      "needs_background": "light"
     },
     "output_type": "display_data"
    },
    {
     "name": "stdout",
     "output_type": "stream",
     "text": [
      "\n"
     ]
    }
   ],
   "source": [
    "plt.title(\"Placa con potencial electrico\")\n",
    "plt.contourf(X,Y,Te.T, colorinterpolation, cmap=colourMap)\n",
    "\n",
    "# Set Colorbar\n",
    "plt.colorbar()\n",
    "\n",
    "# Show the result in the plot window\n",
    "plt.show()\n",
    "\n",
    "print(\"\")"
   ]
  },
  {
   "cell_type": "markdown",
   "metadata": {},
   "source": [
    "# Versiones de libreririas Utilizadas para la construcción del notebook"
   ]
  },
  {
   "cell_type": "code",
   "execution_count": 24,
   "metadata": {},
   "outputs": [
    {
     "data": {
      "application/json": {
       "Software versions": [
        {
         "module": "Python",
         "version": "3.9.7 64bit [MSC v.1916 64 bit (AMD64)]"
        },
        {
         "module": "IPython",
         "version": "7.30.0"
        },
        {
         "module": "OS",
         "version": "Windows 10 10.0.19044 SP0"
        },
        {
         "module": "numpy",
         "version": "1.20.3"
        },
        {
         "module": "scipy",
         "version": "1.7.3"
        },
        {
         "module": "matplotlib",
         "version": "3.4.0"
        },
        {
         "module": "sympy",
         "version": "1.9"
        },
        {
         "module": "version_information",
         "version": "1.0.4"
        }
       ]
      },
      "text/html": [
       "<table><tr><th>Software</th><th>Version</th></tr><tr><td>Python</td><td>3.9.7 64bit [MSC v.1916 64 bit (AMD64)]</td></tr><tr><td>IPython</td><td>7.30.0</td></tr><tr><td>OS</td><td>Windows 10 10.0.19044 SP0</td></tr><tr><td>numpy</td><td>1.20.3</td></tr><tr><td>scipy</td><td>1.7.3</td></tr><tr><td>matplotlib</td><td>3.4.0</td></tr><tr><td>sympy</td><td>1.9</td></tr><tr><td>version_information</td><td>1.0.4</td></tr><tr><td colspan='2'>Wed Sep 28 20:43:48 2022 Hora est. Pacífico, Sudamérica</td></tr></table>"
      ],
      "text/latex": [
       "\\begin{tabular}{|l|l|}\\hline\n",
       "{\\bf Software} & {\\bf Version} \\\\ \\hline\\hline\n",
       "Python & 3.9.7 64bit [MSC v.1916 64 bit (AMD64)] \\\\ \\hline\n",
       "IPython & 7.30.0 \\\\ \\hline\n",
       "OS & Windows 10 10.0.19044 SP0 \\\\ \\hline\n",
       "numpy & 1.20.3 \\\\ \\hline\n",
       "scipy & 1.7.3 \\\\ \\hline\n",
       "matplotlib & 3.4.0 \\\\ \\hline\n",
       "sympy & 1.9 \\\\ \\hline\n",
       "version_information & 1.0.4 \\\\ \\hline\n",
       "\\hline \\multicolumn{2}{|l|}{Wed Sep 28 20:43:48 2022 Hora est. Pacífico, Sudamérica} \\\\ \\hline\n",
       "\\end{tabular}\n"
      ],
      "text/plain": [
       "Software versions\n",
       "Python 3.9.7 64bit [MSC v.1916 64 bit (AMD64)]\n",
       "IPython 7.30.0\n",
       "OS Windows 10 10.0.19044 SP0\n",
       "numpy 1.20.3\n",
       "scipy 1.7.3\n",
       "matplotlib 3.4.0\n",
       "sympy 1.9\n",
       "version_information 1.0.4\n",
       "Wed Sep 28 20:43:48 2022 Hora est. Pacífico, Sudamérica"
      ]
     },
     "execution_count": 24,
     "metadata": {},
     "output_type": "execute_result"
    }
   ],
   "source": [
    "%load_ext version_information\n",
    "\n",
    "%version_information numpy, scipy, matplotlib, sympy, version_information"
   ]
  }
 ],
 "metadata": {
  "kernelspec": {
   "display_name": "Python 3 (ipykernel)",
   "language": "python",
   "name": "python3"
  },
  "language_info": {
   "codemirror_mode": {
    "name": "ipython",
    "version": 3
   },
   "file_extension": ".py",
   "mimetype": "text/x-python",
   "name": "python",
   "nbconvert_exporter": "python",
   "pygments_lexer": "ipython3",
   "version": "3.9.12"
  },
  "vscode": {
   "interpreter": {
    "hash": "efb17e5bfbf4581ee388028022334b1903202e979e18a00399327c90fdf4addf"
   }
  }
 },
 "nbformat": 4,
 "nbformat_minor": 2
}
