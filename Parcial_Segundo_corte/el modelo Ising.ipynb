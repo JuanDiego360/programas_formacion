{
 "cells": [
  {
   "cell_type": "markdown",
   "id": "45b99683",
   "metadata": {},
   "source": [
    "# Juan Diego Florez Vera\n",
    "## codigo: 1007308867\n",
    "# El modelo de Ising\n",
    "\n",
    "El modelo Ising es un modelo teórico de un imán. La magnetización de un material magnético se compone de la combinación de muchos dipolos magnéticos pequeños a lo largo del material. Si estos dipolos apuntan en direcciones aleatorias, entonces la magnetización general del sistema será cercana a cero, pero si se alinean de modo que todos o la mayoría de ellos apunten en la misma dirección, entonces el sistema puede adquirir un momento magnético macroscópico: se magnetiza. El modelo de Ising es un modelo de este proceso en el que los momentos individuales están representados por dipolos o\" espines \" dispuestos en una cuadrícula o celosía:\n",
    "![spines](Spines.png)\n",
    "\n",
    "En este caso estamos utilizando una celosía cuadrada en dos dimensiones, aunque el modelo se puede definir en principio para cualquier celosía en cualquier número de dimensiones.\n",
    "Los giros en sí, en este modelo simple, están restringidos a apuntar en solo dos direcciones, hacia arriba y hacia abajo. Matemáticamente, los espines están representados por las variables $s_i = \\pm1$ en los puntos de la red, +1 para los giros que apuntan hacia arriba y -1 para los que apuntan hacia abajo. Los dipolos en imanes reales generalmente pueden apuntar en cualquier dirección espacial, no solo hacia arriba o hacia abajo, pero el modelo Ising, con su restricción a solo las dos direcciones, captura gran parte de la física importante a la vez que es significativamente más simple de entender.\n",
    "Otra característica importante de muchos materiales magnéticos es que los dipolos individuales en el material pueden interactuar magnéticamente de tal manera que es energéticamente favorable para ellos alinearse en la misma dirección. La energía potencial magnética debida a la interacción de dos dipolos es proporcional a su producto escalar, pero en el modelo de Ising esto se simplifica a solo el producto $s_is_j$, para los espines en los sitios i y j de la red, ya que los espines son escalares unidimensionales, no vectores. Entonces la energía real de interacción es $-Js_is_j$, donde J es una constante de interacción positiva. El signo menos asegura que las interacciones son ferromagnéticas, lo que significa que la energía es menor cuando los dipolos están alineados. Una interacción ferromagnética implica que el material se magnetizará si se le da la oportunidad.\n",
    "(En algunos materiales, la interacción tiene el signo opuesto, de modo que los dipolos prefieren estar desalineados. Se dice que dicho material es antiferromagnético, pero no veremos el caso antiferromagnético aquí.)\n",
    "\n",
    "Normalmente se supone que los espines interactúan solo con aquellos que están inmediatamente adyacentes a ellos en la red, lo que da una energía total para todo el sistema igual a\n",
    "\n",
    "$$\n",
    "E=-J \\sum_{(ij)} s_is_j\n",
    "$$\n",
    "\n",
    "donde la notación (ij) indica una suma sobre los pares i, j que son adyacentes en la red.\n",
    "En la celosía cuadrada que usamos en este ejercicio, cada giro tiene cuatro vecinos adyacentes con los que interactúa, excepto los giros en los bordes de la celosía, que tienen dos o tres vecinos.\n",
    "\n",
    "Escriba un programa para realizar una simulación Monte Carlo de cadena de Markov del modelo de Ising en la red cuadrada para un sistema de 20 × 20 Spines. Deberá configurar variables para mantener el valor ±1 de la columna vertebral en cada sitio de celosía, probablemente utilizando una matriz de enteros bidimensional, y luego seguir los siguientes pasos.\n",
    "\n",
    "a) Primero escriba una función para calcular la energía total del sistema, como se indica en la ecuación anterior. Es decir, para una matriz dada de valores de los giros, revise cada par de giros adyacentes y sume las contribuciones $s_is_j$ de todos ellos, luego multiplique por $- J$. Pista 1: Cada par único de giros adyacentes surge solo una vez en la suma. Por lo tanto, hay un término $- JS_1 S_2$ si los espines 1 y 2 son adyacentes entre sí, pero tampoco necesita un término $- JS_2S_1$. Sugerencia 2: Para que su programa final se ejecute en un tiempo razonable, le resultará útil si puede encontrar una manera de calcular la energía utilizando la capacidad de Python para hacer aritmética con matrices completas a la vez. Si realiza el cálculo paso a paso, su programa será significativamente más lento."
   ]
  },
  {
   "cell_type": "code",
   "execution_count": 1,
   "id": "e3d52020",
   "metadata": {},
   "outputs": [],
   "source": [
    "import numpy as np\n",
    "import random as rn\n",
    "import matplotlib.pyplot as plt\n",
    "import matplotlib as mp\n",
    "import matplotlib.animation as animation\n",
    "import time\n",
    "def energia(matrix,J):\n",
    "    tam=np.shape(matrix)[0]\n",
    "    MdeColum=matrix[0:tam-1,:]*matrix[1:,:]\n",
    "    MdeFila=matrix[:,0:tam-1]*matrix[:,1:]\n",
    "    return(-J*(sum(sum(MdeColum))+sum(sum(MdeFila))))"
   ]
  },
  {
   "cell_type": "markdown",
   "id": "d803e0e8",
   "metadata": {},
   "source": [
    "b) Ahora use su función como base para una simulación de estilo Metrópolis del modelo de Ising con J = 1 y temperatura T = 1 en unidades donde la constante de Boltzmann $K_B$ también es 1. Inicialmente, establezca las variables de giro aleatoriamente en $\\pm=1$, de modo que, en promedio, aproximadamente la mitad de ellas estén hacia arriba y la otra mitad hacia abajo, lo que da una magnetización total de aproximadamente cero. Luego, elija un giro al azar, gírelo y calcule la nueva energía después de voltearlo y, por lo tanto, también el cambio en la energía como resultado del giro. A continuación, decida si acepta la inversión utilizando la fórmula de aceptación de Metrópolis, Ec. (10.60). Si el movimiento es rechazado, tendrás que devolver el giro a donde estaba. De lo contrario, mantienes el giro invertido. Ahora repite este proceso para muchos movimientos.\n",
    "\n",
    "Ecuación de aceptación de probabilidad de Metrópolis\n",
    "\n",
    "$$\n",
    "p_a=\\left\\{\\begin{matrix}\n",
    "1 & si, E_j \\leq E_i \\\\ \n",
    "e^{-\\beta (E_j-E_i))} & si, E_j > E_i \n",
    "\\end{matrix}\\right.\n",
    "$$\n",
    "\n",
    "c) Hacer un gráfico de la magnetización total $M=\\sum_i s_i$ del sistema en función del tiempo para un millón de pasos de Monte Carlo. Debería ver que el sistema desarrolla una \"magnetización espontánea\", un valor distinto de cero de la magnetización general.\n",
    "Sugerencia: Mientras trabajas en tu programa, haz series más cortas, de tal vez diez mil pasos a la vez. Una vez que lo tenga funcionando correctamente, realice una ejecución más larga de un millón de pasos para obtener los resultados finales."
   ]
  },
  {
   "cell_type": "code",
   "execution_count": 356,
   "id": "06f8c9dd",
   "metadata": {},
   "outputs": [
    {
     "name": "stdout",
     "output_type": "stream",
     "text": [
      "tiempo de ejecución:  51.29609942436218 seg\n"
     ]
    }
   ],
   "source": [
    "N=20 #tamaño de la matrix\n",
    "s=np.ones((N,N),int) #matriz\n",
    "Stiempo=np.zeros(((N,N,1)))\n",
    "J=1\n",
    "T=1\n",
    "Kᵦ=1\n",
    "Np=800000 #numero de pasos\n",
    "β=1/(Kᵦ*T)\n",
    "#preparamos la matriz con estados aleatorios\n",
    "for i in range(0,N):\n",
    "\tfor j in range(0,N):\n",
    "\t\tif rn.random()>0.5:\n",
    "\t\t\ts[i,j]=-1\n",
    "Stiempo[:,:,0]=s\n",
    "s = np.expand_dims(s, axis=2)\n",
    "Mgra=[sum(sum(s[:,:,0]))] #magnetización\n",
    "E1=energia(s[:,:,0],J)\n",
    "Egra=[E1]\n",
    "inicio=time.time()\n",
    "for pasos in range(0,Np):\n",
    "    #elejimos una posición al azar dentro de la matriz i:fila, j:columna\n",
    "    i=rn.randint(0,N-1)\n",
    "    j=rn.randint(0,N-1)\n",
    "    s[i,j,0]*=-1 #cambiamos el el estado del spin\n",
    "    E2=energia(s[:,:,0],J) #calculamos la energia despues del giro\n",
    "    ΔE=E2-E1 # calculamos la diferencia de energia\n",
    "    # ΔE<0 Decae la energia a un valor minimo por lo que se acepta\n",
    "    if ΔE<0:\n",
    "        E1=E2 #aceptamos el cambio\n",
    "        Egra.append(E1)\n",
    "        Mgra.append(sum(sum(s[:,:,0]))) #la agragamos a la magnetización\n",
    "        Stiempo = np.append(Stiempo,s, axis=2) # agregamos al tensor Stiempo\n",
    "    else:\n",
    "        if rn.random()<np.exp(-β*ΔE):\n",
    "            E1=E2 #aceptamos el cambio\n",
    "            Egra.append(E1)\n",
    "            Mgra.append(sum(sum(s[:,:,0]))) #la agragamos a la magnetización\n",
    "            Stiempo = np.append(Stiempo,s, axis=2) # agregamos al tensor Stiempo\n",
    "        else: #rechazamos el cambio\n",
    "            s[i,j,0]*=-1 #volvemos a camabiar el estado, no hubo cambios\n",
    "fin=time.time()\n",
    "print(\"tiempo de ejecución: \",fin-inicio,\"seg\")"
   ]
  },
  {
   "cell_type": "markdown",
   "id": "bc00380b",
   "metadata": {},
   "source": [
    "d) Ejecute su programa varias veces y observe el signo de la magnetización que se desarrolla, positivo o negativo. Describa lo que encuentre y dé una breve explicación de lo que está sucediendo."
   ]
  },
  {
   "cell_type": "code",
   "execution_count": 99,
   "id": "6bc71b61",
   "metadata": {},
   "outputs": [],
   "source": [
    "%matplotlib inline"
   ]
  },
  {
   "cell_type": "code",
   "execution_count": 43,
   "id": "57de9105",
   "metadata": {},
   "outputs": [
    {
     "data": {
      "image/png": "[encoded data removed]",
      "text/plain": [
       "<Figure size 432x288 with 1 Axes>"
      ]
     },
     "metadata": {
      "needs_background": "light"
     },
     "output_type": "display_data"
    }
   ],
   "source": [
    "plt.plot(Mgra)\n",
    "plt.xlabel(\"numero de veces que cambió el estado\")\n",
    "plt.title(\"Magnetización\")\n",
    "plt.ylabel(\"Magnetización M\")\n",
    "plt.grid()\n",
    "plt.show()"
   ]
  },
  {
   "cell_type": "code",
   "execution_count": 44,
   "id": "4674e603",
   "metadata": {},
   "outputs": [
    {
     "data": {
      "image/png": "[encoded data removed]",
      "text/plain": [
       "<Figure size 432x288 with 1 Axes>"
      ]
     },
     "metadata": {
      "needs_background": "light"
     },
     "output_type": "display_data"
    }
   ],
   "source": [
    "plt.plot(Egra)\n",
    "plt.xlabel(\"numero de veces que cambió el estado\")\n",
    "plt.ylabel(\"Energia E (Julios)\")\n",
    "plt.title(\"Energia\")\n",
    "plt.grid()\n",
    "plt.show()"
   ]
  },
  {
   "cell_type": "code",
   "execution_count": 359,
   "id": "3098fb19",
   "metadata": {},
   "outputs": [
    {
     "name": "stdout",
     "output_type": "stream",
     "text": [
      "Using matplotlib backend: Qt5Agg\n"
     ]
    }
   ],
   "source": [
    "%matplotlib"
   ]
  },
  {
   "cell_type": "code",
   "execution_count": 360,
   "id": "4ae7ee26",
   "metadata": {},
   "outputs": [],
   "source": [
    "#simulación\n",
    "xplot=range(0,len(Mgra))\n",
    "fig3=plt.figure(figsize=(15,8))\n",
    "ax=fig3.gca()\n",
    "colormap = mp.colors.ListedColormap([\"red\",\"green\"])\n",
    "def puntoapunto(i):\n",
    "    ax=plt.subplot(1,2,1)\n",
    "    ax.clear()\n",
    "    plt.title(\"M={} E={}\".format(Mgra[i],Egra[i]))\n",
    "    plt.plot(xplot,Mgra,label=\"M\",color=\"blue\")\n",
    "    plt.plot(xplot,Egra,label=\"E\",color=\"black\")\n",
    "    plt.xlabel(\"numero de veces que cambió el estado\")\n",
    "    plt.ylabel(\"Magnetización M y Eenergia E\")\n",
    "    plt.grid()\n",
    "    plt.legend()\n",
    "    plt.plot([xplot[i],xplot[i]],[min(Egra),max(Egra)],color=\"green\")\n",
    "    \n",
    "    ax=plt.subplot(1,2,2)\n",
    "    ax.clear()\n",
    "    plt.title(\"estados de los spines,M={}\".format(Mgra[i]))\n",
    "    plt.xticks(range(0,N,1))\n",
    "    plt.yticks(range(0,N,1))\n",
    "    if Mgra[i]==max(Mgra):\n",
    "        plt.imshow(Stiempo[:,:,i],cmap=mp.colors.ListedColormap([\"green\"]))\n",
    "    else:\n",
    "        plt.imshow(Stiempo[:,:,i],cmap=colormap)\n",
    "ani=animation.FuncAnimation(fig3, puntoapunto, len(Mgra),interval=1)\n",
    "# ani.save(\"Gradiente_de_laplaca_triangular.mp4\", writer=\"ffmpeg\")\n",
    "plt.show()"
   ]
  },
  {
   "cell_type": "markdown",
   "id": "1a61871f",
   "metadata": {},
   "source": [
    "Rta:\n",
    "Vemos que la magnetización va a tener un valor maximo o minimo que es cuando todos los spines están alineados ya sea hacia arriba o hacia abajo, esto favorece a la energia del sistema ya que este siempre va a tender a su menor estado energetico esto es todos los espines apuntando a un solo lugar.<br>\n",
    "<br>\n",
    "e) Haga una segunda versión de su programa que produzca una animación del sistema usando el paquete visual, con esferas o cuadrados de dos colores, en una cuadrícula regular, para representar los spines hacia arriba y hacia abajo. Ejecútelo con temperatura $T = 1$ y observe el comportamiento del sistema. A continuación, se hace funcionar dos veces más a temperaturas $T = 2$ y $T = 3$. Explique brevemente lo que ve en sus tres carreras. ¿Cómo y por qué cambia el comportamiento del sistema a medida que aumenta la temperatura?"
   ]
  },
  {
   "cell_type": "markdown",
   "id": "e28e6d9a",
   "metadata": {},
   "source": [
    "cada Calulo de las temperaturas se demoraban 35 minutos en Julia\n",
    "\n",
    "![](Calculando_Julia_T=2_positivoT.png)"
   ]
  },
  {
   "cell_type": "code",
   "execution_count": 98,
   "id": "0e7621ef",
   "metadata": {},
   "outputs": [],
   "source": [
    "#cargar todos los datos\n",
    "\n",
    "def reshapemy(matri,dim):\n",
    "    fila=matri.shape[0]\n",
    "    columna=matri.shape[1]\n",
    "    if (columna/dim[1]==dim[2]):\n",
    "        tameje3D=int(columna/dim[1])\n",
    "        matriTran=np.zeros((fila,dim[1],tameje3D))\n",
    "        for i in range(0,tameje3D):\n",
    "            matriTran[:,:,i]=matri[:,i*int(dim[1]):int(dim[1])+i*int(dim[1])]\n",
    "    else:\n",
    "        print(\"error de dimensión\")\n",
    "    return(matriTran)\n",
    "\n",
    "# para T=1 M=+\n",
    "MgraT1p=np.loadtxt(\"Mgra_Magnetizacion_T=1_julia_Positivo.txt\")\n",
    "EgraT1p=np.loadtxt(\"Egra_Magnetizacion_T=1_julia_Positivo.txt\")\n",
    "Stiempo_cargar = np.loadtxt(\"Stiempo_Magnetizacion_T=1_julia_Positivo.txt\")\n",
    "StiempoT1p = reshapemy(Stiempo_cargar,(Stiempo_cargar.shape[0],Stiempo_cargar.shape[0],len(MgraT1p)))\n",
    "xplotT1p=range(0,len(MgraT1p))\n",
    "# para T=1 M=-\n",
    "MgraT1n=np.loadtxt(\"Mgra_Magnetizacion_T=1_julia_Negativo.txt\")\n",
    "EgraT1n=np.loadtxt(\"Egra_Magnetizacion_T=1_julia_Negativo.txt\")\n",
    "Stiempo_cargar = np.loadtxt(\"Stiempo_Magnetizacion_T=1_julia_Negativo.txt\")\n",
    "StiempoT1n = reshapemy(Stiempo_cargar,(Stiempo_cargar.shape[0],Stiempo_cargar.shape[0],len(MgraT1n)))\n",
    "xplotT1n=range(0,len(MgraT1n))\n",
    "# para T=2 M=-\n",
    "MgraT2=np.loadtxt(\"Mgra_Magnetizacion_T=2_julia_Negativo.txt\")\n",
    "EgraT2=np.loadtxt(\"Egra_Magnetizacion_T=2_julia_Negativo.txt\")\n",
    "Stiempo_cargar = np.loadtxt(\"Stiempo_Magnetizacion_T=2_julia_Negativo.txt\")\n",
    "StiempoT2 = reshapemy(Stiempo_cargar,(Stiempo_cargar.shape[0],Stiempo_cargar.shape[0],len(MgraT2)))\n",
    "xplotT2=range(0,len(MgraT2))\n",
    "# para T=3 M=-\n",
    "MgraT3=np.loadtxt(\"Mgra_Magnetizacion_T=3_julia_Negativo.txt\")\n",
    "EgraT3=np.loadtxt(\"Egra_Magnetizacion_T=3_julia_Negativo.txt\")\n",
    "Stiempo_cargar = np.loadtxt(\"Stiempo_Magnetizacion_T=3_julia_Negativo.txt\")\n",
    "StiempoT3 = reshapemy(Stiempo_cargar,(Stiempo_cargar.shape[0],Stiempo_cargar.shape[0],len(MgraT3)))\n",
    "xplotT3=range(0,len(MgraT3))\n",
    "# para T=2 M=max\n",
    "MgraT2p=np.loadtxt(\"Mgra_Magnetizacion_T=2_julia_PositivoT.txt\")\n",
    "EgraT2p=np.loadtxt(\"Egra_Magnetizacion_T=2_julia_PositivoT.txt\")\n",
    "Stiempo_cargar = np.loadtxt(\"Stiempo_Magnetizacion_T=2_julia_PositivoT.txt\")\n",
    "StiempoT2p = reshapemy(Stiempo_cargar,(Stiempo_cargar.shape[0],Stiempo_cargar.shape[0],len(MgraT2p)))\n",
    "xplotT2p=range(0,len(MgraT2p))\n",
    "# para T=3 M=max\n",
    "MgraT3p=np.loadtxt(\"Mgra_Magnetizacion_T=3_julia_PositivoT.txt\")\n",
    "EgraT3p=np.loadtxt(\"Egra_Magnetizacion_T=3_julia_PositivoT.txt\")\n",
    "Stiempo_cargar = np.loadtxt(\"Stiempo_Magnetizacion_T=3_julia_PositivoT.txt\")\n",
    "StiempoT3p = reshapemy(Stiempo_cargar,(Stiempo_cargar.shape[0],Stiempo_cargar.shape[0],len(MgraT3p)))\n",
    "xplotT3p=range(0,len(MgraT3p))"
   ]
  },
  {
   "cell_type": "code",
   "execution_count": 105,
   "id": "4cca3928",
   "metadata": {},
   "outputs": [],
   "source": [
    "#graficar los datos\n",
    "ax=plt.subplot(2,2,1)\n",
    "plt.title(\"T=1 M=+1\")\n",
    "plt.plot(xplotT1p,MgraT1p,label=\"M\",color=\"blue\")\n",
    "plt.plot(xplotT1p,EgraT1p,label=\"E\",color=\"black\")\n",
    "# plt.xlabel(\"numero de veces que cambió el estado\")\n",
    "plt.ylabel(\"Magnetización M y Eenergia E\")\n",
    "plt.grid()\n",
    "plt.legend()\n",
    "plt.show()\n",
    "# plt.savefig(\"grafica_T=1_M=+1.jpg\")\n",
    "    \n",
    "ax=plt.subplot(2,2,2)\n",
    "plt.title(\"T=1 M=-1\")\n",
    "plt.plot(xplotT1n,MgraT1n,label=\"M\",color=\"blue\")\n",
    "plt.plot(xplotT1n,EgraT1n,label=\"E\",color=\"black\")\n",
    "# plt.xlabel(\"numero de veces que cambió el estado\")\n",
    "plt.ylabel(\"Magnetización M y Eenergia E\")\n",
    "plt.grid()\n",
    "plt.legend()\n",
    "plt.show()\n",
    "# plt.savefig(\"grafica_T=1_M=-1.jpg\")\n",
    "\n",
    "ax=plt.subplot(2,2,3)\n",
    "plt.title(\"T=2 M=-1\")\n",
    "plt.plot(xplotT2,MgraT2,label=\"M\",color=\"blue\")\n",
    "plt.plot(xplotT2,EgraT2,label=\"E\",color=\"black\")\n",
    "plt.xlabel(\"numero de veces que cambió el estado\")\n",
    "plt.ylabel(\"Magnetización M y Eenergia E\")\n",
    "plt.grid()\n",
    "plt.legend()\n",
    "plt.show()\n",
    "# plt.savefig(\"grafica_T=2_M=-1.jpg\")\n",
    "\n",
    "ax=plt.subplot(2,2,4)\n",
    "plt.title(\"T=3 M=-1\")\n",
    "plt.plot(xplotT3,MgraT3,label=\"M\",color=\"blue\")\n",
    "plt.plot(xplotT3,EgraT3,label=\"E\",color=\"black\")\n",
    "plt.xlabel(\"numero de veces que cambió el estado\")\n",
    "plt.ylabel(\"Magnetización M y Eenergia E\")\n",
    "plt.grid()\n",
    "plt.legend()\n",
    "plt.show()\n",
    "# plt.savefig(\"grafica_T=3_M=-1.jpg\")"
   ]
  },
  {
   "cell_type": "markdown",
   "id": "bdf5fdbd",
   "metadata": {},
   "source": [
    "![](Graficas_de_los_Diferentes_caso.png)"
   ]
  },
  {
   "cell_type": "code",
   "execution_count": 106,
   "id": "e60ca811",
   "metadata": {},
   "outputs": [],
   "source": [
    "ax=plt.subplot(1,2,1)\n",
    "plt.title(\"T=2 M=Max\")\n",
    "plt.plot(xplotT2p,MgraT2p,label=\"M\",color=\"blue\")\n",
    "plt.plot(xplotT2p,EgraT2p,label=\"E\",color=\"black\")\n",
    "plt.xlabel(\"numero de veces que cambió el estado\")\n",
    "plt.ylabel(\"Magnetización M y Eenergia E\")\n",
    "plt.grid()\n",
    "plt.legend()\n",
    "plt.show()\n",
    "\n",
    "ax=plt.subplot(1,2,2)\n",
    "plt.title(\"T=3 M=Max\")\n",
    "plt.plot(xplotT3p,MgraT3p,label=\"M\",color=\"blue\")\n",
    "plt.plot(xplotT3p,EgraT3p,label=\"E\",color=\"black\")\n",
    "plt.xlabel(\"numero de veces que cambió el estado\")\n",
    "plt.ylabel(\"Magnetización M y Eenergia E\")\n",
    "plt.grid()\n",
    "plt.legend()\n",
    "plt.show()"
   ]
  },
  {
   "cell_type": "markdown",
   "id": "67248ebe",
   "metadata": {},
   "source": [
    "![](Grafica_Hipotesis.png)"
   ]
  },
  {
   "cell_type": "markdown",
   "id": "aa435223",
   "metadata": {},
   "source": [
    "Rta:\n",
    "Vemos que entre mayor temperatura los spines van a estar cambiando mas aleatoriamente y es mas dificil que se defina una orientación privilegiada, por lo que podemos concluir que entre mayor temperatura el material pierde cualquier estado de magnetización, como lo pudimos observar anteriormente cuando iniciamos con una magnetización de +400 y terminamos con una magnetización de cercanos a 0 lo que significa que el estado como tiene mayor energia por el echo de que tiene mayor temperatura, va a tender a un estado de mayor energia en este caso paso de un estado de menor energia a uno de mayor energia."
   ]
  },
  {
   "cell_type": "markdown",
   "id": "57e3b510",
   "metadata": {},
   "source": [
    "# trabajar con Datos"
   ]
  },
  {
   "cell_type": "code",
   "execution_count": 210,
   "id": "5920bdc5",
   "metadata": {},
   "outputs": [],
   "source": [
    "#guardar datos de la simulación\n",
    "Stiempo_redimensionar=Stiempo.reshape(Stiempo.shape[0], -1)\n",
    "np.savetxt(\"Stiempo_Magnetizacion_negativa.txt\", Stiempo_redimensionar)\n",
    "np.savetxt(\"Mgra_Magnetizacion_negativa.txt\", Mgra)\n",
    "np.savetxt(\"Egra_Magnetizacion_negativa.txt\", Egra)"
   ]
  },
  {
   "cell_type": "code",
   "execution_count": 11,
   "id": "f78750cc",
   "metadata": {},
   "outputs": [],
   "source": [
    "#cargar los datos\n",
    "Mgra=np.loadtxt(\"Mgra_Magnetizacion_T=3_julia_PositivoT.txt\")\n",
    "Egra=np.loadtxt(\"Egra_Magnetizacion_T=3_julia_PositivoT.txt\")\n",
    "Stiempo_cargar = np.loadtxt(\"Stiempo_Magnetizacion_T=3_julia_PositivoT.txt\")\n",
    "def reshapemy(matri,dim):\n",
    "    fila=matri.shape[0]\n",
    "    columna=matri.shape[1]\n",
    "    if (columna/dim[1]==dim[2]):\n",
    "        tameje3D=int(columna/dim[1])\n",
    "        matriTran=np.zeros((fila,dim[1],tameje3D))\n",
    "        for i in range(0,tameje3D):\n",
    "            matriTran[:,:,i]=matri[:,i*int(dim[1]):int(dim[1])+i*int(dim[1])]\n",
    "    else:\n",
    "        print(\"error de dimensión\")\n",
    "    return(matriTran)\n",
    "Stiempo = reshapemy(Stiempo_cargar,(Stiempo_cargar.shape[0],Stiempo_cargar.shape[0],len(Mgra)))"
   ]
  },
  {
   "cell_type": "code",
   "execution_count": 4,
   "id": "a3f681cb",
   "metadata": {},
   "outputs": [],
   "source": [
    "%matplotlib inline"
   ]
  },
  {
   "cell_type": "code",
   "execution_count": 5,
   "id": "dce5af2d",
   "metadata": {},
   "outputs": [
    {
     "data": {
      "image/png": "[encoded data removed]",
      "text/plain": [
       "<Figure size 432x288 with 1 Axes>"
      ]
     },
     "metadata": {
      "needs_background": "light"
     },
     "output_type": "display_data"
    }
   ],
   "source": [
    "plt.plot(Mgra)\n",
    "plt.xlabel(\"numero de veces que cambió el estado\")\n",
    "plt.ylabel(\"Magnetización M\")\n",
    "plt.title(\"Magnetización\")\n",
    "plt.grid()\n",
    "plt.show()"
   ]
  },
  {
   "cell_type": "code",
   "execution_count": 6,
   "id": "df3388b5",
   "metadata": {},
   "outputs": [
    {
     "data": {
      "image/png": "[encoded data removed]",
      "text/plain": [
       "<Figure size 432x288 with 1 Axes>"
      ]
     },
     "metadata": {
      "needs_background": "light"
     },
     "output_type": "display_data"
    }
   ],
   "source": [
    "plt.plot(Egra)\n",
    "plt.xlabel(\"numero de veces que cambió el estado\")\n",
    "plt.ylabel(\"Energia E (Julios)\")\n",
    "plt.title(\"Energia\")\n",
    "plt.grid()\n",
    "plt.show()"
   ]
  },
  {
   "cell_type": "code",
   "execution_count": 4,
   "id": "410509e8",
   "metadata": {},
   "outputs": [
    {
     "name": "stdout",
     "output_type": "stream",
     "text": [
      "Using matplotlib backend: Qt5Agg\n"
     ]
    }
   ],
   "source": [
    "%matplotlib"
   ]
  },
  {
   "cell_type": "code",
   "execution_count": 13,
   "id": "bef499b9",
   "metadata": {},
   "outputs": [],
   "source": [
    "#simulación cuadro\n",
    "N=20\n",
    "xplot=range(0,len(Mgra))\n",
    "fig3=plt.figure(figsize=(15,8))\n",
    "ax=fig3.gca()\n",
    "fig3.suptitle('T=2')\n",
    "colormap = mp.colors.ListedColormap([\"black\",\"yellow\"])\n",
    "def puntoapunto(i):\n",
    "    ax=plt.subplot(1,2,1)\n",
    "    ax.clear()\n",
    "    plt.title(\"M={} E={}\".format(Mgra[i],Egra[i]))\n",
    "    plt.plot(xplot,Mgra,label=\"M\",color=\"blue\")\n",
    "    plt.plot(xplot,Egra,label=\"E\",color=\"black\")\n",
    "    plt.xlabel(\"numero de veces que cambió el estado\")\n",
    "    plt.ylabel(\"Magnetización M y Eenergia E\")\n",
    "    plt.grid()\n",
    "    plt.legend()\n",
    "    plt.plot([xplot[i],xplot[i]],[min(Egra),max(Mgra)],color=\"green\")\n",
    "    \n",
    "    ax=plt.subplot(1,2,2)\n",
    "    ax.clear()\n",
    "    plt.title(\"estados de los spines,M={}\".format(Mgra[i]))\n",
    "    plt.xticks(range(0,N,1))\n",
    "    plt.yticks(range(0,N,1))\n",
    "    if Mgra[i]==max(Mgra):\n",
    "        plt.imshow(Stiempo[:,:,i],cmap=mp.colors.ListedColormap([\"yellow\"]))\n",
    "    else:\n",
    "        plt.imshow(Stiempo[:,:,i],cmap=colormap)\n",
    "ani=animation.FuncAnimation(fig3, puntoapunto, len(Mgra),interval=15)\n",
    "ani.save(\"Spines_Magnetizacion_T=3_PositivoT.mp4\", writer=\"ffmpeg\")\n",
    "plt.show()"
   ]
  },
  {
   "cell_type": "code",
   "execution_count": 13,
   "id": "8d89a67c",
   "metadata": {},
   "outputs": [],
   "source": [
    "#simulación flechas\n",
    "N=20\n",
    "xrejilla=[0]*20\n",
    "yrejilla=[1]*20\n",
    "X,Y=np.meshgrid(xrejilla,yrejilla)\n",
    "xplot=range(0,len(Mgra))\n",
    "fig3=plt.figure(figsize=(15,8))\n",
    "ax=fig3.gca()\n",
    "fig3.suptitle('T=3 Positivo')\n",
    "colormap = mp.colors.ListedColormap([\"red\",\"green\"])\n",
    "def puntoapunto(i):\n",
    "    ax=plt.subplot(1,2,1)\n",
    "    ax.clear()\n",
    "    plt.title(\"M={} E={}\".format(Mgra[i],Egra[i]))\n",
    "    plt.plot(xplot,Mgra,label=\"M\",color=\"blue\")\n",
    "    plt.plot(xplot,Egra,label=\"E\",color=\"black\")\n",
    "    plt.xlabel(\"numero de veces que cambió el estado\")\n",
    "    plt.ylabel(\"Magnetización M y Eenergia E\")\n",
    "    plt.grid()\n",
    "    plt.legend()\n",
    "    plt.plot([xplot[i],xplot[i]],[min(Egra),max(Mgra)],color=\"green\")\n",
    "    \n",
    "    ax=plt.subplot(1,2,2)\n",
    "    ax.clear()\n",
    "    plt.title(\"estados de los spines,M={}\".format(Mgra[i]))\n",
    "    plt.xticks(range(0,N,1))\n",
    "    plt.yticks(range(0,N,1))\n",
    "    if Mgra[i]==max(Mgra):\n",
    "        ax.quiver(X,Stiempo[:,:,i],Stiempo[:,:,i],cmap=mp.colors.ListedColormap([\"green\"]))\n",
    "    else:\n",
    "        ax.quiver(X,Stiempo[:,:,i],Stiempo[:,:,i],cmap=colormap)\n",
    "ani=animation.FuncAnimation(fig3, puntoapunto, len(Mgra),interval=15)\n",
    "ani.save(\"Spines_Magnetizacion_T=3_PositivoTVect.mp4\", writer=\"ffmpeg\")\n",
    "plt.show()"
   ]
  },
  {
   "cell_type": "markdown",
   "id": "2e406d2f",
   "metadata": {},
   "source": [
    "# mostrar un dato en especifico"
   ]
  },
  {
   "cell_type": "code",
   "execution_count": 68,
   "id": "3d2b46d9",
   "metadata": {},
   "outputs": [
    {
     "name": "stdout",
     "output_type": "stream",
     "text": [
      "ingrese el numero de estado:40000\n"
     ]
    }
   ],
   "source": [
    "#cuadrada\n",
    "fig3=plt.figure(figsize=(15,8))\n",
    "ax=fig3.gca()\n",
    "ndedato=int(input(\"ingrese el numero de estado:\"))\n",
    "i=xplot.index(ndedato)\n",
    "colormap = mp.colors.ListedColormap([\"red\",\"green\"])\n",
    "ax=plt.subplot(1,2,1)\n",
    "plt.title(\"M={} E={}\".format(Mgra[i],Egra[i]))\n",
    "plt.plot(xplot,Mgra,label=\"M\",color=\"blue\")\n",
    "plt.plot(xplot,Egra,label=\"E\",color=\"black\")\n",
    "plt.xlabel(\"numero de veces que cambió el estado\")\n",
    "plt.ylabel(\"Magnetización M y Eenergia E\")\n",
    "plt.grid()\n",
    "plt.legend()\n",
    "plt.plot([xplot[i],xplot[i]],[min(Egra),max(Egra)],color=\"green\")\n",
    "plt.show()\n",
    "\n",
    "ax=plt.subplot(1,2,2)\n",
    "plt.title(\"estados de los spines,M={}\".format(Mgra[i]))\n",
    "plt.xticks(range(0,N,1))\n",
    "plt.yticks(range(0,N,1))\n",
    "if Mgra[i]==max(Mgra):\n",
    "    plt.imshow(Stiempo[:,:,i],cmap=mp.colors.ListedColormap([\"yellow\"]))\n",
    "    plt.show()\n",
    "else:\n",
    "    plt.imshow(Stiempo[:,:,i],cmap=colormap)\n",
    "    plt.show()"
   ]
  },
  {
   "cell_type": "code",
   "execution_count": 93,
   "id": "4b833852",
   "metadata": {},
   "outputs": [
    {
     "name": "stdout",
     "output_type": "stream",
     "text": [
      "ingrese el numero de estado:0\n"
     ]
    }
   ],
   "source": [
    "#vectorial\n",
    "xrejilla=[0]*20\n",
    "yrejilla=[1]*20\n",
    "X,Y=np.meshgrid(xrejilla,yrejilla)\n",
    "fig3=plt.figure(figsize=(15,8))\n",
    "ax=fig3.gca()\n",
    "ndedato=int(input(\"ingrese el numero de estado:\"))\n",
    "i=xplot.index(ndedato)\n",
    "colormap = mp.colors.ListedColormap([\"red\",\"green\"])\n",
    "ax=plt.subplot(1,2,1)\n",
    "plt.title(\"M={} E={}\".format(Mgra[i],Egra[i]))\n",
    "plt.plot(xplot,Mgra,label=\"M\",color=\"blue\")\n",
    "plt.plot(xplot,Egra,label=\"E\",color=\"black\")\n",
    "plt.xlabel(\"numero de veces que cambió el estado\")\n",
    "plt.ylabel(\"Magnetización M y Eenergia E\")\n",
    "plt.grid()\n",
    "plt.legend()\n",
    "plt.plot([xplot[i],xplot[i]],[min(Egra),max(Egra)],color=\"green\")\n",
    "plt.show()\n",
    "\n",
    "ax=plt.subplot(1,2,2)\n",
    "plt.title(\"estados de los spines,M={}\".format(Mgra[i]))\n",
    "plt.xticks(range(0,N,1))\n",
    "plt.yticks(range(0,N,1))\n",
    "if Mgra[i]==max(Mgra):\n",
    "    ax.quiver(X,Stiempo[:,:,i],Stiempo[:,:,i],cmap=mp.colors.ListedColormap([\"green\"]))\n",
    "    plt.show()\n",
    "else:\n",
    "    ax.quiver(X,Stiempo[:,:,i],Stiempo[:,:,i],cmap=colormap)\n",
    "    plt.show()"
   ]
  },
  {
   "cell_type": "markdown",
   "id": "67c752f4",
   "metadata": {},
   "source": [
    "# Codigo en Julia\n",
    "\n",
    "~~~julia\n",
    "using DelimitedFiles\n",
    "function energia(matrix,J)\n",
    "    tam=size(matrix)[1]\n",
    "    MdeColum=matrix[1:tam-1,1:end].*matrix[2:end,1:end]\n",
    "    MdeFila=matrix[1:end,1:tam-1].*matrix[1:end,2:end]\n",
    "    return(-J*(sum(MdeColum)+sum(MdeFila)))\n",
    "end\n",
    "N=20\n",
    "global s=ones((N,N)) #matriz\n",
    "for i in (1:N)\n",
    " \tfor j in (1:N)\n",
    " \t\tif rand()>0.5\n",
    " \t\t\ts[i,j]=-1\n",
    "         end\n",
    "     end\n",
    "end\n",
    "\n",
    "global suni=copy(s)\n",
    "\n",
    "J=1\n",
    "T=3\n",
    "Kᵦ=1\n",
    "Np=89000 #numero de pasos\n",
    "β=1/(Kᵦ*T)\n",
    "\n",
    "global Mgra=[sum(s)] #magnetización\n",
    "global E1=energia(s,J)\n",
    "global Egra=[E1]\n",
    "@time for pasos in (1:Np)\n",
    "    #elejimos una posición al azar dentro de la matriz i:fila, j:columna\n",
    "    i=rand(1:N)\n",
    "    j=rand(1:N)\n",
    "    global s[i,j]*=-1 #cambiamos el el estado del spin\n",
    "    global E2=energia(s,J) #calculamos la energia despues del giro\n",
    "    global ΔE=E2-E1 # calculamos la diferencia de energia\n",
    "    # ΔE<0 Decae la energia a un valor minimo por lo que se acepta\n",
    "    if ΔE<0\n",
    "        global E1=E2 #aceptamos el cambio\n",
    "        push!(Egra,E1)\n",
    "        push!(Mgra,sum(s)) #la agragamos a la magnetización\n",
    "        global suni = [suni s] # agregamos al tensor Stiempo\n",
    "    else\n",
    "        if rand()<exp(-β*ΔE)\n",
    "            global E1=E2 #aceptamos el cambio\n",
    "            push!(Egra,E1)\n",
    "            push!(Mgra,sum(s)) #la agragamos a la magnetización\n",
    "            global suni = [suni s] # agregamos al tensor Stiempo\n",
    "        else #rechazamos el cambio\n",
    "            global s[i,j]*=-1 #volvemos a camabiar el estado, no hubo cambios\n",
    "        end\n",
    "    end\n",
    "    print(pasos,\"\\r\")\n",
    "end\n",
    "println(\"magnetización:\",Mgra[end])\n",
    "println(\"Energia:\",Egra[end]) \n",
    "~~~\n",
    "\n",
    "~~~julia\n",
    "writedlm(\"Stiempo_Magnetizacion_T=3_julia_PositivoT.txt\",suni)\n",
    "writedlm(\"Mgra_Magnetizacion_T=3_julia_PositivoT.txt\",Mgra)\n",
    "writedlm(\"Egra_Magnetizacion_T=3_julia_PositivoT.txt\",Egra)\n",
    "~~~"
   ]
  },
  {
   "cell_type": "code",
   "execution_count": 93,
   "id": "3b5568ed",
   "metadata": {},
   "outputs": [
    {
     "name": "stdout",
     "output_type": "stream",
     "text": [
      "The version_information extension is already loaded. To reload it, use:\n",
      "  %reload_ext version_information\n"
     ]
    },
    {
     "data": {
      "application/json": {
       "Software versions": [
        {
         "module": "Python",
         "version": "3.9.12 64bit [MSC v.1916 64 bit (AMD64)]"
        },
        {
         "module": "IPython",
         "version": "7.30.0"
        },
        {
         "module": "OS",
         "version": "Windows 10 10.0.19044 SP0"
        },
        {
         "module": "numpy",
         "version": "1.20.3"
        },
        {
         "module": "matplotlib",
         "version": "3.4.0"
        },
        {
         "module": "version_information",
         "version": "1.0.4"
        }
       ]
      },
      "text/html": [
       "<table><tr><th>Software</th><th>Version</th></tr><tr><td>Python</td><td>3.9.12 64bit [MSC v.1916 64 bit (AMD64)]</td></tr><tr><td>IPython</td><td>7.30.0</td></tr><tr><td>OS</td><td>Windows 10 10.0.19044 SP0</td></tr><tr><td>numpy</td><td>1.20.3</td></tr><tr><td>matplotlib</td><td>3.4.0</td></tr><tr><td>version_information</td><td>1.0.4</td></tr><tr><td colspan='2'>Sun Nov 13 23:45:37 2022 Hora est. Pacífico, Sudamérica</td></tr></table>"
      ],
      "text/latex": [
       "\\begin{tabular}{|l|l|}\\hline\n",
       "{\\bf Software} & {\\bf Version} \\\\ \\hline\\hline\n",
       "Python & 3.9.12 64bit [MSC v.1916 64 bit (AMD64)] \\\\ \\hline\n",
       "IPython & 7.30.0 \\\\ \\hline\n",
       "OS & Windows 10 10.0.19044 SP0 \\\\ \\hline\n",
       "numpy & 1.20.3 \\\\ \\hline\n",
       "matplotlib & 3.4.0 \\\\ \\hline\n",
       "version_information & 1.0.4 \\\\ \\hline\n",
       "\\hline \\multicolumn{2}{|l|}{Sun Nov 13 23:45:37 2022 Hora est. Pacífico, Sudamérica} \\\\ \\hline\n",
       "\\end{tabular}\n"
      ],
      "text/plain": [
       "Software versions\n",
       "Python 3.9.12 64bit [MSC v.1916 64 bit (AMD64)]\n",
       "IPython 7.30.0\n",
       "OS Windows 10 10.0.19044 SP0\n",
       "numpy 1.20.3\n",
       "matplotlib 3.4.0\n",
       "version_information 1.0.4\n",
       "Sun Nov 13 23:45:37 2022 Hora est. Pacífico, Sudamérica"
      ]
     },
     "execution_count": 93,
     "metadata": {},
     "output_type": "execute_result"
    }
   ],
   "source": [
    "%load_ext version_information\n",
    "\n",
    "%version_information numpy, matplotlib, version_information"
   ]
  }
 ],
 "metadata": {
  "hide_input": false,
  "kernelspec": {
   "display_name": "Python 3 (ipykernel)",
   "language": "python",
   "name": "python3"
  },
  "language_info": {
   "codemirror_mode": {
    "name": "ipython",
    "version": 3
   },
   "file_extension": ".py",
   "mimetype": "text/x-python",
   "name": "python",
   "nbconvert_exporter": "python",
   "pygments_lexer": "ipython3",
   "version": "3.11.0"
  },
  "nbTranslate": {
   "displayLangs": [
    "*"
   ],
   "hotkey": "alt-t",
   "langInMainMenu": true,
   "sourceLang": "en",
   "targetLang": "fr",
   "useGoogleTranslate": true
  },
  "toc": {
   "base_numbering": 1,
   "nav_menu": {},
   "number_sections": true,
   "sideBar": true,
   "skip_h1_title": false,
   "title_cell": "Table of Contents",
   "title_sidebar": "Contents",
   "toc_cell": false,
   "toc_position": {},
   "toc_section_display": true,
   "toc_window_display": false
  },
  "varInspector": {
   "cols": {
    "lenName": 16,
    "lenType": 16,
    "lenVar": 40
   },
   "kernels_config": {
    "python": {
     "delete_cmd_postfix": "",
     "delete_cmd_prefix": "del ",
     "library": "var_list.py",
     "varRefreshCmd": "print(var_dic_list())"
    },
    "r": {
     "delete_cmd_postfix": ") ",
     "delete_cmd_prefix": "rm(",
     "library": "var_list.r",
     "varRefreshCmd": "cat(var_dic_list()) "
    }
   },
   "types_to_exclude": [
    "module",
    "function",
    "builtin_function_or_method",
    "instance",
    "_Feature"
   ],
   "window_display": false
  }
 },
 "nbformat": 4,
 "nbformat_minor": 5
}
