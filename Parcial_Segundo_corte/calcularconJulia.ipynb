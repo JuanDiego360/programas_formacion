{
 "cells": [
  {
   "cell_type": "code",
   "execution_count": 1,
   "id": "2b63e4b4",
   "metadata": {},
   "outputs": [
    {
     "name": "stdout",
     "output_type": "stream",
     "text": [
      "780.615715 seconds (4.16 M allocations: 2.489 TiB, 32.88% gc time, 0.02% compilation time)\n",
      "magnetización:6.0\n",
      "Energia:-334.0\n"
     ]
    }
   ],
   "source": [
    "using DelimitedFiles\n",
    "function energia(matrix,J)\n",
    "    tam=size(matrix)[1]\n",
    "    MdeColum=matrix[1:tam-1,1:end].*matrix[2:end,1:end]\n",
    "    MdeFila=matrix[1:end,1:tam-1].*matrix[1:end,2:end]\n",
    "    return(-J*(sum(MdeColum)+sum(MdeFila)))\n",
    "end\n",
    "N=20\n",
    "global s=ones((N,N)) #matriz\n",
    "# for i in (1:N)\n",
    "# \tfor j in (1:N)\n",
    "# \t\tif rand()>0.5\n",
    "# \t\t\ts[i,j]=-1\n",
    "#         end\n",
    "#     end\n",
    "# end\n",
    "\n",
    "global suni=copy(s)\n",
    "\n",
    "J=1\n",
    "T=3\n",
    "Kᵦ=1\n",
    "Np=89000 #numero de pasos\n",
    "β=1/(Kᵦ*T)\n",
    "\n",
    "global Mgra=[sum(s)] #magnetización\n",
    "global E1=energia(s,J)\n",
    "global Egra=[E1]\n",
    "@time for pasos in (1:Np)\n",
    "    #elejimos una posición al azar dentro de la matriz i:fila, j:columna\n",
    "    i=rand(1:N)\n",
    "    j=rand(1:N)\n",
    "    global s[i,j]*=-1 #cambiamos el el estado del spin\n",
    "    global E2=energia(s,J) #calculamos la energia despues del giro\n",
    "    global ΔE=E2-E1 # calculamos la diferencia de energia\n",
    "    # ΔE<0 Decae la energia a un valor minimo por lo que se acepta\n",
    "    if ΔE<0\n",
    "        global E1=E2 #aceptamos el cambio\n",
    "        push!(Egra,E1)\n",
    "        push!(Mgra,sum(s)) #la agragamos a la magnetización\n",
    "        global suni = [suni s] # agregamos al tensor Stiempo\n",
    "    else\n",
    "        if rand()<exp(-β*ΔE)\n",
    "            global E1=E2 #aceptamos el cambio\n",
    "            push!(Egra,E1)\n",
    "            push!(Mgra,sum(s)) #la agragamos a la magnetización\n",
    "            global suni = [suni s] # agregamos al tensor Stiempo\n",
    "        else #rechazamos el cambio\n",
    "            global s[i,j]*=-1 #volvemos a camabiar el estado, no hubo cambios\n",
    "        end\n",
    "    end\n",
    "    print(pasos,\"\\r\")\n",
    "end\n",
    "println(\"magnetización:\",Mgra[end])\n",
    "println(\"Energia:\",Egra[end])"
   ]
  },
  {
   "cell_type": "code",
   "execution_count": 3,
   "id": "dfefd683",
   "metadata": {},
   "outputs": [],
   "source": [
    "writedlm(\"Stiempo_Magnetizacion_T=3_julia_PositivoT.txt\",suni)\n",
    "writedlm(\"Mgra_Magnetizacion_T=3_julia_PositivoT.txt\",Mgra)\n",
    "writedlm(\"Egra_Magnetizacion_T=3_julia_PositivoT.txt\",Egra)"
   ]
  }
 ],
 "metadata": {
  "hide_input": false,
  "kernelspec": {
   "display_name": "Julia 1.8.2",
   "language": "julia",
   "name": "julia-1.8"
  },
  "language_info": {
   "file_extension": ".jl",
   "mimetype": "application/julia",
   "name": "julia",
   "version": "1.8.2"
  },
  "nbTranslate": {
   "displayLangs": [
    "*"
   ],
   "hotkey": "alt-t",
   "langInMainMenu": true,
   "sourceLang": "en",
   "targetLang": "fr",
   "useGoogleTranslate": true
  },
  "toc": {
   "base_numbering": 1,
   "nav_menu": {},
   "number_sections": true,
   "sideBar": true,
   "skip_h1_title": false,
   "title_cell": "Table of Contents",
   "title_sidebar": "Contents",
   "toc_cell": false,
   "toc_position": {},
   "toc_section_display": true,
   "toc_window_display": false
  },
  "varInspector": {
   "cols": {
    "lenName": 16,
    "lenType": 16,
    "lenVar": 40
   },
   "kernels_config": {
    "python": {
     "delete_cmd_postfix": "",
     "delete_cmd_prefix": "del ",
     "library": "var_list.py",
     "varRefreshCmd": "print(var_dic_list())"
    },
    "r": {
     "delete_cmd_postfix": ") ",
     "delete_cmd_prefix": "rm(",
     "library": "var_list.r",
     "varRefreshCmd": "cat(var_dic_list()) "
    }
   },
   "types_to_exclude": [
    "module",
    "function",
    "builtin_function_or_method",
    "instance",
    "_Feature"
   ],
   "window_display": false
  }
 },
 "nbformat": 4,
 "nbformat_minor": 5
}
