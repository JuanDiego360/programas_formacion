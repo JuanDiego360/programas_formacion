{
 "cells": [
  {
   "cell_type": "markdown",
   "id": "73030170",
   "metadata": {},
   "source": [
    "# placa circular"
   ]
  },
  {
   "cell_type": "markdown",
   "id": "c41bcaed",
   "metadata": {},
   "source": [
    "This is the Laplace equation in 2-D cartesian coordinates (for heat equation)\n",
    "\n",
    "$$ \\frac{\\partial^2 T}{\\partial^2 x}+\\frac{\\partial^2 T}{\\partial^2 y}=0 $$\n",
    "\n",
    "Where T is temperature, x is x-dimension, and y is y-dimension. x and y are functions of position in Cartesian coordinates.\n",
    "\n",
    "Here, we only need to solve 2-D form of the Laplace equation. The problem to solve is shown below:"
   ]
  },
  {
   "cell_type": "markdown",
   "id": "30f7d943",
   "metadata": {},
   "source": [
    "La ecuación de laplace discretizada queda de la siguiente forma:\n",
    "\n",
    "$$\n",
    "T(x,y)=\\frac{T(x+1,y) + T(x+1,y) + T(x,y+1) + T(x,y+1)}{4}\n",
    "$$"
   ]
  },
  {
   "cell_type": "markdown",
   "id": "16c9ebfb",
   "metadata": {},
   "source": [
    "importamos las librerias que vamos a necesitar"
   ]
  },
  {
   "cell_type": "code",
   "execution_count": 15,
   "id": "27b82e39",
   "metadata": {},
   "outputs": [],
   "source": [
    "import numpy as np\n",
    "import math\n",
    "import matplotlib.pyplot as plt\n",
    "import matplotlib.animation as animation"
   ]
  },
  {
   "cell_type": "markdown",
   "id": "b6b3f9cb",
   "metadata": {},
   "source": [
    "creamos dos funciones para pintar el cicrculo"
   ]
  },
  {
   "cell_type": "code",
   "execution_count": 2,
   "id": "b63a4b87",
   "metadata": {},
   "outputs": [],
   "source": [
    "# necesitamos una funcion que pinte (rellene de 1's las posiciones de la matriz)\n",
    "# array es la array 2D que debemos rellenar de 1's segÃºn la figura de un circulo\n",
    "def pinta(array,listaCoordenadasX,listaCantidadDeCeldasYAPintar): \n",
    "\n",
    "    centerY = int((len(array)-1)/2)\n",
    "\n",
    "    for x,cantidadCeldasYAPintar in zip(listaCoordenadasX,listaCantidadDeCeldasYAPintar):\n",
    "        r = range(0,int(cantidadCeldasYAPintar) + 1,1)\n",
    "        for celda in r:\n",
    "            #por lo de +- de la solucion\n",
    "            array[centerY+celda][x] = 100\n",
    "            array[centerY-celda][x] = 100\n",
    "\n",
    "\n",
    "def circleMask(rad,radOffset):\n",
    "\n",
    "    #pasamos el radio a entero\n",
    "    radAsInt =int(round(float(rad),1))\n",
    "    #damos un offset al radio para ver bien el circulo en la array bidimensional\n",
    "    radOffsetAsInt =int(round(float(radOffset),1))\n",
    "    #obtenemos el centro de la matriz (en X. En Y es igual, pero aqui no lo necesitamos)\n",
    "    centerX = radAsInt + radOffsetAsInt   \n",
    "\n",
    "    # En base a lo anterior calculamos el diametro del circulo\n",
    "    # hacemos el diametro del circulo un numero impar para conseguir simetria\n",
    "    # con respecto asl centro de la matriz\n",
    "    d = radAsInt*2+1\n",
    "    dOffset = radOffsetAsInt*2\n",
    "\n",
    "    #devuelve matriz de 0's\n",
    "    mask = np.zeros((d+dOffset,d+dOffset),np.uint8) \n",
    "\n",
    "    #En este for calculamos, haciendo un barrido en x el valor que debe tomar y.\n",
    "    #Todo en base a la formula de un circulo (radAsInt+0.5)**2 = x**2 + y**2 centrado en 0,0\n",
    "    #El valor de +-y se interpreta como la cantidad de celdas de la matriz que deben ser pintadas para\n",
    "    #cada valor de x.\n",
    "\n",
    "    listaCoordenadasX = list()\n",
    "    listaCantidadDeCeldasAPintar = list()\n",
    "\n",
    "    #rango para la obtencion de las x para el barrido\n",
    "    r = range(-(radAsInt),(radAsInt)+1,1)\n",
    "\n",
    "    for x in r:\n",
    "\n",
    "        #y = +-math.sqrt((radAsInt+0.5)**2 - x**2 + y**2)\n",
    "        y = math.sqrt(((radAsInt)**2)-(x**2))\n",
    "        #correccion del centro en X a nuestro sistema matricial \n",
    "        xbis = centerX+x\n",
    "        listaCoordenadasX.append(xbis)\n",
    "        listaCantidadDeCeldasAPintar.append(y)\n",
    "\n",
    "    #poblamos la array 2D para cada valor de xbis con el valor de y obtenido\n",
    "    pinta(mask,listaCoordenadasX,listaCantidadDeCeldasAPintar)\n",
    "\n",
    "\n",
    "    return mask"
   ]
  },
  {
   "cell_type": "markdown",
   "id": "882f2dbf",
   "metadata": {},
   "source": [
    "definimos el radio del circulo la distancia a la margen"
   ]
  },
  {
   "cell_type": "code",
   "execution_count": 12,
   "id": "7d3018ff",
   "metadata": {},
   "outputs": [],
   "source": [
    "radius = 20\n",
    "radiusOffset = 1"
   ]
  },
  {
   "cell_type": "markdown",
   "id": "a5b6aa52",
   "metadata": {},
   "source": [
    "hacemos la matriz que nos va a representar la condición de frontera"
   ]
  },
  {
   "cell_type": "code",
   "execution_count": 30,
   "id": "256910c7",
   "metadata": {},
   "outputs": [],
   "source": [
    "V=circleMask(radius,radiusOffset)\n",
    "Vr=np.zeros(np.shape(V))\n",
    "Ttiempo=np.zeros((np.shape(V)[0],np.shape(V)[1],1))\n",
    "for i in range(1,2*radius+2):\n",
    "    for j in range(1,2*radius+2):\n",
    "        if (V[i,j-1]!=0 and V[i,j+1]!=0 and V[i-1,j]!=0 and V[i+1,j]!=0):\n",
    "            Vr[i,j]=-90\n",
    "V=V+Vr"
   ]
  },
  {
   "cell_type": "markdown",
   "id": "318b16c9",
   "metadata": {},
   "source": [
    "se calcula la solución al problema"
   ]
  },
  {
   "cell_type": "code",
   "execution_count": 31,
   "id": "4efaca1d",
   "metadata": {},
   "outputs": [
    {
     "name": "stdout",
     "output_type": "stream",
     "text": [
      "espere un momento calculando solución\n",
      "solución terminada\n",
      "el numero de interacciones fueron: 917\n"
     ]
    }
   ],
   "source": [
    "target = 1e-3  # Target accuracy\n",
    "\n",
    "# Iteration (We assume that the iteration is convergence in maxIter = 500)\n",
    "cont=0\n",
    "error=1\n",
    "diff=np.zeros(np.shape(V))\n",
    "print(\"espere un momento calculando solución\")\n",
    "V = np.expand_dims(V, axis=2)\n",
    "while error>target:\n",
    "    Vcopy=np.copy(V)\n",
    "    for i in range(1,2*radius+2):\n",
    "        for j in range(1,2*radius+2):\n",
    "            if(Vr[i,j]==-90):\n",
    "                    V[i,j]=0.25*(V[i+1][j] + V[i-1][j] + V[i][j+1] + V[i][j-1])\n",
    "                    \n",
    "    for i in range(1,2*radius+2):\n",
    "        for j in range(1,2*radius+2):\n",
    "            if(Vr[i,j]==-90):\n",
    "                diff[i,j]=np.abs(Vcopy[i,j]-V[i,j])\n",
    "                    \n",
    "    percentage=cont/917*100\n",
    "    print(\"Completado:{} %\".format(round(percentage,2)), end='\\r')\n",
    "    error=np.max(diff)\n",
    "    cont+=1\n",
    "    Ttiempo = np.append(Ttiempo,V, axis=2)\n",
    "print(\"solución terminada\")\n",
    "print(\"el numero de interacciones fueron:\",cont)"
   ]
  },
  {
   "cell_type": "code",
   "execution_count": 6,
   "id": "b03621a4",
   "metadata": {},
   "outputs": [],
   "source": [
    "colorinterpolation = 100\n",
    "colourMap = plt.cm.jet\n",
    "\n",
    "# Set meshgrid\n",
    "X, Y = np.meshgrid(np.arange(0, np.shape(V)[0]), np.arange(0, np.shape(V)[0]))"
   ]
  },
  {
   "cell_type": "code",
   "execution_count": null,
   "id": "7e35bd3c",
   "metadata": {},
   "outputs": [],
   "source": [
    "%matplotlib inline"
   ]
  },
  {
   "cell_type": "code",
   "execution_count": 9,
   "id": "44fef187",
   "metadata": {},
   "outputs": [
    {
     "data": {
      "text/plain": [
       "<matplotlib.contour.QuadContourSet at 0x1aa82f098b0>"
      ]
     },
     "execution_count": 9,
     "metadata": {},
     "output_type": "execute_result"
    },
    {
     "data": {
      "image/png": "[encoded data removed]",
      "text/plain": [
       "<Figure size 432x288 with 1 Axes>"
      ]
     },
     "metadata": {
      "needs_background": "light"
     },
     "output_type": "display_data"
    }
   ],
   "source": [
    "plt.title(\"placa circular\")\n",
    "plt.contourf(Y,X,Ttiempo[:,:,cont].T, colorinterpolation, cmap=colourMap)"
   ]
  },
  {
   "cell_type": "markdown",
   "id": "e911df24",
   "metadata": {},
   "source": [
    "simulamos el paso a paso de las iteracciones de la ecuación de laplace"
   ]
  },
  {
   "cell_type": "code",
   "execution_count": null,
   "id": "c1ffc9f4",
   "metadata": {},
   "outputs": [],
   "source": [
    "# acelerar simulación\n",
    "tam=int((cont+1)*0.1)\n",
    "Ttimpoac=np.zeros(((np.shape(V)[0],np.shape(V)[0],tam)))\n",
    "for i in range(0,tam):\n",
    "    Ttimpoac[:,:,i]=Ttiempo[:,:,i*int((cont+1)/tam)]"
   ]
  },
  {
   "cell_type": "code",
   "execution_count": null,
   "id": "b50b8c0c",
   "metadata": {},
   "outputs": [],
   "source": [
    "%matplotlib"
   ]
  },
  {
   "cell_type": "code",
   "execution_count": null,
   "id": "2e9f25b8",
   "metadata": {},
   "outputs": [],
   "source": [
    "#simulación\n",
    "fig3=plt.figure()\n",
    "ax=fig3.gca()\n",
    "def puntoapunto(i):\n",
    "    ax.clear()\n",
    "    plt.title(\"placa circular\")\n",
    "    plt.contourf(Y,X,Ttimpoac[:,:,i].T, colorinterpolation, cmap=colourMap)\n",
    "ani=animation.FuncAnimation(fig3, puntoapunto, range(tam))\n",
    "# ani.save(\"Gradiente_de_laplaca_circular.mp4\", writer=\"ffmpeg\")\n",
    "plt.show()"
   ]
  },
  {
   "cell_type": "markdown",
   "id": "ce329a94",
   "metadata": {},
   "source": [
    "# Versiones de libreririas Utilizadas para la construcción del notebook"
   ]
  },
  {
   "cell_type": "code",
   "execution_count": 32,
   "id": "f62c42c0",
   "metadata": {},
   "outputs": [
    {
     "data": {
      "application/json": {
       "Software versions": [
        {
         "module": "Python",
         "version": "3.9.12 64bit [MSC v.1916 64 bit (AMD64)]"
        },
        {
         "module": "IPython",
         "version": "7.30.0"
        },
        {
         "module": "OS",
         "version": "Windows 10 10.0.19044 SP0"
        },
        {
         "module": "numpy",
         "version": "1.20.3"
        },
        {
         "module": "scipy",
         "version": "1.7.3"
        },
        {
         "module": "matplotlib",
         "version": "3.4.0"
        },
        {
         "module": "sympy",
         "version": "1.9"
        },
        {
         "module": "version_information",
         "version": "1.0.4"
        }
       ]
      },
      "text/html": [
       "<table><tr><th>Software</th><th>Version</th></tr><tr><td>Python</td><td>3.9.12 64bit [MSC v.1916 64 bit (AMD64)]</td></tr><tr><td>IPython</td><td>7.30.0</td></tr><tr><td>OS</td><td>Windows 10 10.0.19044 SP0</td></tr><tr><td>numpy</td><td>1.20.3</td></tr><tr><td>scipy</td><td>1.7.3</td></tr><tr><td>matplotlib</td><td>3.4.0</td></tr><tr><td>sympy</td><td>1.9</td></tr><tr><td>version_information</td><td>1.0.4</td></tr><tr><td colspan='2'>Sun Oct 09 22:58:20 2022 Hora est. Pacífico, Sudamérica</td></tr></table>"
      ],
      "text/latex": [
       "\\begin{tabular}{|l|l|}\\hline\n",
       "{\\bf Software} & {\\bf Version} \\\\ \\hline\\hline\n",
       "Python & 3.9.12 64bit [MSC v.1916 64 bit (AMD64)] \\\\ \\hline\n",
       "IPython & 7.30.0 \\\\ \\hline\n",
       "OS & Windows 10 10.0.19044 SP0 \\\\ \\hline\n",
       "numpy & 1.20.3 \\\\ \\hline\n",
       "scipy & 1.7.3 \\\\ \\hline\n",
       "matplotlib & 3.4.0 \\\\ \\hline\n",
       "sympy & 1.9 \\\\ \\hline\n",
       "version_information & 1.0.4 \\\\ \\hline\n",
       "\\hline \\multicolumn{2}{|l|}{Sun Oct 09 22:58:20 2022 Hora est. Pacífico, Sudamérica} \\\\ \\hline\n",
       "\\end{tabular}\n"
      ],
      "text/plain": [
       "Software versions\n",
       "Python 3.9.12 64bit [MSC v.1916 64 bit (AMD64)]\n",
       "IPython 7.30.0\n",
       "OS Windows 10 10.0.19044 SP0\n",
       "numpy 1.20.3\n",
       "scipy 1.7.3\n",
       "matplotlib 3.4.0\n",
       "sympy 1.9\n",
       "version_information 1.0.4\n",
       "Sun Oct 09 22:58:20 2022 Hora est. Pacífico, Sudamérica"
      ]
     },
     "execution_count": 32,
     "metadata": {},
     "output_type": "execute_result"
    }
   ],
   "source": [
    "%load_ext version_information\n",
    "\n",
    "%version_information numpy, scipy, matplotlib, sympy, version_information"
   ]
  }
 ],
 "metadata": {
  "kernelspec": {
   "display_name": "Python 3 (ipykernel)",
   "language": "python",
   "name": "python3"
  },
  "language_info": {
   "codemirror_mode": {
    "name": "ipython",
    "version": 3
   },
   "file_extension": ".py",
   "mimetype": "text/x-python",
   "name": "python",
   "nbconvert_exporter": "python",
   "pygments_lexer": "ipython3",
   "version": "3.9.12"
  }
 },
 "nbformat": 4,
 "nbformat_minor": 5
}
