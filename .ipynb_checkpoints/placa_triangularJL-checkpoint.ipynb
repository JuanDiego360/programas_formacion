{
 "cells": [
  {
   "cell_type": "markdown",
   "metadata": {},
   "source": [
    "# placa Triangular"
   ]
  },
  {
   "cell_type": "markdown",
   "metadata": {},
   "source": [
    "This is the Laplace equation in 2-D cartesian coordinates (for heat equation)\n",
    "\n",
    "$$ \\frac{\\partial^2 T}{\\partial^2 x}+\\frac{\\partial^2 T}{\\partial^2 y}=0 $$\n",
    "\n",
    "Where T is temperature, x is x-dimension, and y is y-dimension. x and y are functions of position in Cartesian coordinates.\n",
    "\n",
    "Here, we only need to solve 2-D form of the Laplace equation. The problem to solve is shown below:"
   ]
  },
  {
   "cell_type": "markdown",
   "metadata": {},
   "source": [
    "La ecuación de laplace discretizada queda de la siguiente forma:\n",
    "\n",
    "$$\n",
    "T(x,y)=\\frac{T(x+1,y) + T(x+1,y) + T(x,y+1) + T(x,y+1)}{4}\n",
    "$$\n",
    "\n",
    "importamos las librerias que vamos a necesitar\n"
   ]
  },
  {
   "cell_type": "code",
   "execution_count": 61,
   "metadata": {},
   "outputs": [
    {
     "data": {
      "application/vnd.webio.node+json": {
       "children": [],
       "instanceArgs": {
        "namespace": "html",
        "tag": "div"
       },
       "nodeType": "DOM",
       "props": {},
       "type": "node"
      },
      "text/html": [
       "<div style=\"padding: 1em; background-color: #f8d6da; border: 1px solid #f5c6cb; font-weight: bold;\">\n",
       "<p>The WebIO Jupyter extension was not detected. See the\n",
       "<a href=\"https://juliagizmos.github.io/WebIO.jl/latest/providers/ijulia/\" target=\"_blank\">\n",
       "    WebIO Jupyter integration documentation\n",
       "</a>\n",
       "for more information.\n",
       "</div>\n"
      ],
      "text/plain": [
       "WebIO._IJuliaInit()"
      ]
     },
     "metadata": {},
     "output_type": "display_data"
    },
    {
     "name": "stderr",
     "output_type": "stream",
     "text": [
      "WARNING: using PlotlyJS.plot in module Main conflicts with an existing identifier.\n"
     ]
    }
   ],
   "source": [
    "using LinearAlgebra\n",
    "using Plots\n",
    "using PlotlyJS"
   ]
  },
  {
   "cell_type": "code",
   "execution_count": 2,
   "metadata": {},
   "outputs": [],
   "source": [
    "#preparar la matriz\n",
    "L=7\n",
    "m=Int64((L-1)/2)\n",
    "P=zeros(L-m+1,L)\n",
    "condcon=100\n",
    "for i in (1:(L-m+1))\n",
    "    for j in (1:L)\n",
    "        if(j==(m-i+2) || j==(m+i))\n",
    "            P[i,j]=50\n",
    "        end\n",
    "        if(i==(L-m+1))\n",
    "            P[i,j]=condcon\n",
    "        end\n",
    "    end\n",
    "end\n",
    "guess=30\n",
    "for i in (2:L-m)\n",
    "    for j in (1:L)\n",
    "        if(j>(m-i+2) && j<(m+i))\n",
    "            P[i,j]=guess\n",
    "        end\n",
    "    end\n",
    "end"
   ]
  },
  {
   "cell_type": "code",
   "execution_count": 3,
   "metadata": {},
   "outputs": [
    {
     "name": "stdout",
     "output_type": "stream",
     "text": [
      "Por favor espere un momento, calculando solución\n",
      "Solución calculada\n",
      "el numero de interacciones fueron:15\n"
     ]
    }
   ],
   "source": [
    "target = 1e-3  # Target accuracy\n",
    "\n",
    "# Iteration (We assume that the iteration is convergence in maxIter = 500)\n",
    "cont=1\n",
    "error=1\n",
    "diff=zeros(L-m+1,L)\n",
    "Pcopy=copy(P)\n",
    "Puni=copy(P)\n",
    "println(\"Por favor espere un momento, calculando solución\")\n",
    "while error>target\n",
    "    Pcopy=copy(P)\n",
    "    for i in (2:L-m)\n",
    "        for j in (2:L)\n",
    "            if(j>(m-i+2) && j<(m+i))\n",
    "                    P[i,j]=0.25*(P[i+1,j] + P[i-1,j] + P[i,j+1] + P[i,j-1])\n",
    "            end\n",
    "        end\n",
    "    end\n",
    "                    \n",
    "    for i in (1:L-m)\n",
    "        for j in (1:L)\n",
    "            if(j>(m-i) && j<(m+i))\n",
    "                diff[i,j]=abs(Pcopy[i,j]-P[i,j])\n",
    "            end\n",
    "        end\n",
    "    end\n",
    "    \n",
    "    # percentage=cont/19*100\n",
    "    # print(\"Completado:{} %\".format(round(percentage,2)), end='\\r')\n",
    "    error=maximum(diff)\n",
    "    cont+=1\n",
    "    Puni=[Puni P]\n",
    "end\n",
    "Ttiempo=reshape(Puni,L-m+1,L,:)\n",
    "println(\"Solución calculada\")\n",
    "println(\"el numero de interacciones fueron:\",cont)"
   ]
  },
  {
   "cell_type": "code",
   "execution_count": 59,
   "metadata": {},
   "outputs": [
    {
     "name": "stdout",
     "output_type": "stream",
     "text": [
      "(7, 5)\n",
      "(5,)\n",
      "(7,)\n"
     ]
    }
   ],
   "source": [
    "# colorinterpolation = 100\n",
    "# colourMap = plt.cm.jet\n",
    "\n",
    "# Set meshgrid\n",
    "X = (1:1:L-m+1)\n",
    "Y= (1:1:L)\n",
    "x=last.(Iterators.product(Y,X))\n",
    "y=first.(Iterators.product(Y,X))\n",
    "# X, Y = np.meshgrid(np.arange(0, L-m+1), np.arange(0, L))\n",
    "println(size(transpose(Ttiempo[:,:,cont])))\n",
    "println(size(x[1,:]))\n",
    "println(size(y[:,1]))"
   ]
  },
  {
   "cell_type": "code",
   "execution_count": 63,
   "metadata": {},
   "outputs": [
    {
     "data": {
      "image/svg+xml": [
       "<?xml version=\"1.0\" encoding=\"utf-8\"?>\n",
       "<svg xmlns=\"http://www.w3.org/2000/svg\" xmlns:xlink=\"http://www.w3.org/1999/xlink\" width=\"600\" height=\"400\" viewBox=\"0 0 2400 1600\">\n",
       "<defs>\n",
       "  <clipPath id=\"clip470\">\n",
       "    <rect x=\"0\" y=\"0\" width=\"2400\" height=\"1600\"/>\n",
       "  </clipPath>\n",
       "</defs>\n",
       "<path clip-path=\"url(#clip470)\" d=\"\n",
       "M0 1600 L2400 1600 L2400 0 L0 0  Z\n",
       "  \" fill=\"#ffffff\" fill-rule=\"evenodd\" fill-opacity=\"1\"/>\n",
       "<defs>\n",
       "  <clipPath id=\"clip471\">\n",
       "    <rect x=\"480\" y=\"0\" width=\"1681\" height=\"1600\"/>\n",
       "  </clipPath>\n",
       "</defs>\n",
       "<path clip-path=\"url(#clip470)\" d=\"\n",
       "M112.177 1486.45 L2112.76 1486.45 L2112.76 47.2441 L112.177 47.2441  Z\n",
       "  \" fill=\"#ffffff\" fill-rule=\"evenodd\" fill-opacity=\"1\"/>\n",
       "<defs>\n",
       "  <clipPath id=\"clip472\">\n",
       "    <rect x=\"112\" y=\"47\" width=\"2002\" height=\"1440\"/>\n",
       "  </clipPath>\n",
       "</defs>\n",
       "<polyline clip-path=\"url(#clip472)\" style=\"stroke:#000000; stroke-linecap:round; stroke-linejoin:round; stroke-width:2; stroke-opacity:0.1; fill:none\" points=\"\n",
       "  112.177,1486.45 112.177,47.2441 \n",
       "  \"/>\n",
       "<polyline clip-path=\"url(#clip472)\" style=\"stroke:#000000; stroke-linecap:round; stroke-linejoin:round; stroke-width:2; stroke-opacity:0.1; fill:none\" points=\"\n",
       "  612.322,1486.45 612.322,47.2441 \n",
       "  \"/>\n",
       "<polyline clip-path=\"url(#clip472)\" style=\"stroke:#000000; stroke-linecap:round; stroke-linejoin:round; stroke-width:2; stroke-opacity:0.1; fill:none\" points=\"\n",
       "  1112.47,1486.45 1112.47,47.2441 \n",
       "  \"/>\n",
       "<polyline clip-path=\"url(#clip472)\" style=\"stroke:#000000; stroke-linecap:round; stroke-linejoin:round; stroke-width:2; stroke-opacity:0.1; fill:none\" points=\"\n",
       "  1612.61,1486.45 1612.61,47.2441 \n",
       "  \"/>\n",
       "<polyline clip-path=\"url(#clip472)\" style=\"stroke:#000000; stroke-linecap:round; stroke-linejoin:round; stroke-width:2; stroke-opacity:0.1; fill:none\" points=\"\n",
       "  2112.76,1486.45 2112.76,47.2441 \n",
       "  \"/>\n",
       "<polyline clip-path=\"url(#clip470)\" style=\"stroke:#000000; stroke-linecap:round; stroke-linejoin:round; stroke-width:4; stroke-opacity:1; fill:none\" points=\"\n",
       "  112.177,1486.45 2112.76,1486.45 \n",
       "  \"/>\n",
       "<polyline clip-path=\"url(#clip470)\" style=\"stroke:#000000; stroke-linecap:round; stroke-linejoin:round; stroke-width:4; stroke-opacity:1; fill:none\" points=\"\n",
       "  112.177,1486.45 112.177,1467.55 \n",
       "  \"/>\n",
       "<polyline clip-path=\"url(#clip470)\" style=\"stroke:#000000; stroke-linecap:round; stroke-linejoin:round; stroke-width:4; stroke-opacity:1; fill:none\" points=\"\n",
       "  612.322,1486.45 612.322,1467.55 \n",
       "  \"/>\n",
       "<polyline clip-path=\"url(#clip470)\" style=\"stroke:#000000; stroke-linecap:round; stroke-linejoin:round; stroke-width:4; stroke-opacity:1; fill:none\" points=\"\n",
       "  1112.47,1486.45 1112.47,1467.55 \n",
       "  \"/>\n",
       "<polyline clip-path=\"url(#clip470)\" style=\"stroke:#000000; stroke-linecap:round; stroke-linejoin:round; stroke-width:4; stroke-opacity:1; fill:none\" points=\"\n",
       "  1612.61,1486.45 1612.61,1467.55 \n",
       "  \"/>\n",
       "<polyline clip-path=\"url(#clip470)\" style=\"stroke:#000000; stroke-linecap:round; stroke-linejoin:round; stroke-width:4; stroke-opacity:1; fill:none\" points=\"\n",
       "  2112.76,1486.45 2112.76,1467.55 \n",
       "  \"/>\n",
       "<path clip-path=\"url(#clip470)\" d=\"M102.559 1544.91 L110.198 1544.91 L110.198 1518.55 L101.888 1520.21 L101.888 1515.95 L110.152 1514.29 L114.828 1514.29 L114.828 1544.91 L122.466 1544.91 L122.466 1548.85 L102.559 1548.85 L102.559 1544.91 Z\" fill=\"#000000\" fill-rule=\"evenodd\" fill-opacity=\"1\" /><path clip-path=\"url(#clip470)\" d=\"M606.975 1544.91 L623.294 1544.91 L623.294 1548.85 L601.35 1548.85 L601.35 1544.91 Q604.012 1542.16 608.595 1537.53 Q613.201 1532.88 614.382 1531.53 Q616.627 1529.01 617.507 1527.27 Q618.41 1525.51 618.41 1523.82 Q618.41 1521.07 616.465 1519.33 Q614.544 1517.6 611.442 1517.6 Q609.243 1517.6 606.789 1518.36 Q604.359 1519.13 601.581 1520.68 L601.581 1515.95 Q604.405 1514.82 606.859 1514.24 Q609.313 1513.66 611.35 1513.66 Q616.72 1513.66 619.914 1516.35 Q623.109 1519.03 623.109 1523.52 Q623.109 1525.65 622.299 1527.57 Q621.512 1529.47 619.405 1532.07 Q618.826 1532.74 615.725 1535.95 Q612.623 1539.15 606.975 1544.91 Z\" fill=\"#000000\" fill-rule=\"evenodd\" fill-opacity=\"1\" /><path clip-path=\"url(#clip470)\" d=\"M1116.71 1530.21 Q1120.07 1530.93 1121.95 1533.2 Q1123.84 1535.47 1123.84 1538.8 Q1123.84 1543.92 1120.33 1546.72 Q1116.81 1549.52 1110.33 1549.52 Q1108.15 1549.52 1105.83 1549.08 Q1103.54 1548.66 1101.09 1547.81 L1101.09 1543.29 Q1103.03 1544.43 1105.35 1545.01 Q1107.66 1545.58 1110.19 1545.58 Q1114.58 1545.58 1116.88 1543.85 Q1119.19 1542.11 1119.19 1538.8 Q1119.19 1535.75 1117.04 1534.03 Q1114.91 1532.3 1111.09 1532.3 L1107.06 1532.3 L1107.06 1528.45 L1111.27 1528.45 Q1114.72 1528.45 1116.55 1527.09 Q1118.38 1525.7 1118.38 1523.11 Q1118.38 1520.45 1116.48 1519.03 Q1114.61 1517.6 1111.09 1517.6 Q1109.17 1517.6 1106.97 1518.01 Q1104.77 1518.43 1102.13 1519.31 L1102.13 1515.14 Q1104.79 1514.4 1107.11 1514.03 Q1109.45 1513.66 1111.51 1513.66 Q1116.83 1513.66 1119.93 1516.09 Q1123.03 1518.5 1123.03 1522.62 Q1123.03 1525.49 1121.39 1527.48 Q1119.75 1529.45 1116.71 1530.21 Z\" fill=\"#000000\" fill-rule=\"evenodd\" fill-opacity=\"1\" /><path clip-path=\"url(#clip470)\" d=\"M1615.62 1518.36 L1603.81 1536.81 L1615.62 1536.81 L1615.62 1518.36 M1614.39 1514.29 L1620.27 1514.29 L1620.27 1536.81 L1625.2 1536.81 L1625.2 1540.7 L1620.27 1540.7 L1620.27 1548.85 L1615.62 1548.85 L1615.62 1540.7 L1600.02 1540.7 L1600.02 1536.19 L1614.39 1514.29 Z\" fill=\"#000000\" fill-rule=\"evenodd\" fill-opacity=\"1\" /><path clip-path=\"url(#clip470)\" d=\"M2103.03 1514.29 L2121.39 1514.29 L2121.39 1518.22 L2107.32 1518.22 L2107.32 1526.7 Q2108.33 1526.35 2109.35 1526.19 Q2110.37 1526 2111.39 1526 Q2117.18 1526 2120.56 1529.17 Q2123.94 1532.34 2123.94 1537.76 Q2123.94 1543.34 2120.46 1546.44 Q2116.99 1549.52 2110.67 1549.52 Q2108.5 1549.52 2106.23 1549.15 Q2103.98 1548.78 2101.58 1548.04 L2101.58 1543.34 Q2103.66 1544.47 2105.88 1545.03 Q2108.1 1545.58 2110.58 1545.58 Q2114.58 1545.58 2116.92 1543.48 Q2119.26 1541.37 2119.26 1537.76 Q2119.26 1534.15 2116.92 1532.04 Q2114.58 1529.94 2110.58 1529.94 Q2108.71 1529.94 2106.83 1530.35 Q2104.98 1530.77 2103.03 1531.65 L2103.03 1514.29 Z\" fill=\"#000000\" fill-rule=\"evenodd\" fill-opacity=\"1\" /><polyline clip-path=\"url(#clip472)\" style=\"stroke:#000000; stroke-linecap:round; stroke-linejoin:round; stroke-width:2; stroke-opacity:0.1; fill:none\" points=\"\n",
       "  112.177,1486.45 2112.76,1486.45 \n",
       "  \"/>\n",
       "<polyline clip-path=\"url(#clip472)\" style=\"stroke:#000000; stroke-linecap:round; stroke-linejoin:round; stroke-width:2; stroke-opacity:0.1; fill:none\" points=\"\n",
       "  112.177,1246.58 2112.76,1246.58 \n",
       "  \"/>\n",
       "<polyline clip-path=\"url(#clip472)\" style=\"stroke:#000000; stroke-linecap:round; stroke-linejoin:round; stroke-width:2; stroke-opacity:0.1; fill:none\" points=\"\n",
       "  112.177,1006.71 2112.76,1006.71 \n",
       "  \"/>\n",
       "<polyline clip-path=\"url(#clip472)\" style=\"stroke:#000000; stroke-linecap:round; stroke-linejoin:round; stroke-width:2; stroke-opacity:0.1; fill:none\" points=\"\n",
       "  112.177,766.846 2112.76,766.846 \n",
       "  \"/>\n",
       "<polyline clip-path=\"url(#clip472)\" style=\"stroke:#000000; stroke-linecap:round; stroke-linejoin:round; stroke-width:2; stroke-opacity:0.1; fill:none\" points=\"\n",
       "  112.177,526.979 2112.76,526.979 \n",
       "  \"/>\n",
       "<polyline clip-path=\"url(#clip472)\" style=\"stroke:#000000; stroke-linecap:round; stroke-linejoin:round; stroke-width:2; stroke-opacity:0.1; fill:none\" points=\"\n",
       "  112.177,287.111 2112.76,287.111 \n",
       "  \"/>\n",
       "<polyline clip-path=\"url(#clip472)\" style=\"stroke:#000000; stroke-linecap:round; stroke-linejoin:round; stroke-width:2; stroke-opacity:0.1; fill:none\" points=\"\n",
       "  112.177,47.2441 2112.76,47.2441 \n",
       "  \"/>\n",
       "<polyline clip-path=\"url(#clip470)\" style=\"stroke:#000000; stroke-linecap:round; stroke-linejoin:round; stroke-width:4; stroke-opacity:1; fill:none\" points=\"\n",
       "  112.177,1486.45 112.177,47.2441 \n",
       "  \"/>\n",
       "<polyline clip-path=\"url(#clip470)\" style=\"stroke:#000000; stroke-linecap:round; stroke-linejoin:round; stroke-width:4; stroke-opacity:1; fill:none\" points=\"\n",
       "  112.177,1486.45 129.051,1486.45 \n",
       "  \"/>\n",
       "<polyline clip-path=\"url(#clip470)\" style=\"stroke:#000000; stroke-linecap:round; stroke-linejoin:round; stroke-width:4; stroke-opacity:1; fill:none\" points=\"\n",
       "  112.177,1246.58 129.051,1246.58 \n",
       "  \"/>\n",
       "<polyline clip-path=\"url(#clip470)\" style=\"stroke:#000000; stroke-linecap:round; stroke-linejoin:round; stroke-width:4; stroke-opacity:1; fill:none\" points=\"\n",
       "  112.177,1006.71 129.051,1006.71 \n",
       "  \"/>\n",
       "<polyline clip-path=\"url(#clip470)\" style=\"stroke:#000000; stroke-linecap:round; stroke-linejoin:round; stroke-width:4; stroke-opacity:1; fill:none\" points=\"\n",
       "  112.177,766.846 129.051,766.846 \n",
       "  \"/>\n",
       "<polyline clip-path=\"url(#clip470)\" style=\"stroke:#000000; stroke-linecap:round; stroke-linejoin:round; stroke-width:4; stroke-opacity:1; fill:none\" points=\"\n",
       "  112.177,526.979 129.051,526.979 \n",
       "  \"/>\n",
       "<polyline clip-path=\"url(#clip470)\" style=\"stroke:#000000; stroke-linecap:round; stroke-linejoin:round; stroke-width:4; stroke-opacity:1; fill:none\" points=\"\n",
       "  112.177,287.111 129.051,287.111 \n",
       "  \"/>\n",
       "<polyline clip-path=\"url(#clip470)\" style=\"stroke:#000000; stroke-linecap:round; stroke-linejoin:round; stroke-width:4; stroke-opacity:1; fill:none\" points=\"\n",
       "  112.177,47.2441 129.051,47.2441 \n",
       "  \"/>\n",
       "<path clip-path=\"url(#clip470)\" d=\"M56.2699 1499.79 L63.9087 1499.79 L63.9087 1473.43 L55.5986 1475.09 L55.5986 1470.83 L63.8624 1469.17 L68.5383 1469.17 L68.5383 1499.79 L76.1772 1499.79 L76.1772 1503.73 L56.2699 1503.73 L56.2699 1499.79 Z\" fill=\"#000000\" fill-rule=\"evenodd\" fill-opacity=\"1\" /><path clip-path=\"url(#clip470)\" d=\"M59.8578 1259.93 L76.1772 1259.93 L76.1772 1263.86 L54.2328 1263.86 L54.2328 1259.93 Q56.8949 1257.17 61.4782 1252.54 Q66.0846 1247.89 67.2652 1246.55 Q69.5105 1244.02 70.3902 1242.29 Q71.2929 1240.53 71.2929 1238.84 Q71.2929 1236.08 69.3485 1234.35 Q67.4272 1232.61 64.3254 1232.61 Q62.1263 1232.61 59.6726 1233.37 Q57.2421 1234.14 54.4643 1235.69 L54.4643 1230.97 Q57.2884 1229.83 59.7421 1229.25 Q62.1958 1228.68 64.2328 1228.68 Q69.6031 1228.68 72.7976 1231.36 Q75.992 1234.05 75.992 1238.54 Q75.992 1240.67 75.1818 1242.59 Q74.3948 1244.49 72.2883 1247.08 Q71.7096 1247.75 68.6078 1250.97 Q65.5059 1254.16 59.8578 1259.93 Z\" fill=\"#000000\" fill-rule=\"evenodd\" fill-opacity=\"1\" /><path clip-path=\"url(#clip470)\" d=\"M69.0476 1005.36 Q72.404 1006.08 74.279 1008.35 Q76.1772 1010.61 76.1772 1013.95 Q76.1772 1019.06 72.6587 1021.86 Q69.1402 1024.66 62.6587 1024.66 Q60.4828 1024.66 58.168 1024.22 Q55.8764 1023.81 53.4227 1022.95 L53.4227 1018.44 Q55.3671 1019.57 57.6819 1020.15 Q59.9967 1020.73 62.5198 1020.73 Q66.918 1020.73 69.2096 1018.99 Q71.5244 1017.26 71.5244 1013.95 Q71.5244 1010.89 69.3717 1009.18 Q67.242 1007.44 63.4226 1007.44 L59.3949 1007.44 L59.3949 1003.6 L63.6078 1003.6 Q67.0569 1003.6 68.8855 1002.23 Q70.7142 1000.85 70.7142 998.253 Q70.7142 995.591 68.8161 994.179 Q66.9411 992.743 63.4226 992.743 Q61.5013 992.743 59.3023 993.16 Q57.1032 993.577 54.4643 994.456 L54.4643 990.29 Q57.1264 989.549 59.4412 989.179 Q61.7791 988.808 63.8393 988.808 Q69.1633 988.808 72.2652 991.239 Q75.367 993.646 75.367 997.767 Q75.367 1000.64 73.7235 1002.63 Q72.08 1004.6 69.0476 1005.36 Z\" fill=\"#000000\" fill-rule=\"evenodd\" fill-opacity=\"1\" /><path clip-path=\"url(#clip470)\" d=\"M66.5939 753.64 L54.7884 772.089 L66.5939 772.089 L66.5939 753.64 M65.367 749.566 L71.2466 749.566 L71.2466 772.089 L76.1772 772.089 L76.1772 775.978 L71.2466 775.978 L71.2466 784.126 L66.5939 784.126 L66.5939 775.978 L50.9921 775.978 L50.9921 771.464 L65.367 749.566 Z\" fill=\"#000000\" fill-rule=\"evenodd\" fill-opacity=\"1\" /><path clip-path=\"url(#clip470)\" d=\"M55.2745 509.699 L73.6309 509.699 L73.6309 513.634 L59.5569 513.634 L59.5569 522.106 Q60.5754 521.759 61.5939 521.597 Q62.6124 521.412 63.6309 521.412 Q69.418 521.412 72.7976 524.583 Q76.1772 527.754 76.1772 533.171 Q76.1772 538.749 72.705 541.851 Q69.2328 544.93 62.9134 544.93 Q60.7374 544.93 58.4689 544.56 Q56.2236 544.189 53.8162 543.449 L53.8162 538.749 Q55.8995 539.884 58.1217 540.439 Q60.3439 540.995 62.8208 540.995 Q66.8254 540.995 69.1633 538.888 Q71.5013 536.782 71.5013 533.171 Q71.5013 529.56 69.1633 527.453 Q66.8254 525.347 62.8208 525.347 Q60.9458 525.347 59.0708 525.763 Q57.2189 526.18 55.2745 527.06 L55.2745 509.699 Z\" fill=\"#000000\" fill-rule=\"evenodd\" fill-opacity=\"1\" /><path clip-path=\"url(#clip470)\" d=\"M64.6495 285.248 Q61.5013 285.248 59.6495 287.401 Q57.8208 289.554 57.8208 293.303 Q57.8208 297.03 59.6495 299.206 Q61.5013 301.359 64.6495 301.359 Q67.7976 301.359 69.6263 299.206 Q71.4781 297.03 71.4781 293.303 Q71.4781 289.554 69.6263 287.401 Q67.7976 285.248 64.6495 285.248 M73.9318 270.595 L73.9318 274.855 Q72.1726 274.021 70.367 273.581 Q68.5846 273.142 66.8254 273.142 Q62.1958 273.142 59.7421 276.267 Q57.3115 279.392 56.9643 285.711 Q58.33 283.697 60.3902 282.632 Q62.4504 281.544 64.9272 281.544 Q70.1355 281.544 73.1448 284.716 Q76.1772 287.864 76.1772 293.303 Q76.1772 298.628 73.029 301.845 Q69.8809 305.063 64.6495 305.063 Q58.6541 305.063 55.4828 300.479 Q52.3116 295.873 52.3116 287.146 Q52.3116 278.952 56.2004 274.091 Q60.0893 269.206 66.6402 269.206 Q68.3994 269.206 70.1818 269.554 Q71.9874 269.901 73.9318 270.595 Z\" fill=\"#000000\" fill-rule=\"evenodd\" fill-opacity=\"1\" /><path clip-path=\"url(#clip470)\" d=\"M53.9551 29.9641 L76.1772 29.9641 L76.1772 31.9548 L63.6309 64.5241 L58.7467 64.5241 L70.5522 33.8993 L53.9551 33.8993 L53.9551 29.9641 Z\" fill=\"#000000\" fill-rule=\"evenodd\" fill-opacity=\"1\" /><polyline clip-path=\"url(#clip472)\" style=\"stroke:#090621; stroke-linecap:round; stroke-linejoin:round; stroke-width:4; stroke-opacity:1; fill:none\" points=\"\n",
       "  1174.98,1486.45 1112.47,1456.46 674.84,1246.58 612.322,1216.6 174.695,1006.71 112.177,976.73 \n",
       "  \"/>\n",
       "<polyline clip-path=\"url(#clip472)\" style=\"stroke:#1f0c47; stroke-linecap:round; stroke-linejoin:round; stroke-width:4; stroke-opacity:1; fill:none\" points=\"\n",
       "  112.177,946.746 237.213,1006.71 612.322,1186.61 737.358,1246.58 1112.47,1426.48 1237.5,1486.45 \n",
       "  \"/>\n",
       "<polyline clip-path=\"url(#clip472)\" style=\"stroke:#3b0964; stroke-linecap:round; stroke-linejoin:round; stroke-width:4; stroke-opacity:1; fill:none\" points=\"\n",
       "  1300.02,1486.45 1112.47,1396.5 799.876,1246.58 612.322,1156.63 299.731,1006.71 112.177,916.763 \n",
       "  \"/>\n",
       "<polyline clip-path=\"url(#clip472)\" style=\"stroke:#550f6d; stroke-linecap:round; stroke-linejoin:round; stroke-width:4; stroke-opacity:1; fill:none\" points=\"\n",
       "  112.177,886.78 362.25,1006.71 612.322,1126.65 862.394,1246.58 1112.47,1366.51 1362.54,1486.45 \n",
       "  \"/>\n",
       "<polyline clip-path=\"url(#clip472)\" style=\"stroke:#6e186e; stroke-linecap:round; stroke-linejoin:round; stroke-width:4; stroke-opacity:1; fill:none\" points=\"\n",
       "  1425.06,1486.45 1112.47,1336.53 924.912,1246.58 612.322,1096.66 424.768,1006.71 112.177,856.796 \n",
       "  \"/>\n",
       "<polyline clip-path=\"url(#clip472)\" style=\"stroke:#88216a; stroke-linecap:round; stroke-linejoin:round; stroke-width:4; stroke-opacity:1; fill:none\" points=\"\n",
       "  112.177,826.813 487.286,1006.71 612.322,1066.68 987.43,1246.58 1112.47,1306.55 1487.58,1486.45 \n",
       "  \"/>\n",
       "<polyline clip-path=\"url(#clip472)\" style=\"stroke:#a12b61; stroke-linecap:round; stroke-linejoin:round; stroke-width:4; stroke-opacity:1; fill:none\" points=\"\n",
       "  1550.09,1486.45 1112.47,1276.56 1049.95,1246.58 612.322,1036.7 549.804,1006.71 112.177,796.829 \n",
       "  \"/>\n",
       "<polyline clip-path=\"url(#clip472)\" style=\"stroke:#ba3655; stroke-linecap:round; stroke-linejoin:round; stroke-width:4; stroke-opacity:1; fill:none\" points=\"\n",
       "  112.177,766.846 612.322,1006.71 1112.47,1246.58 1612.61,1486.45 \n",
       "  \"/>\n",
       "<polyline clip-path=\"url(#clip472)\" style=\"stroke:#d04544; stroke-linecap:round; stroke-linejoin:round; stroke-width:4; stroke-opacity:1; fill:none\" points=\"\n",
       "  1612.61,1408.78 1274.42,1246.58 1112.47,1098.29 921.523,1006.71 760.537,766.846 921.511,526.979 1112.47,435.397 1274.42,287.111 1612.61,124.916 \n",
       "  \"/>\n",
       "<polyline clip-path=\"url(#clip472)\" style=\"stroke:#e35832; stroke-linecap:round; stroke-linejoin:round; stroke-width:4; stroke-opacity:1; fill:none\" points=\"\n",
       "  1612.61,202.587 1436.37,287.111 1182.39,526.979 1112.47,710.451 1075.45,766.846 1112.47,823.234 1182.4,1006.71 1436.37,1246.58 1612.61,1331.1 \n",
       "  \"/>\n",
       "<polyline clip-path=\"url(#clip472)\" style=\"stroke:#f0701e; stroke-linecap:round; stroke-linejoin:round; stroke-width:4; stroke-opacity:1; fill:none\" points=\"\n",
       "  1612.61,1253.43 1598.33,1246.58 1365.24,1006.71 1282.99,766.846 1365.23,526.979 1598.32,287.111 1612.61,280.259 \n",
       "  \"/>\n",
       "<polyline clip-path=\"url(#clip472)\" style=\"stroke:#090621; stroke-linecap:round; stroke-linejoin:round; stroke-width:4; stroke-opacity:1; fill:none\" points=\"\n",
       "  1174.98,47.2441 1112.47,77.2275 674.84,287.111 612.322,317.095 174.695,526.979 112.177,556.962 \n",
       "  \"/>\n",
       "<polyline clip-path=\"url(#clip472)\" style=\"stroke:#1f0c47; stroke-linecap:round; stroke-linejoin:round; stroke-width:4; stroke-opacity:1; fill:none\" points=\"\n",
       "  112.177,586.946 237.213,526.979 612.322,347.078 737.358,287.111 1112.47,107.211 1237.5,47.2441 \n",
       "  \"/>\n",
       "<polyline clip-path=\"url(#clip472)\" style=\"stroke:#3b0964; stroke-linecap:round; stroke-linejoin:round; stroke-width:4; stroke-opacity:1; fill:none\" points=\"\n",
       "  1300.02,47.2441 1112.47,137.194 799.876,287.111 612.322,377.062 299.731,526.979 112.177,616.929 \n",
       "  \"/>\n",
       "<polyline clip-path=\"url(#clip472)\" style=\"stroke:#550f6d; stroke-linecap:round; stroke-linejoin:round; stroke-width:4; stroke-opacity:1; fill:none\" points=\"\n",
       "  112.177,646.912 362.25,526.979 612.322,407.045 862.394,287.111 1112.47,167.178 1362.54,47.2441 \n",
       "  \"/>\n",
       "<polyline clip-path=\"url(#clip472)\" style=\"stroke:#6e186e; stroke-linecap:round; stroke-linejoin:round; stroke-width:4; stroke-opacity:1; fill:none\" points=\"\n",
       "  1425.06,47.2441 1112.47,197.161 924.912,287.111 612.322,437.028 424.768,526.979 112.177,676.896 \n",
       "  \"/>\n",
       "<polyline clip-path=\"url(#clip472)\" style=\"stroke:#88216a; stroke-linecap:round; stroke-linejoin:round; stroke-width:4; stroke-opacity:1; fill:none\" points=\"\n",
       "  112.177,706.879 487.286,526.979 612.322,467.012 987.43,287.111 1112.47,227.145 1487.58,47.2441 \n",
       "  \"/>\n",
       "<polyline clip-path=\"url(#clip472)\" style=\"stroke:#a12b61; stroke-linecap:round; stroke-linejoin:round; stroke-width:4; stroke-opacity:1; fill:none\" points=\"\n",
       "  1550.09,47.2441 1112.47,257.128 1049.95,287.111 612.322,496.995 549.804,526.979 112.177,736.863 \n",
       "  \"/>\n",
       "<polyline clip-path=\"url(#clip472)\" style=\"stroke:#ba3655; stroke-linecap:round; stroke-linejoin:round; stroke-width:4; stroke-opacity:1; fill:none\" points=\"\n",
       "  112.177,766.846 612.322,526.979 1112.47,287.111 1612.61,47.2441 \n",
       "  \"/>\n",
       "<polyline clip-path=\"url(#clip472)\" style=\"stroke:#f98c09; stroke-linecap:round; stroke-linejoin:round; stroke-width:4; stroke-opacity:1; fill:none\" points=\"\n",
       "  1612.61,460.044 1548.08,526.979 1476.22,766.846 1548.09,1006.71 1612.61,1073.64 \n",
       "  \"/>\n",
       "<defs>\n",
       "  <clipPath id=\"clip473\">\n",
       "    <rect x=\"2160\" y=\"47\" width=\"73\" height=\"1440\"/>\n",
       "  </clipPath>\n",
       "</defs>\n",
       "<polyline clip-path=\"url(#clip473)\" style=\"stroke:#0a0723; stroke-linecap:round; stroke-linejoin:round; stroke-width:4; stroke-opacity:1; fill:none\" points=\"\n",
       "  2160.76,1396.5 2232.76,1396.5 \n",
       "  \"/>\n",
       "<polyline clip-path=\"url(#clip473)\" style=\"stroke:#200c4a; stroke-linecap:round; stroke-linejoin:round; stroke-width:4; stroke-opacity:1; fill:none\" points=\"\n",
       "  2160.76,1306.55 2232.76,1306.55 \n",
       "  \"/>\n",
       "<polyline clip-path=\"url(#clip473)\" style=\"stroke:#3c0965; stroke-linecap:round; stroke-linejoin:round; stroke-width:4; stroke-opacity:1; fill:none\" points=\"\n",
       "  2160.76,1216.6 2232.76,1216.6 \n",
       "  \"/>\n",
       "<polyline clip-path=\"url(#clip473)\" style=\"stroke:#570f6d; stroke-linecap:round; stroke-linejoin:round; stroke-width:4; stroke-opacity:1; fill:none\" points=\"\n",
       "  2160.76,1126.65 2232.76,1126.65 \n",
       "  \"/>\n",
       "<polyline clip-path=\"url(#clip473)\" style=\"stroke:#70196e; stroke-linecap:round; stroke-linejoin:round; stroke-width:4; stroke-opacity:1; fill:none\" points=\"\n",
       "  2160.76,1036.7 2232.76,1036.7 \n",
       "  \"/>\n",
       "<polyline clip-path=\"url(#clip473)\" style=\"stroke:#892269; stroke-linecap:round; stroke-linejoin:round; stroke-width:4; stroke-opacity:1; fill:none\" points=\"\n",
       "  2160.76,946.746 2232.76,946.746 \n",
       "  \"/>\n",
       "<polyline clip-path=\"url(#clip473)\" style=\"stroke:#a32b61; stroke-linecap:round; stroke-linejoin:round; stroke-width:4; stroke-opacity:1; fill:none\" points=\"\n",
       "  2160.76,856.796 2232.76,856.796 \n",
       "  \"/>\n",
       "<polyline clip-path=\"url(#clip473)\" style=\"stroke:#bb3754; stroke-linecap:round; stroke-linejoin:round; stroke-width:4; stroke-opacity:1; fill:none\" points=\"\n",
       "  2160.76,766.846 2232.76,766.846 \n",
       "  \"/>\n",
       "<polyline clip-path=\"url(#clip473)\" style=\"stroke:#d04544; stroke-linecap:round; stroke-linejoin:round; stroke-width:4; stroke-opacity:1; fill:none\" points=\"\n",
       "  2160.76,676.896 2232.76,676.896 \n",
       "  \"/>\n",
       "<polyline clip-path=\"url(#clip473)\" style=\"stroke:#e35832; stroke-linecap:round; stroke-linejoin:round; stroke-width:4; stroke-opacity:1; fill:none\" points=\"\n",
       "  2160.76,586.946 2232.76,586.946 \n",
       "  \"/>\n",
       "<polyline clip-path=\"url(#clip473)\" style=\"stroke:#f0701e; stroke-linecap:round; stroke-linejoin:round; stroke-width:4; stroke-opacity:1; fill:none\" points=\"\n",
       "  2160.76,496.995 2232.76,496.995 \n",
       "  \"/>\n",
       "<polyline clip-path=\"url(#clip473)\" style=\"stroke:#f98c09; stroke-linecap:round; stroke-linejoin:round; stroke-width:4; stroke-opacity:1; fill:none\" points=\"\n",
       "  2160.76,407.045 2232.76,407.045 \n",
       "  \"/>\n",
       "<polyline clip-path=\"url(#clip473)\" style=\"stroke:#fbaa0e; stroke-linecap:round; stroke-linejoin:round; stroke-width:4; stroke-opacity:1; fill:none\" points=\"\n",
       "  2160.76,317.095 2232.76,317.095 \n",
       "  \"/>\n",
       "<polyline clip-path=\"url(#clip473)\" style=\"stroke:#f8c931; stroke-linecap:round; stroke-linejoin:round; stroke-width:4; stroke-opacity:1; fill:none\" points=\"\n",
       "  2160.76,227.145 2232.76,227.145 \n",
       "  \"/>\n",
       "<polyline clip-path=\"url(#clip473)\" style=\"stroke:#f1e864; stroke-linecap:round; stroke-linejoin:round; stroke-width:4; stroke-opacity:1; fill:none\" points=\"\n",
       "  2160.76,137.194 2232.76,137.194 \n",
       "  \"/>\n",
       "<path clip-path=\"url(#clip470)\" d=\"M2280.7 1468.62 Q2277.09 1468.62 2275.26 1472.18 Q2273.45 1475.72 2273.45 1482.85 Q2273.45 1489.96 2275.26 1493.53 Q2277.09 1497.07 2280.7 1497.07 Q2284.33 1497.07 2286.14 1493.53 Q2287.97 1489.96 2287.97 1482.85 Q2287.97 1475.72 2286.14 1472.18 Q2284.33 1468.62 2280.7 1468.62 M2280.7 1464.91 Q2286.51 1464.91 2289.57 1469.52 Q2292.64 1474.1 2292.64 1482.85 Q2292.64 1491.58 2289.57 1496.19 Q2286.51 1500.77 2280.7 1500.77 Q2274.89 1500.77 2271.81 1496.19 Q2268.76 1491.58 2268.76 1482.85 Q2268.76 1474.1 2271.81 1469.52 Q2274.89 1464.91 2280.7 1464.91 Z\" fill=\"#000000\" fill-rule=\"evenodd\" fill-opacity=\"1\" /><path clip-path=\"url(#clip470)\" d=\"M2269.43 1352.24 L2277.07 1352.24 L2277.07 1325.88 L2268.76 1327.54 L2268.76 1323.29 L2277.02 1321.62 L2281.7 1321.62 L2281.7 1352.24 L2289.33 1352.24 L2289.33 1356.18 L2269.43 1356.18 L2269.43 1352.24 Z\" fill=\"#000000\" fill-rule=\"evenodd\" fill-opacity=\"1\" /><path clip-path=\"url(#clip470)\" d=\"M2308.78 1324.7 Q2305.17 1324.7 2303.34 1328.26 Q2301.53 1331.8 2301.53 1338.93 Q2301.53 1346.04 2303.34 1349.6 Q2305.17 1353.15 2308.78 1353.15 Q2312.41 1353.15 2314.22 1349.6 Q2316.05 1346.04 2316.05 1338.93 Q2316.05 1331.8 2314.22 1328.26 Q2312.41 1324.7 2308.78 1324.7 M2308.78 1320.99 Q2314.59 1320.99 2317.64 1325.6 Q2320.72 1330.18 2320.72 1338.93 Q2320.72 1347.66 2317.64 1352.27 Q2314.59 1356.85 2308.78 1356.85 Q2302.97 1356.85 2299.89 1352.27 Q2296.83 1347.66 2296.83 1338.93 Q2296.83 1330.18 2299.89 1325.6 Q2302.97 1320.99 2308.78 1320.99 Z\" fill=\"#000000\" fill-rule=\"evenodd\" fill-opacity=\"1\" /><path clip-path=\"url(#clip470)\" d=\"M2274.38 1208.32 L2290.7 1208.32 L2290.7 1212.26 L2268.76 1212.26 L2268.76 1208.32 Q2271.42 1205.57 2276 1200.94 Q2280.61 1196.29 2281.79 1194.94 Q2284.03 1192.42 2284.91 1190.68 Q2285.82 1188.93 2285.82 1187.24 Q2285.82 1184.48 2283.87 1182.74 Q2281.95 1181.01 2278.85 1181.01 Q2276.65 1181.01 2274.2 1181.77 Q2271.77 1182.54 2268.99 1184.09 L2268.99 1179.36 Q2271.81 1178.23 2274.27 1177.65 Q2276.72 1177.07 2278.76 1177.07 Q2284.13 1177.07 2287.32 1179.76 Q2290.52 1182.44 2290.52 1186.93 Q2290.52 1189.06 2289.7 1190.99 Q2288.92 1192.88 2286.81 1195.48 Q2286.23 1196.15 2283.13 1199.36 Q2280.03 1202.56 2274.38 1208.32 Z\" fill=\"#000000\" fill-rule=\"evenodd\" fill-opacity=\"1\" /><path clip-path=\"url(#clip470)\" d=\"M2310.51 1180.78 Q2306.9 1180.78 2305.08 1184.34 Q2303.27 1187.88 2303.27 1195.01 Q2303.27 1202.12 2305.08 1205.68 Q2306.9 1209.23 2310.51 1209.23 Q2314.15 1209.23 2315.95 1205.68 Q2317.78 1202.12 2317.78 1195.01 Q2317.78 1187.88 2315.95 1184.34 Q2314.15 1180.78 2310.51 1180.78 M2310.51 1177.07 Q2316.33 1177.07 2319.38 1181.68 Q2322.46 1186.26 2322.46 1195.01 Q2322.46 1203.74 2319.38 1208.35 Q2316.33 1212.93 2310.51 1212.93 Q2304.7 1212.93 2301.63 1208.35 Q2298.57 1203.74 2298.57 1195.01 Q2298.57 1186.26 2301.63 1181.68 Q2304.7 1177.07 2310.51 1177.07 Z\" fill=\"#000000\" fill-rule=\"evenodd\" fill-opacity=\"1\" /><path clip-path=\"url(#clip470)\" d=\"M2284.38 1049.7 Q2287.74 1050.42 2289.61 1052.69 Q2291.51 1054.96 2291.51 1058.29 Q2291.51 1063.41 2287.99 1066.21 Q2284.47 1069.01 2277.99 1069.01 Q2275.82 1069.01 2273.5 1068.57 Q2271.21 1068.15 2268.76 1067.3 L2268.76 1062.78 Q2270.7 1063.92 2273.02 1064.5 Q2275.33 1065.07 2277.85 1065.07 Q2282.25 1065.07 2284.54 1063.34 Q2286.86 1061.6 2286.86 1058.29 Q2286.86 1055.24 2284.7 1053.52 Q2282.58 1051.79 2278.76 1051.79 L2274.73 1051.79 L2274.73 1047.94 L2278.94 1047.94 Q2282.39 1047.94 2284.22 1046.58 Q2286.05 1045.19 2286.05 1042.6 Q2286.05 1039.94 2284.15 1038.52 Q2282.27 1037.09 2278.76 1037.09 Q2276.83 1037.09 2274.64 1037.5 Q2272.44 1037.92 2269.8 1038.8 L2269.8 1034.63 Q2272.46 1033.89 2274.77 1033.52 Q2277.11 1033.15 2279.17 1033.15 Q2284.5 1033.15 2287.6 1035.58 Q2290.7 1037.99 2290.7 1042.11 Q2290.7 1044.98 2289.06 1046.97 Q2287.41 1048.94 2284.38 1049.7 Z\" fill=\"#000000\" fill-rule=\"evenodd\" fill-opacity=\"1\" /><path clip-path=\"url(#clip470)\" d=\"M2310.38 1036.86 Q2306.76 1036.86 2304.94 1040.42 Q2303.13 1043.96 2303.13 1051.09 Q2303.13 1058.2 2304.94 1061.76 Q2306.76 1065.31 2310.38 1065.31 Q2314.01 1065.31 2315.82 1061.76 Q2317.64 1058.2 2317.64 1051.09 Q2317.64 1043.96 2315.82 1040.42 Q2314.01 1036.86 2310.38 1036.86 M2310.38 1033.15 Q2316.19 1033.15 2319.24 1037.76 Q2322.32 1042.34 2322.32 1051.09 Q2322.32 1059.82 2319.24 1064.43 Q2316.19 1069.01 2310.38 1069.01 Q2304.57 1069.01 2301.49 1064.43 Q2298.43 1059.82 2298.43 1051.09 Q2298.43 1042.34 2301.49 1037.76 Q2304.57 1033.15 2310.38 1033.15 Z\" fill=\"#000000\" fill-rule=\"evenodd\" fill-opacity=\"1\" /><path clip-path=\"url(#clip470)\" d=\"M2284.36 893.932 L2272.55 912.381 L2284.36 912.381 L2284.36 893.932 M2283.13 889.858 L2289.01 889.858 L2289.01 912.381 L2293.94 912.381 L2293.94 916.269 L2289.01 916.269 L2289.01 924.418 L2284.36 924.418 L2284.36 916.269 L2268.76 916.269 L2268.76 911.756 L2283.13 889.858 Z\" fill=\"#000000\" fill-rule=\"evenodd\" fill-opacity=\"1\" /><path clip-path=\"url(#clip470)\" d=\"M2311.67 892.936 Q2308.06 892.936 2306.23 896.501 Q2304.43 900.043 2304.43 907.172 Q2304.43 914.279 2306.23 917.844 Q2308.06 921.385 2311.67 921.385 Q2315.31 921.385 2317.11 917.844 Q2318.94 914.279 2318.94 907.172 Q2318.94 900.043 2317.11 896.501 Q2315.31 892.936 2311.67 892.936 M2311.67 889.233 Q2317.48 889.233 2320.54 893.839 Q2323.62 898.422 2323.62 907.172 Q2323.62 915.899 2320.54 920.506 Q2317.48 925.089 2311.67 925.089 Q2305.86 925.089 2302.78 920.506 Q2299.73 915.899 2299.73 907.172 Q2299.73 898.422 2302.78 893.839 Q2305.86 889.233 2311.67 889.233 Z\" fill=\"#000000\" fill-rule=\"evenodd\" fill-opacity=\"1\" /><path clip-path=\"url(#clip470)\" d=\"M2270.21 745.937 L2288.57 745.937 L2288.57 749.872 L2274.5 749.872 L2274.5 758.345 Q2275.52 757.997 2276.53 757.835 Q2277.55 757.65 2278.57 757.65 Q2284.36 757.65 2287.74 760.821 Q2291.12 763.993 2291.12 769.409 Q2291.12 774.988 2287.64 778.09 Q2284.17 781.168 2277.85 781.168 Q2275.68 781.168 2273.41 780.798 Q2271.16 780.428 2268.76 779.687 L2268.76 774.988 Q2270.84 776.122 2273.06 776.678 Q2275.28 777.233 2277.76 777.233 Q2281.77 777.233 2284.1 775.127 Q2286.44 773.02 2286.44 769.409 Q2286.44 765.798 2284.1 763.692 Q2281.77 761.585 2277.76 761.585 Q2275.89 761.585 2274.01 762.002 Q2272.16 762.419 2270.21 763.298 L2270.21 745.937 Z\" fill=\"#000000\" fill-rule=\"evenodd\" fill-opacity=\"1\" /><path clip-path=\"url(#clip470)\" d=\"M2310.33 749.016 Q2306.72 749.016 2304.89 752.581 Q2303.08 756.122 2303.08 763.252 Q2303.08 770.358 2304.89 773.923 Q2306.72 777.465 2310.33 777.465 Q2313.96 777.465 2315.77 773.923 Q2317.6 770.358 2317.6 763.252 Q2317.6 756.122 2315.77 752.581 Q2313.96 749.016 2310.33 749.016 M2310.33 745.312 Q2316.14 745.312 2319.2 749.919 Q2322.27 754.502 2322.27 763.252 Q2322.27 771.979 2319.2 776.585 Q2316.14 781.168 2310.33 781.168 Q2304.52 781.168 2301.44 776.585 Q2298.39 771.979 2298.39 763.252 Q2298.39 754.502 2301.44 749.919 Q2304.52 745.312 2310.33 745.312 Z\" fill=\"#000000\" fill-rule=\"evenodd\" fill-opacity=\"1\" /><path clip-path=\"url(#clip470)\" d=\"M2281.09 617.433 Q2277.95 617.433 2276.09 619.586 Q2274.27 621.739 2274.27 625.489 Q2274.27 629.216 2276.09 631.392 Q2277.95 633.544 2281.09 633.544 Q2284.24 633.544 2286.07 631.392 Q2287.92 629.216 2287.92 625.489 Q2287.92 621.739 2286.07 619.586 Q2284.24 617.433 2281.09 617.433 M2290.38 602.781 L2290.38 607.04 Q2288.62 606.207 2286.81 605.767 Q2285.03 605.327 2283.27 605.327 Q2278.64 605.327 2276.19 608.452 Q2273.76 611.577 2273.41 617.896 Q2274.77 615.882 2276.83 614.818 Q2278.89 613.73 2281.37 613.73 Q2286.58 613.73 2289.59 616.901 Q2292.62 620.049 2292.62 625.489 Q2292.62 630.813 2289.47 634.031 Q2286.33 637.248 2281.09 637.248 Q2275.1 637.248 2271.93 632.665 Q2268.76 628.058 2268.76 619.332 Q2268.76 611.137 2272.64 606.276 Q2276.53 601.392 2283.08 601.392 Q2284.84 601.392 2286.63 601.739 Q2288.43 602.086 2290.38 602.781 Z\" fill=\"#000000\" fill-rule=\"evenodd\" fill-opacity=\"1\" /><path clip-path=\"url(#clip470)\" d=\"M2310.68 605.095 Q2307.07 605.095 2305.24 608.66 Q2303.43 612.202 2303.43 619.332 Q2303.43 626.438 2305.24 630.003 Q2307.07 633.544 2310.68 633.544 Q2314.31 633.544 2316.12 630.003 Q2317.95 626.438 2317.95 619.332 Q2317.95 612.202 2316.12 608.66 Q2314.31 605.095 2310.68 605.095 M2310.68 601.392 Q2316.49 601.392 2319.54 605.998 Q2322.62 610.582 2322.62 619.332 Q2322.62 628.058 2319.54 632.665 Q2316.49 637.248 2310.68 637.248 Q2304.87 637.248 2301.79 632.665 Q2298.73 628.058 2298.73 619.332 Q2298.73 610.582 2301.79 605.998 Q2304.87 601.392 2310.68 601.392 Z\" fill=\"#000000\" fill-rule=\"evenodd\" fill-opacity=\"1\" /><path clip-path=\"url(#clip470)\" d=\"M2268.76 458.096 L2290.98 458.096 L2290.98 460.087 L2278.43 492.656 L2273.55 492.656 L2285.35 462.032 L2268.76 462.032 L2268.76 458.096 Z\" fill=\"#000000\" fill-rule=\"evenodd\" fill-opacity=\"1\" /><path clip-path=\"url(#clip470)\" d=\"M2310.1 461.175 Q2306.49 461.175 2304.66 464.74 Q2302.85 468.282 2302.85 475.411 Q2302.85 482.518 2304.66 486.082 Q2306.49 489.624 2310.1 489.624 Q2313.73 489.624 2315.54 486.082 Q2317.37 482.518 2317.37 475.411 Q2317.37 468.282 2315.54 464.74 Q2313.73 461.175 2310.1 461.175 M2310.1 457.471 Q2315.91 457.471 2318.96 462.078 Q2322.04 466.661 2322.04 475.411 Q2322.04 484.138 2318.96 488.744 Q2315.91 493.328 2310.1 493.328 Q2304.29 493.328 2301.21 488.744 Q2298.15 484.138 2298.15 475.411 Q2298.15 466.661 2301.21 462.078 Q2304.29 457.471 2310.1 457.471 Z\" fill=\"#000000\" fill-rule=\"evenodd\" fill-opacity=\"1\" /><path clip-path=\"url(#clip470)\" d=\"M2280.61 332.324 Q2277.27 332.324 2275.35 334.106 Q2273.45 335.889 2273.45 339.014 Q2273.45 342.139 2275.35 343.921 Q2277.27 345.704 2280.61 345.704 Q2283.94 345.704 2285.86 343.921 Q2287.78 342.116 2287.78 339.014 Q2287.78 335.889 2285.86 334.106 Q2283.96 332.324 2280.61 332.324 M2275.93 330.333 Q2272.92 329.593 2271.23 327.532 Q2269.57 325.472 2269.57 322.509 Q2269.57 318.366 2272.51 315.958 Q2275.47 313.551 2280.61 313.551 Q2285.77 313.551 2288.71 315.958 Q2291.65 318.366 2291.65 322.509 Q2291.65 325.472 2289.96 327.532 Q2288.29 329.593 2285.31 330.333 Q2288.69 331.12 2290.56 333.412 Q2292.46 335.704 2292.46 339.014 Q2292.46 344.037 2289.38 346.722 Q2286.33 349.407 2280.61 349.407 Q2274.89 349.407 2271.81 346.722 Q2268.76 344.037 2268.76 339.014 Q2268.76 335.704 2270.65 333.412 Q2272.55 331.12 2275.93 330.333 M2274.22 322.949 Q2274.22 325.634 2275.89 327.139 Q2277.58 328.644 2280.61 328.644 Q2283.62 328.644 2285.31 327.139 Q2287.02 325.634 2287.02 322.949 Q2287.02 320.264 2285.31 318.759 Q2283.62 317.255 2280.61 317.255 Q2277.58 317.255 2275.89 318.759 Q2274.22 320.264 2274.22 322.949 Z\" fill=\"#000000\" fill-rule=\"evenodd\" fill-opacity=\"1\" /><path clip-path=\"url(#clip470)\" d=\"M2310.77 317.255 Q2307.16 317.255 2305.33 320.82 Q2303.52 324.361 2303.52 331.491 Q2303.52 338.597 2305.33 342.162 Q2307.16 345.704 2310.77 345.704 Q2314.4 345.704 2316.21 342.162 Q2318.04 338.597 2318.04 331.491 Q2318.04 324.361 2316.21 320.82 Q2314.4 317.255 2310.77 317.255 M2310.77 313.551 Q2316.58 313.551 2319.64 318.158 Q2322.71 322.741 2322.71 331.491 Q2322.71 340.218 2319.64 344.824 Q2316.58 349.407 2310.77 349.407 Q2304.96 349.407 2301.88 344.824 Q2298.83 340.218 2298.83 331.491 Q2298.83 322.741 2301.88 318.158 Q2304.96 313.551 2310.77 313.551 Z\" fill=\"#000000\" fill-rule=\"evenodd\" fill-opacity=\"1\" /><path clip-path=\"url(#clip470)\" d=\"M2270.98 204.098 L2270.98 199.839 Q2272.74 200.672 2274.54 201.112 Q2276.35 201.552 2278.08 201.552 Q2282.71 201.552 2285.14 198.45 Q2287.6 195.325 2287.95 188.982 Q2286.6 190.973 2284.54 192.038 Q2282.48 193.103 2279.98 193.103 Q2274.8 193.103 2271.77 189.978 Q2268.76 186.83 2268.76 181.39 Q2268.76 176.066 2271.9 172.848 Q2275.05 169.631 2280.28 169.631 Q2286.28 169.631 2289.43 174.237 Q2292.6 178.82 2292.6 187.57 Q2292.6 195.742 2288.71 200.626 Q2284.84 205.487 2278.29 205.487 Q2276.53 205.487 2274.73 205.14 Q2272.92 204.793 2270.98 204.098 M2280.28 189.445 Q2283.43 189.445 2285.26 187.293 Q2287.11 185.14 2287.11 181.39 Q2287.11 177.663 2285.26 175.51 Q2283.43 173.334 2280.28 173.334 Q2277.14 173.334 2275.28 175.51 Q2273.45 177.663 2273.45 181.39 Q2273.45 185.14 2275.28 187.293 Q2277.14 189.445 2280.28 189.445 Z\" fill=\"#000000\" fill-rule=\"evenodd\" fill-opacity=\"1\" /><path clip-path=\"url(#clip470)\" d=\"M2311 173.334 Q2307.39 173.334 2305.56 176.899 Q2303.76 180.441 2303.76 187.57 Q2303.76 194.677 2305.56 198.242 Q2307.39 201.783 2311 201.783 Q2314.64 201.783 2316.44 198.242 Q2318.27 194.677 2318.27 187.57 Q2318.27 180.441 2316.44 176.899 Q2314.64 173.334 2311 173.334 M2311 169.631 Q2316.81 169.631 2319.87 174.237 Q2322.95 178.82 2322.95 187.57 Q2322.95 196.297 2319.87 200.904 Q2316.81 205.487 2311 205.487 Q2305.19 205.487 2302.11 200.904 Q2299.06 196.297 2299.06 187.57 Q2299.06 178.82 2302.11 174.237 Q2305.19 169.631 2311 169.631 Z\" fill=\"#000000\" fill-rule=\"evenodd\" fill-opacity=\"1\" /><path clip-path=\"url(#clip470)\" d=\"M2269.43 56.9601 L2277.07 56.9601 L2277.07 30.5945 L2268.76 32.2612 L2268.76 28.002 L2277.02 26.3353 L2281.7 26.3353 L2281.7 56.9601 L2289.33 56.9601 L2289.33 60.8953 L2269.43 60.8953 L2269.43 56.9601 Z\" fill=\"#000000\" fill-rule=\"evenodd\" fill-opacity=\"1\" /><path clip-path=\"url(#clip470)\" d=\"M2308.78 29.414 Q2305.17 29.414 2303.34 32.9788 Q2301.53 36.5204 2301.53 43.65 Q2301.53 50.7565 2303.34 54.3213 Q2305.17 57.8629 2308.78 57.8629 Q2312.41 57.8629 2314.22 54.3213 Q2316.05 50.7565 2316.05 43.65 Q2316.05 36.5204 2314.22 32.9788 Q2312.41 29.414 2308.78 29.414 M2308.78 25.7103 Q2314.59 25.7103 2317.64 30.3168 Q2320.72 34.9001 2320.72 43.65 Q2320.72 52.3768 2317.64 56.9833 Q2314.59 61.5666 2308.78 61.5666 Q2302.97 61.5666 2299.89 56.9833 Q2296.83 52.3768 2296.83 43.65 Q2296.83 34.9001 2299.89 30.3168 Q2302.97 25.7103 2308.78 25.7103 Z\" fill=\"#000000\" fill-rule=\"evenodd\" fill-opacity=\"1\" /><path clip-path=\"url(#clip470)\" d=\"M2338.94 29.414 Q2335.33 29.414 2333.5 32.9788 Q2331.7 36.5204 2331.7 43.65 Q2331.7 50.7565 2333.5 54.3213 Q2335.33 57.8629 2338.94 57.8629 Q2342.57 57.8629 2344.38 54.3213 Q2346.21 50.7565 2346.21 43.65 Q2346.21 36.5204 2344.38 32.9788 Q2342.57 29.414 2338.94 29.414 M2338.94 25.7103 Q2344.75 25.7103 2347.81 30.3168 Q2350.89 34.9001 2350.89 43.65 Q2350.89 52.3768 2347.81 56.9833 Q2344.75 61.5666 2338.94 61.5666 Q2333.13 61.5666 2330.05 56.9833 Q2327 52.3768 2327 43.65 Q2327 34.9001 2330.05 30.3168 Q2333.13 25.7103 2338.94 25.7103 Z\" fill=\"#000000\" fill-rule=\"evenodd\" fill-opacity=\"1\" /><polyline clip-path=\"url(#clip470)\" style=\"stroke:#000000; stroke-linecap:round; stroke-linejoin:round; stroke-width:4; stroke-opacity:1; fill:none\" points=\"\n",
       "  2232.76,1486.45 2232.76,1486.45 2256.76,1486.45 2232.76,1486.45 2232.76,1342.53 2256.76,1342.53 2232.76,1342.53 2232.76,1198.61 2256.76,1198.61 2232.76,1198.61 \n",
       "  2232.76,1054.69 2256.76,1054.69 2232.76,1054.69 2232.76,910.766 2256.76,910.766 2232.76,910.766 2232.76,766.846 2256.76,766.846 2232.76,766.846 2232.76,622.926 \n",
       "  2256.76,622.926 2232.76,622.926 2232.76,479.005 2256.76,479.005 2232.76,479.005 2232.76,335.085 2256.76,335.085 2232.76,335.085 2232.76,191.164 2256.76,191.164 \n",
       "  2232.76,191.164 2232.76,47.2441 2256.76,47.2441 2232.76,47.2441 \n",
       "  \"/>\n",
       "</svg>\n"
      ]
     },
     "execution_count": 63,
     "metadata": {},
     "output_type": "execute_result"
    }
   ],
   "source": [
    "title!(\"placa Triangular\")\n",
    "contour(x[1,:],y[:,1],transpose(Ttiempo[:,:,cont]))"
   ]
  },
  {
   "cell_type": "code",
   "execution_count": 6,
   "metadata": {},
   "outputs": [],
   "source": [
    "# acelerar simulación\n",
    "tam=Int64((cont+1)*1/3)\n",
    "Ttimpoac=zeros(L-m+1,L,tam)\n",
    "for i in (1:tam)\n",
    "    Ttimpoac[:,:,i]=Ttiempo[:,:,i*Int64((cont+1)/tam)]\n",
    "end"
   ]
  },
  {
   "cell_type": "code",
   "execution_count": 14,
   "metadata": {},
   "outputs": [
    {
     "data": {
      "image/png": "[encoded data removed]",
      "text/plain": [
       "Figure(PyObject <Figure size 640x480 with 1 Axes>)"
      ]
     },
     "metadata": {},
     "output_type": "display_data"
    }
   ],
   "source": [
    "#simulación\n",
    "fig3=plt.figure()\n",
    "ax=fig3.gca()\n",
    "function puntoapunto(i)\n",
    "    ax.clear()\n",
    "    plt.title(\"placa triangular\")\n",
    "    plt.contourf(Y,X,transpose(Ttimpoac[:,:,i]), colorinterpolation, cmap=colourMap)\n",
    "end\n",
    "\n",
    "ani=animation.FuncAnimation(fig3, puntoapunto, tam)\n",
    "# ani.save(\"Gradiente_de_laplaca_triangular.mp4\", writer=\"ffmpeg\")\n",
    "plt.show()"
   ]
  },
  {
   "cell_type": "code",
   "execution_count": 11,
   "metadata": {},
   "outputs": [
    {
     "data": {
      "text/latex": [
       "The analogue of IPython's \\texttt{\\%matplotlib} in Julia is to use the \\href{https://github.com/stevengj/PyPlot.jl}{PyPlot package}, which gives a Julia interface to Matplotlib including inline plots in IJulia notebooks.   (The equivalent of \\texttt{numpy} is already loaded by default in Julia.)\n",
       "\n",
       "Given PyPlot, the analogue of \\texttt{\\%matplotlib inline} is \\texttt{using PyPlot}, since PyPlot defaults to inline plots in IJulia.\n",
       "\n",
       "To enable separate GUI windows in PyPlot, analogous to \\texttt{\\%matplotlib}, do \\texttt{using PyPlot; pygui(true)}.   To specify a particular gui backend, analogous to \\texttt{\\%matplotlib gui}, you can either do \\texttt{using PyPlot; pygui(:gui); using PyPlot; pygui(true)} (where \\texttt{gui} is \\texttt{wx}, \\texttt{qt}, \\texttt{tk}, or \\texttt{gtk}), or you can do \\texttt{ENV[\"MPLBACKEND\"]=backend; using PyPlot; pygui(true)} (where \\texttt{backend} is the name of a Matplotlib backend, like \\texttt{tkagg}).\n",
       "\n",
       "For more options, see the PyPlot documentation.\n",
       "\n"
      ],
      "text/markdown": [
       "The analogue of IPython's `%matplotlib` in Julia is to use the [PyPlot package](https://github.com/stevengj/PyPlot.jl), which gives a Julia interface to Matplotlib including inline plots in IJulia notebooks.   (The equivalent of `numpy` is already loaded by default in Julia.)\n",
       "\n",
       "Given PyPlot, the analogue of `%matplotlib inline` is `using PyPlot`, since PyPlot defaults to inline plots in IJulia.\n",
       "\n",
       "To enable separate GUI windows in PyPlot, analogous to `%matplotlib`, do `using PyPlot; pygui(true)`.   To specify a particular gui backend, analogous to `%matplotlib gui`, you can either do `using PyPlot; pygui(:gui); using PyPlot; pygui(true)` (where `gui` is `wx`, `qt`, `tk`, or `gtk`), or you can do `ENV[\"MPLBACKEND\"]=backend; using PyPlot; pygui(true)` (where `backend` is the name of a Matplotlib backend, like `tkagg`).\n",
       "\n",
       "For more options, see the PyPlot documentation.\n"
      ],
      "text/plain": [
       "  The analogue of IPython's \u001b[36m%matplotlib\u001b[39m in Julia is to use the PyPlot package\n",
       "  (https://github.com/stevengj/PyPlot.jl), which gives a Julia interface to\n",
       "  Matplotlib including inline plots in IJulia notebooks. (The equivalent of\n",
       "  \u001b[36mnumpy\u001b[39m is already loaded by default in Julia.)\n",
       "\n",
       "  Given PyPlot, the analogue of \u001b[36m%matplotlib inline\u001b[39m is \u001b[36musing PyPlot\u001b[39m, since\n",
       "  PyPlot defaults to inline plots in IJulia.\n",
       "\n",
       "  To enable separate GUI windows in PyPlot, analogous to \u001b[36m%matplotlib\u001b[39m, do \u001b[36musing\n",
       "  PyPlot; pygui(true)\u001b[39m. To specify a particular gui backend, analogous to\n",
       "  \u001b[36m%matplotlib gui\u001b[39m, you can either do \u001b[36musing PyPlot; pygui(:gui); using PyPlot;\n",
       "  pygui(true)\u001b[39m (where \u001b[36mgui\u001b[39m is \u001b[36mwx\u001b[39m, \u001b[36mqt\u001b[39m, \u001b[36mtk\u001b[39m, or \u001b[36mgtk\u001b[39m), or you can do\n",
       "  \u001b[36mENV[\"MPLBACKEND\"]=backend; using PyPlot; pygui(true)\u001b[39m (where \u001b[36mbackend\u001b[39m is the\n",
       "  name of a Matplotlib backend, like \u001b[36mtkagg\u001b[39m).\n",
       "\n",
       "  For more options, see the PyPlot documentation."
      ]
     },
     "metadata": {},
     "output_type": "display_data"
    }
   ],
   "source": [
    "%matplotlib inline"
   ]
  }
 ],
 "metadata": {
  "kernelspec": {
   "display_name": "Julia 1.8.2",
   "language": "julia",
   "name": "julia-1.8"
  },
  "language_info": {
   "file_extension": ".jl",
   "mimetype": "application/julia",
   "name": "julia",
   "version": "1.8.2"
  },
  "vscode": {
   "interpreter": {
    "hash": "ad2bdc8ecc057115af97d19610ffacc2b4e99fae6737bb82f5d7fb13d2f2c186"
   }
  }
 },
 "nbformat": 4,
 "nbformat_minor": 2
}
