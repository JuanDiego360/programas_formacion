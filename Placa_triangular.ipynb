{
 "cells": [
  {
   "cell_type": "markdown",
   "id": "1b77397c",
   "metadata": {},
   "source": [
    "# placa Triangular"
   ]
  },
  {
   "cell_type": "markdown",
   "id": "cfb99071",
   "metadata": {},
   "source": [
    "This is the Laplace equation in 2-D cartesian coordinates (for heat equation)\n",
    "\n",
    "$$ \\frac{\\partial^2 T}{\\partial^2 x}+\\frac{\\partial^2 T}{\\partial^2 y}=0 $$\n",
    "\n",
    "Where T is temperature, x is x-dimension, and y is y-dimension. x and y are functions of position in Cartesian coordinates.\n",
    "\n",
    "Here, we only need to solve 2-D form of the Laplace equation. The problem to solve is shown below:"
   ]
  },
  {
   "cell_type": "markdown",
   "id": "8549c668",
   "metadata": {},
   "source": [
    "La ecuación de laplace discretizada queda de la siguiente forma:\n",
    "\n",
    "$$\n",
    "T(x,y)=\\frac{T(x+1,y) + T(x+1,y) + T(x,y+1) + T(x,y+1)}{4}\n",
    "$$"
   ]
  },
  {
   "cell_type": "markdown",
   "id": "df8cb6f7",
   "metadata": {},
   "source": [
    "importamos las librerias que vamos a necesitar"
   ]
  },
  {
   "cell_type": "code",
   "execution_count": 4,
   "id": "de7412b1",
   "metadata": {},
   "outputs": [],
   "source": [
    "import numpy as np\n",
    "import math\n",
    "import matplotlib.pyplot as plt\n",
    "import matplotlib.animation as animation\n",
    "import time"
   ]
  },
  {
   "cell_type": "code",
   "execution_count": 7,
   "id": "2366830d",
   "metadata": {},
   "outputs": [],
   "source": [
    "#preparar la matriz\n",
    "L=101\n",
    "m=int((L-1)/2)\n",
    "P=np.zeros((L-m+1,L))\n",
    "Ttiempo=np.zeros(((L-m+1,L,1)))\n",
    "condcon=100\n",
    "# llenar la matriz condiciones de frontera\n",
    "for i in range(0,L-m+1):\n",
    "    for j in range(0,L):\n",
    "        if(j==(m-i) or j==(m+i)):\n",
    "            P[i,j]=50\n",
    "            Ttiempo[i,j,0]=P[i,j]\n",
    "        if(i==(L-m)):\n",
    "            P[i,j]=condcon\n",
    "            Ttiempo[i,j,0]=P[i,j]\n",
    "# llenar matriz adentro de la placa\n",
    "guess=30\n",
    "for i in range(1,L-m):\n",
    "    for j in range(0,L):\n",
    "        if(j>(m-i) and j<(m+i)):\n",
    "            P[i,j]=guess\n",
    "            Ttiempo[i,j,0]=P[i,j]"
   ]
  },
  {
   "cell_type": "code",
   "execution_count": 8,
   "id": "a338bcb3",
   "metadata": {},
   "outputs": [
    {
     "name": "stdout",
     "output_type": "stream",
     "text": [
      "Please wait for a moment\n",
      "Iteration finished%\n",
      "el numero de interacciones fueron: 1219\n",
      "tiempo de ejecución:  38.53424596786499\n"
     ]
    }
   ],
   "source": [
    "target = 1e-3  # Target accuracy\n",
    "\n",
    "# Iteration (We assume that the iteration is convergence in maxIter = 500)\n",
    "cont=0\n",
    "error=1\n",
    "diff=np.zeros((L-m+1,L))\n",
    "print(\"Please wait for a moment\")\n",
    "P = np.expand_dims(P, axis=2)\n",
    "inicio=time.time()\n",
    "while error>target:\n",
    "    Pcopy=np.copy(P)\n",
    "    for i in range(1,L-m):\n",
    "        for j in range(0,L):\n",
    "            if(j>(m-i) and j<(m+i)):\n",
    "                    P[i,j]=0.25*(P[i+1][j] + P[i-1][j] + P[i][j+1] + P[i][j-1])\n",
    "                    \n",
    "    for i in range(1,L-m):\n",
    "        for j in range(0,L):\n",
    "            if(j>(m-i) and j<(m+i)):\n",
    "                diff[i,j]=np.abs(Pcopy[i,j]-P[i,j])\n",
    "    \n",
    "    percentage=cont/682*100\n",
    "    print(\"Completado:{} %\".format(round(percentage,2)), end='\\r')\n",
    "    error=np.max(diff)\n",
    "    cont+=1\n",
    "    Ttiempo = np.append(Ttiempo,P, axis=2)\n",
    "fin=time.time()\n",
    "print(\"Iteration finished\")\n",
    "print(\"el numero de interacciones fueron:\",cont)\n",
    "print(\"tiempo de ejecución: \",fin-inicio)"
   ]
  },
  {
   "cell_type": "code",
   "execution_count": 10,
   "id": "11e345fc",
   "metadata": {},
   "outputs": [
    {
     "data": {
      "text/plain": [
       "array([[0, 0, 0, 0, 0],\n",
       "       [1, 1, 1, 1, 1],\n",
       "       [2, 2, 2, 2, 2],\n",
       "       [3, 3, 3, 3, 3],\n",
       "       [4, 4, 4, 4, 4],\n",
       "       [5, 5, 5, 5, 5],\n",
       "       [6, 6, 6, 6, 6]])"
      ]
     },
     "execution_count": 10,
     "metadata": {},
     "output_type": "execute_result"
    }
   ],
   "source": [
    "colorinterpolation = 100\n",
    "colourMap = plt.cm.jet\n",
    "\n",
    "# Set meshgrid\n",
    "X, Y = np.meshgrid(np.arange(0, L-m+1), np.arange(0, L))\n",
    "Y"
   ]
  },
  {
   "cell_type": "code",
   "execution_count": null,
   "id": "54c763ab",
   "metadata": {},
   "outputs": [],
   "source": [
    "%matplotlib inline"
   ]
  },
  {
   "cell_type": "code",
   "execution_count": 5,
   "id": "c3c31abe",
   "metadata": {},
   "outputs": [
    {
     "data": {
      "text/plain": [
       "<matplotlib.contour.QuadContourSet at 0x16b70d7ebb0>"
      ]
     },
     "execution_count": 5,
     "metadata": {},
     "output_type": "execute_result"
    },
    {
     "data": {
      "image/png": "[encoded data removed]",
      "text/plain": [
       "<Figure size 432x288 with 1 Axes>"
      ]
     },
     "metadata": {
      "needs_background": "light"
     },
     "output_type": "display_data"
    }
   ],
   "source": [
    "plt.title(\"placa Triangular\")\n",
    "plt.contourf(Y,X,Ttiempo[:,:,cont].T, colorinterpolation, cmap=colourMap)"
   ]
  },
  {
   "cell_type": "code",
   "execution_count": null,
   "id": "f28a9189",
   "metadata": {},
   "outputs": [],
   "source": [
    "# acelerar simulación\n",
    "tam=int((cont+1)*1/3)\n",
    "Ttimpoac=np.zeros(((L-m+1,L,tam)))\n",
    "for i in range(0,tam):\n",
    "    Ttimpoac[:,:,i]=Ttiempo[:,:,i*int((cont+1)/tam)]"
   ]
  },
  {
   "cell_type": "code",
   "execution_count": null,
   "id": "893ee340",
   "metadata": {},
   "outputs": [],
   "source": [
    "%matplotlib"
   ]
  },
  {
   "cell_type": "code",
   "execution_count": null,
   "id": "14ff9cf2",
   "metadata": {},
   "outputs": [],
   "source": [
    "#simulación\n",
    "fig3=plt.figure()\n",
    "ax=fig3.gca()\n",
    "def puntoapunto(i):\n",
    "    ax.clear()\n",
    "    plt.title(\"placa triangular\")\n",
    "    plt.contourf(Y,X,Ttimpoac[:,:,i].T, colorinterpolation, cmap=colourMap)\n",
    "ani=animation.FuncAnimation(fig3, puntoapunto, range(tam))\n",
    "# ani.save(\"Gradiente_de_laplaca_triangular.mp4\", writer=\"ffmpeg\")\n",
    "plt.show()"
   ]
  },
  {
   "cell_type": "markdown",
   "id": "247c69e6",
   "metadata": {},
   "source": [
    "# Versiones de libreririas Utilizadas para la construcción del notebook"
   ]
  },
  {
   "cell_type": "code",
   "execution_count": 7,
   "id": "37639ee8",
   "metadata": {},
   "outputs": [
    {
     "data": {
      "application/json": {
       "Software versions": [
        {
         "module": "Python",
         "version": "3.9.12 64bit [MSC v.1916 64 bit (AMD64)]"
        },
        {
         "module": "IPython",
         "version": "7.30.0"
        },
        {
         "module": "OS",
         "version": "Windows 10 10.0.19044 SP0"
        },
        {
         "module": "numpy",
         "version": "1.20.3"
        },
        {
         "module": "scipy",
         "version": "1.7.3"
        },
        {
         "module": "matplotlib",
         "version": "3.4.0"
        },
        {
         "module": "sympy",
         "version": "1.9"
        },
        {
         "module": "version_information",
         "version": "1.0.4"
        }
       ]
      },
      "text/html": [
       "<table><tr><th>Software</th><th>Version</th></tr><tr><td>Python</td><td>3.9.12 64bit [MSC v.1916 64 bit (AMD64)]</td></tr><tr><td>IPython</td><td>7.30.0</td></tr><tr><td>OS</td><td>Windows 10 10.0.19044 SP0</td></tr><tr><td>numpy</td><td>1.20.3</td></tr><tr><td>scipy</td><td>1.7.3</td></tr><tr><td>matplotlib</td><td>3.4.0</td></tr><tr><td>sympy</td><td>1.9</td></tr><tr><td>version_information</td><td>1.0.4</td></tr><tr><td colspan='2'>Sun Oct 09 22:58:05 2022 Hora est. Pacífico, Sudamérica</td></tr></table>"
      ],
      "text/latex": [
       "\\begin{tabular}{|l|l|}\\hline\n",
       "{\\bf Software} & {\\bf Version} \\\\ \\hline\\hline\n",
       "Python & 3.9.12 64bit [MSC v.1916 64 bit (AMD64)] \\\\ \\hline\n",
       "IPython & 7.30.0 \\\\ \\hline\n",
       "OS & Windows 10 10.0.19044 SP0 \\\\ \\hline\n",
       "numpy & 1.20.3 \\\\ \\hline\n",
       "scipy & 1.7.3 \\\\ \\hline\n",
       "matplotlib & 3.4.0 \\\\ \\hline\n",
       "sympy & 1.9 \\\\ \\hline\n",
       "version_information & 1.0.4 \\\\ \\hline\n",
       "\\hline \\multicolumn{2}{|l|}{Sun Oct 09 22:58:05 2022 Hora est. Pacífico, Sudamérica} \\\\ \\hline\n",
       "\\end{tabular}\n"
      ],
      "text/plain": [
       "Software versions\n",
       "Python 3.9.12 64bit [MSC v.1916 64 bit (AMD64)]\n",
       "IPython 7.30.0\n",
       "OS Windows 10 10.0.19044 SP0\n",
       "numpy 1.20.3\n",
       "scipy 1.7.3\n",
       "matplotlib 3.4.0\n",
       "sympy 1.9\n",
       "version_information 1.0.4\n",
       "Sun Oct 09 22:58:05 2022 Hora est. Pacífico, Sudamérica"
      ]
     },
     "execution_count": 7,
     "metadata": {},
     "output_type": "execute_result"
    }
   ],
   "source": [
    "%load_ext version_information\n",
    "\n",
    "%version_information numpy, scipy, matplotlib, sympy, version_information"
   ]
  }
 ],
 "metadata": {
  "kernelspec": {
   "display_name": "Python 3 (ipykernel)",
   "language": "python",
   "name": "python3"
  },
  "language_info": {
   "codemirror_mode": {
    "name": "ipython",
    "version": 3
   },
   "file_extension": ".py",
   "mimetype": "text/x-python",
   "name": "python",
   "nbconvert_exporter": "python",
   "pygments_lexer": "ipython3",
   "version": "3.9.12"
  },
  "vscode": {
   "interpreter": {
    "hash": "ad2bdc8ecc057115af97d19610ffacc2b4e99fae6737bb82f5d7fb13d2f2c186"
   }
  }
 },
 "nbformat": 4,
 "nbformat_minor": 5
}
