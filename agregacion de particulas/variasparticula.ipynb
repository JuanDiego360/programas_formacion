{
 "cells": [
  {
   "cell_type": "code",
   "execution_count": 51,
   "metadata": {},
   "outputs": [],
   "source": [
    "import numpy as np\n",
    "import matplotlib.pyplot as plt\n",
    "from matplotlib import animation"
   ]
  },
  {
   "cell_type": "code",
   "execution_count": 67,
   "metadata": {},
   "outputs": [],
   "source": [
    "L = 51            # Longitud de la red\n",
    "xpancla=[]\n",
    "ypancla=[]\n",
    "\n",
    "def mover(xini,yini,ladocaja,panclax,panclay):\n",
    "    direccion = [\"Arriba\", \"Abajo\", \"Derecha\", \"Izquierda\"]\n",
    "    i=0\n",
    "    x=[xini] #x2\n",
    "    y=[yini] #y2\n",
    "    Repetir=True\n",
    "    while (Repetir):\n",
    "        dirAleatoria = np.random.choice(direccion) #elegimos una dirección alzar\n",
    "        # mover la particula hacia la derecha\n",
    "        if dirAleatoria == 'Derecha':  #condicion para que la particula se valla hacia la derecha\n",
    "            if x[i] < ladocaja: # condición para saber si está afuera o adentro\n",
    "                x.append(x[i] + 1) # agrega a la posición x1 uno mas \n",
    "                y.append(y[i]) #la deja en la misma posición en y1\n",
    "            else: # la particula está afuera\n",
    "                x.append(x[i]) #queda igual x1: no la mueve\n",
    "                y.append(y[i]) #queda igual y1: no la mueve\n",
    "                Repetir=False\n",
    "        \n",
    "        #mover la particula hacia la Izquierda\n",
    "        elif dirAleatoria == 'Izquierda': #condicion para que la particula se valla hacia la izquierda\n",
    "            if x[i] > 0: # condición para saber si está afuera o adentro\n",
    "                x.append(x[i]-1) # agrega a la posición x1 uno menos\n",
    "                y.append(y[i]) #la deja en la misma posición en y1\n",
    "            else: # la particula está afuera\n",
    "                x.append(x[i]) #queda igual x1: no la mueve\n",
    "                y.append(y[i]) #queda igual y1: no la mueve\n",
    "                Repetir=False\n",
    "\n",
    "        #mover la particula hacia arriba\n",
    "        elif dirAleatoria == 'Arriba': #condicion para que la particula se valla hacia la izquierda\n",
    "            if y[i] < ladocaja: # condición para saber si está afuera o adentro\n",
    "                x.append(x[i]) # agrega a la posición x1 uno menos\n",
    "                y.append(y[i]+1) #la deja en la misma posición en y1\n",
    "            else: # la particula está afuera\n",
    "                x.append(x[i]) #queda igual x1: no la mueve\n",
    "                y.append(y[i]) #queda igual y1: no la mueve\n",
    "                Repetir=False\n",
    "\n",
    "        #mover la particula hacia la abajo\n",
    "        elif dirAleatoria == 'Abajo': #condicion para que la particula se valla hacia la izquierda\n",
    "            if y[i] > 0: # condición para saber si está afuera o adentro\n",
    "                x.append(x[i]) # agrega a la posición x1 uno menos\n",
    "                y.append(y[i]-1) #la deja en la misma posición en y1\n",
    "            else: # la particula está afuera\n",
    "                x.append(x[i]) #queda igual x1: no la mueve\n",
    "                y.append(y[i]) #queda igual y1: no la mueve\n",
    "                Repetir=False\n",
    "        \n",
    "        #anclar la particula a otra\n",
    "        for Ncomparacion in range(0,len(panclax)):\n",
    "            for inde in range(0,len(panclax)):\n",
    "                if (x[i+1]==panclax[inde] and y[i+1]==panclay[inde]):\n",
    "                    Repetir=False\n",
    "                \n",
    "                if(x[i+1]==panclax[inde] and (y[i+1]-1)==panclay[inde]):\n",
    "                    Repetir=False\n",
    "\n",
    "                if((x[i+1]+1)==panclax[inde] and y[i+1]==panclay[inde]):\n",
    "                    Repetir=False\n",
    "\n",
    "                if((x[i+1]-1)==panclax[inde] and y[i+1]==panclay[inde]):\n",
    "                    Repetir=False\n",
    "        i+=1\n",
    "\n",
    "    xfinal=x[-1]\n",
    "    yfinal=y[-1]\n",
    "    return(xfinal,yfinal)\n",
    "\n",
    "movimiento=mover(int((L+1)/2),int((L+1)/2),L,xpancla,ypancla)\n",
    "xpancla.append(movimiento[0])\n",
    "ypancla.append(movimiento[1])\n",
    "cont=0\n",
    "while(not(xpancla[cont]==int((L+1)/2) and ypancla[cont]==int((L+1)/2))):\n",
    "    movimiento=mover(int((L+1)/2),int((L+1)/2),L,xpancla,ypancla)\n",
    "    xpancla.append(movimiento[0])\n",
    "    ypancla.append(movimiento[1])\n",
    "    cont+=1\n"
   ]
  },
  {
   "cell_type": "code",
   "execution_count": 46,
   "metadata": {},
   "outputs": [
    {
     "name": "stdout",
     "output_type": "stream",
     "text": [
      "Using matplotlib backend: Qt5Agg\n"
     ]
    }
   ],
   "source": [
    "%matplotlib"
   ]
  },
  {
   "cell_type": "code",
   "execution_count": 70,
   "metadata": {},
   "outputs": [],
   "source": [
    "fig1, ax=plt.subplots(1,1,figsize=(12,8))\n",
    "def animar(i):\n",
    "    ax.plot(xpancla[i],ypancla[i],'bo',markersize = 5)\n",
    "    # ax.plot([int((L+1)/2)],[int((L+1)/2)],'ro',markersize = 5)\n",
    "    ax.set_xlim(0,L)\n",
    "    ax.set_ylim(0,L)\n",
    "    # ax.grid()\n",
    "\n",
    "\n",
    "ani=animation.FuncAnimation(fig1,animar,frames=len(xpancla),repeat=False,interval=1)\n",
    "ani.save('Agregacionlimitadapordifusionrejilla.gif',writer='pillow',fps=15)\n",
    "plt.show()"
   ]
  },
  {
   "cell_type": "markdown",
   "metadata": {},
   "source": []
  }
 ],
 "metadata": {
  "kernelspec": {
   "display_name": "Python 3.9.12 ('base')",
   "language": "python",
   "name": "python3"
  },
  "language_info": {
   "codemirror_mode": {
    "name": "ipython",
    "version": 3
   },
   "file_extension": ".py",
   "mimetype": "text/x-python",
   "name": "python",
   "nbconvert_exporter": "python",
   "pygments_lexer": "ipython3",
   "version": "3.9.12"
  },
  "orig_nbformat": 4,
  "vscode": {
   "interpreter": {
    "hash": "ad2bdc8ecc057115af97d19610ffacc2b4e99fae6737bb82f5d7fb13d2f2c186"
   }
  }
 },
 "nbformat": 4,
 "nbformat_minor": 2
}
