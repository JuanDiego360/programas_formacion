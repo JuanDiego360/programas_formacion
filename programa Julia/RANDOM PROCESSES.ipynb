{
 "cells": [
  {
   "cell_type": "code",
   "execution_count": null,
   "metadata": {},
   "outputs": [],
   "source": []
  },
  {
   "cell_type": "markdown",
   "metadata": {},
   "source": [
    "# RANDOM PROCESSES"
   ]
  },
  {
   "cell_type": "markdown",
   "metadata": {},
   "source": [
    "SOME processes in physics are random, like radioactive decay. There are also many other physical processes that are not truly random, but which we can treat as random for all intents and purposes. For instance, Brownian motion is not actually random but we can treat as random"
   ]
  },
  {
   "cell_type": "markdown",
   "metadata": {},
   "source": [
    "### RANDOM NUMBERS"
   ]
  },
  {
   "cell_type": "markdown",
   "metadata": {},
   "source": [
    "Technically, in fact, we use pseudorandom numbers, which are not really random at all. \n",
    "They only look random."
   ]
  },
  {
   "cell_type": "markdown",
   "metadata": {},
   "source": [
    "### RANDOM NUMBER GENERATORS:"
   ]
  },
  {
   "cell_type": "markdown",
   "metadata": {},
   "source": [
    "Linear congruential random number generator\n",
    "\n",
    "$$\n",
    "x^{\\prime}=(a x+c) \\bmod m\n",
    "$$\n",
    "\n",
    "where a, c and m are integer constants and x is an integer variable. Given a value for x, this equation takes that value and turns into a new integer value x'.\n",
    "\n",
    "Now suppose we take that new value and plug it back in on the righ-hand side of the equation again and get another value. Repeating it for many times, we get a stream of integers."
   ]
  },
  {
   "cell_type": "code",
   "execution_count": 3,
   "metadata": {},
   "outputs": [
    {
     "data": {
      "image/png": "[encoded data removed]",
      "text/plain": [
       "<Figure size 432x288 with 1 Axes>"
      ]
     },
     "metadata": {
      "needs_background": "light"
     },
     "output_type": "display_data"
    }
   ],
   "source": [
    "from pylab import plot,show\n",
    "\n",
    "N = 100\n",
    "a = 1664525\n",
    "c = 1013904223\n",
    "m = 4294967296\n",
    "x = 2\n",
    "results = []\n",
    "\n",
    "for i in range(N):\n",
    "    x = (a*x+c)%m\n",
    "    results.append(x)\n",
    "plot(results,\"o\")\n",
    "show()"
   ]
  },
  {
   "cell_type": "markdown",
   "metadata": {},
   "source": [
    "The a linear congruential random number generator, which generates a string of random integers by iterating the same equation for many times. It is the most fundamental way of generating random numbers.\n",
    "\n",
    "    1, The numbers are not truly random. If you know the values of {a, c, m}, plus the starting values, you can exactly predict the numbers. If you use the same set of parameters, you must get the same values for each run.\n",
    "\n",
    "    2, The numbers are always positive or zero.\n",
    "\n",
    "    3, The results are very sensitive to the choice of {a, c, m} values. If c and m were choosen both even, the process would only generate even numbers or only odd numbers. It is wise to use only values which have been thouroughly tested.\n",
    "\n",
    "    4, For a particular set of {a, c, m}, you can still get different sequence of random numbers by varying the starting number of x. The initial values is called seed for the random number generator."
   ]
  },
  {
   "cell_type": "code",
   "execution_count": 6,
   "metadata": {},
   "outputs": [
    {
     "data": {
      "image/png": "[encoded data removed]",
      "text/plain": [
       "<Figure size 432x288 with 1 Axes>"
      ]
     },
     "metadata": {
      "needs_background": "light"
     },
     "output_type": "display_data"
    }
   ],
   "source": [
    "N = 100\n",
    "a = 4500\n",
    "c = 1520\n",
    "m = 11\n",
    "x = 1 #seed\n",
    "results = []\n",
    "\n",
    "for i in range(N):\n",
    "    x = (a*x+c)%m\n",
    "    results.append(x)\n",
    "plot(results,\"o\")\n",
    "show()"
   ]
  },
  {
   "cell_type": "markdown",
   "metadata": {},
   "source": [
    "All of Python random number generator functions generate their numbers using the Mersenne Twister algorithm and they are considered good enough for serious physics calculations."
   ]
  },
  {
   "cell_type": "code",
   "execution_count": 10,
   "metadata": {},
   "outputs": [
    {
     "name": "stdout",
     "output_type": "stream",
     "text": [
      "0.21293444140415818\n",
      "2\n",
      "31\n",
      "99\n"
     ]
    }
   ],
   "source": [
    "from random import random, randrange\n",
    "print(random()) #Gives a random floating-point number in the range from zero to one.\n",
    "print(randrange(10)) #Gives a random integer from 0 to (10-1)\n",
    "print(randrange(10,100)) # Gives a random integer from 10 to (100-1)\n",
    "print(randrange(0,100,11)) #Gives a random integer in the range 0 to (100-1) in steps of 11"
   ]
  },
  {
   "cell_type": "code",
   "execution_count": 13,
   "metadata": {},
   "outputs": [
    {
     "name": "stdout",
     "output_type": "stream",
     "text": [
      "4\n",
      "8\n",
      "4\n"
     ]
    }
   ],
   "source": [
    "print(randrange(10))\n",
    "print(randrange(10))\n",
    "print(randrange(10))"
   ]
  },
  {
   "cell_type": "markdown",
   "metadata": {},
   "source": [
    "The function gives a different random number each time. If you want to use the same random number twice in your program for two different things then you will have to store it in a variable so you can come back to it:"
   ]
  },
  {
   "cell_type": "code",
   "execution_count": 16,
   "metadata": {},
   "outputs": [
    {
     "name": "stdout",
     "output_type": "stream",
     "text": [
      "The random number is 4\n",
      "That number again is 4\n"
     ]
    }
   ],
   "source": [
    "z = randrange(10)"
   ]
  },
  {
   "cell_type": "code",
   "execution_count": 18,
   "metadata": {},
   "outputs": [
    {
     "name": "stdout",
     "output_type": "stream",
     "text": [
      "The random number is 4\n",
      "That number again is 4\n"
     ]
    }
   ],
   "source": [
    "print(\"The random number is\",z)\n",
    "print(\"That number again is\",z)"
   ]
  },
  {
   "cell_type": "code",
   "execution_count": 24,
   "metadata": {},
   "outputs": [
    {
     "name": "stdout",
     "output_type": "stream",
     "text": [
      "1\n"
     ]
    }
   ],
   "source": [
    "from random import randint\n",
    "print(randint(1,6))  #Gives a random integer from 1 to 6"
   ]
  },
  {
   "cell_type": "code",
   "execution_count": 25,
   "metadata": {},
   "outputs": [
    {
     "name": "stdout",
     "output_type": "stream",
     "text": [
      "6\n"
     ]
    }
   ],
   "source": [
    "print(randint(1,6))"
   ]
  },
  {
   "cell_type": "code",
   "execution_count": 27,
   "metadata": {},
   "outputs": [
    {
     "name": "stdout",
     "output_type": "stream",
     "text": [
      "[2 4 1 6 4 2 4 3 6 6]\n"
     ]
    }
   ],
   "source": [
    "from numpy import random\n",
    "print(random.randint(1,7,10)) #Gives 10 random integer from 1 to (7-1)"
   ]
  },
  {
   "cell_type": "markdown",
   "metadata": {},
   "source": [
    "#### Two Rolling dice\n",
    "\n",
    "a) Write a program that generates and prints out two random numbers between 1 and 6, to simulate the rolling of two dice.\n",
    "\n",
    "b) Modify your program to simulate the rolling of two dice a million times and count the number of times you get a double six. Divide by a million to get the fraction of times you get a double six. You should get something close to, though probably not exactly equal to 1/36"
   ]
  },
  {
   "cell_type": "code",
   "execution_count": 41,
   "metadata": {},
   "outputs": [
    {
     "name": "stdout",
     "output_type": "stream",
     "text": [
      "1 4\n",
      "The observed propability for rolling dice is  0.027956\n"
     ]
    }
   ],
   "source": [
    "from random import randint\n",
    "\n",
    "a = randint(1,6)\n",
    "b = randint(1,6)\n",
    "print(a,b)\n",
    "\n",
    "count = 0\n",
    "for i in range(1000000):\n",
    "    a = randint(1,6)\n",
    "    b = randint(1,6)\n",
    "    if a==6 and b==6:\n",
    "        count+=1\n",
    "\n",
    "probability = count/1e6\n",
    "print('The observed propability for rolling dice is ',probability)"
   ]
  },
  {
   "cell_type": "markdown",
   "metadata": {},
   "source": [
    "### Random Number Seeds\n",
    "\n",
    "As we saw in the above case, a random number generator can have a seed, which is an input value that tells the generator where to start its sequence. In order to start the random number generator differently every time, one needs to have a systematic way of obtaning a different initial seed. Otherwise, one would end up with exactly the same result if one starts the program with exactly the same initial seed. Almost every computer has intrisic function routines to report the current time in an integer form. For example, one could use the timestamp here.\n",
    "\n",
    "year:   0<=iy<=99\n",
    "\n",
    "month:  1<=im<=12\n",
    "\n",
    "day:    1<=id<=31\n",
    "\n",
    "hour:   0<=ih<=23\n",
    "\n",
    "minute: 0<=in<=59\n",
    "\n",
    "second: 0<=is<=59\n",
    "\n",
    "Then one can choose\n",
    "\n",
    "I_seed = iy + 70(im + 12{id + 31[ih + 23(in + 59is)]})\n",
    "\n",
    "as the initial seed, which is roughly in the region of $[0, 2^{31}-1]$. The results should never be the same within 100 years. This is also how the random seeds are generated in the current computer.\n",
    "\n",
    "On the other hand, the fixed random seeds could be very convenient when one wants to debug a code which contains some part of random number generation. In the case, you just need to insert some fixed seed number which ensure that you always get the consistent numbers."
   ]
  },
  {
   "cell_type": "code",
   "execution_count": 32,
   "metadata": {},
   "outputs": [
    {
     "name": "stdout",
     "output_type": "stream",
     "text": [
      "8\n",
      "4\n",
      "9\n",
      "0\n"
     ]
    }
   ],
   "source": [
    "from random import randrange,seed\n",
    "seed(30)\n",
    "for i in range(4):\n",
    "    print(randrange(10))"
   ]
  },
  {
   "cell_type": "markdown",
   "metadata": {},
   "source": [
    "If you do not use a seed, if you just start generating random numbers right off the bat without using the seed function, then the random number generator will start at a different random point each time you run your program and generate a different sequence of numbers. When you are working with random programs one of the most frustrating things is that you run the program once and something goes wrong, but then you run it again, without changing anything in the program, and everything works fine. This kind of behavior can make it hard to track\n",
    "down problems. Seeding the random number generator gets around this problem."
   ]
  },
  {
   "cell_type": "markdown",
   "metadata": {},
   "source": [
    "### PROBABILITIES AND BIASED COINS"
   ]
  },
  {
   "cell_type": "markdown",
   "metadata": {},
   "source": [
    "It happens frequently when writing computer programs for physics calculations that you want some event to take \n",
    "place randomly with probability p. This kind of behavior often is called the \"toss of a biased coin\" \n",
    "by statisticians."
   ]
  },
  {
   "cell_type": "code",
   "execution_count": 36,
   "metadata": {},
   "outputs": [
    {
     "name": "stdout",
     "output_type": "stream",
     "text": [
      "Heads\n"
     ]
    }
   ],
   "source": [
    "from random import random\n",
    "if random() < 0.2:\n",
    "    print(\"Heads\")\n",
    "else:\n",
    "    print(\"Tails\")"
   ]
  },
  {
   "cell_type": "markdown",
   "metadata": {},
   "source": [
    "#### DECAY OF AN ISOTOPE\n",
    "\n",
    "The radioisotope 208 Tl (thallium 208) decays to stable 208 Pb (lead 208) with a\n",
    "half-life of 3.053 minutes. Suppose we start with a sample of 1000 thallium\n",
    "atoms. Let us simulate the decay of these atoms over time, mimicking the\n",
    "randomness of that decay using random numbers. On average we know that the number \n",
    "N of atoms in our sample will fall off exponentially over time according to the \n",
    "standard equation of radioactive decay:\n",
    "\n",
    "$$\n",
    "N(t)=N(0) 2^{-t / \\tau}\n",
    "$$\n",
    "\n",
    "where $\\tau$ \n",
    " is the half-life. Then the fraction of atoms remaining after time $t$ is\n",
    "$\n",
    "N(t)/N(0)=2^{-t / \\tau}\n",
    "$ \n",
    "and the fraction that have decayed, which is also equal to\n",
    "the probability p(t) that any particular single atom has decayed, is one minus\n",
    "this number, or\n",
    "\n",
    "$$\n",
    "p(t)=1-2^{-t / \\tau}\n",
    "$$\n",
    "\n",
    "Thus this number represents the probability that a single atom decays in a time\n",
    "interval of length t.\n",
    "We will simulate the decay of our sample of 1000 atoms by dividing the\n",
    "atoms into two sets, one of thallium and one of lead. Initially all the atoms are\n",
    "in the thallium set. We will divide time into time-steps of 1 second each and\n",
    "in each time-step we will consider in tum each thallium atom and with the\n",
    "probability given by $p(t)$ decide whether or not it decays. In this way we\n",
    "work out the total number of thallium atoms that decay in each second, then\n",
    "we subtract this number from the total in the thallium set and add it to the total\n",
    "in the lead set.\n",
    "Here's a program to perform the calculation and make a plot of the number\n",
    "of atoms of each type as a function of time for 1000 seconds:"
   ]
  },
  {
   "cell_type": "code",
   "execution_count": 30,
   "metadata": {},
   "outputs": [
    {
     "data": {
      "image/png": "[encoded data removed]",
      "text/plain": [
       "<Figure size 432x288 with 1 Axes>"
      ]
     },
     "metadata": {
      "needs_background": "light"
     },
     "output_type": "display_data"
    }
   ],
   "source": [
    "from random import random\n",
    "from numpy import arange\n",
    "from pylab import plot,xlabel,ylabel,show\n",
    "\n",
    "# Constants\n",
    "NTl = 1000            # Number of thallium atoms\n",
    "NPb = 0               # Number of lead atoms\n",
    "tau = 3.053*60        # Half life of thallium in seconds\n",
    "h = 1.0               # Size of time-step in seconds\n",
    "p = 1 - 2**(-h/tau)   # Probability of decay in one step\n",
    "tmax = 1000           # Total time\n",
    "\n",
    "# Lists of plot points\n",
    "tpoints = arange(0.0,tmax,h)\n",
    "Tlpoints = []\n",
    "Pbpoints = []\n",
    "\n",
    "# Main loop\n",
    "for t in tpoints:\n",
    "    Tlpoints.append(NTl)\n",
    "    Pbpoints.append(NPb)\n",
    "\n",
    "    # Calculate the number of atoms that decay\n",
    "    decay = 0\n",
    "    for i in range(NTl):\n",
    "        if random() < p:\n",
    "            decay += 1\n",
    "    NTl -= decay\n",
    "    NPb += decay\n",
    "\n",
    "# Make the graph\n",
    "plot(tpoints,Tlpoints)\n",
    "plot(tpoints,Pbpoints)\n",
    "xlabel(\"Time\")\n",
    "ylabel(\"Number of atoms\")\n",
    "show()"
   ]
  },
  {
   "cell_type": "markdown",
   "metadata": {},
   "source": [
    "### NONUNIFORM RANDOM NUMBERS\n",
    "\n",
    "\n",
    "As shown in the above, the probability that a atom decays in time $t$ is $1-2^{-t/\\tau}$, and hence the probability that it decays in a time interval $dt$ is\n",
    "$$1-2^{-dt/\\tau} = 1-\\exp(-\\frac{dt}{\\tau}\\text{ln}2) = \\frac{\\text{ln}2}{\\tau}dt$$\n",
    "\n",
    "Then we calculate the total probability of decaying an atom between $t$ and $t+dt$. In order to undergo such a decay,\n",
    "an atom must survive without decay until time $t$, which happens with $p=2^{-t/\\tau}$, and then decay in dt interval:\n",
    "\n",
    "$$P(t)dt = 2^{-t/\\tau}\\frac{\\text{ln}2}{\\tau}dt$$\n",
    "\n",
    "This is an example of non-uniform probability distribution. The decay times t are distributed in proportion to $2^{-t/\\tau}$, \n",
    "so that ealier decay times are more probable than late ones.\n",
    "\n",
    "A more efficient way to calculate the decay of a sample is to generate N random numbers from this non-uniform probability distribution, to represent the time at which each of the atom decays. Then creating curves as a function of time, is simply a matter of counting how many of the atoms decay before any given time.\n",
    "\n",
    "It is possible to generate non-uniform random numbers from a wide range of different distributions, including the exponential distribution, using the previous method. If you already have a source of uniform random numbers, one could turn them into nonuniform ones using some `transformation methods`.\n",
    "\n",
    "Suppose you have a source of random floating numbers z from a distribution with a probability (q(z)=1). And supposed that you have a function x(z). Then when z is one of our random numbers, x(z) is also a random number, but it will have different distribution according to x(z). \n",
    "\n",
    "$$p(x)dx = q(z)dz$$\n",
    "$$\\int_{-\\infty}^{x(z)} p(x')dx' = \\int_0^z dz'=z$$\n",
    "\n",
    "As an example, suppose we want to integrate random real numbers x in the interval from zero to infinity with the exponential probability distribution\n",
    "\n",
    "$$p(x)=\\mu e^{-\\mu x}$$\n",
    "\n",
    "The leading factor of $\\mu$ is necessary to make the distribution properly normalized. This is the same distribution that in the radioactive decay problem above, where $\\mu=\\text{ln}2/\\tau$.\n",
    "\n",
    "For this distribution,\n",
    "$$\\mu \\int_0^{x(z)} e^{-\\mu x'} dx' = 1-e^{-\\mu x} = z$$\n",
    "\n",
    "Therefore,\n",
    "\n",
    "$$x = -\\frac{1}{\\mu}\\text{ln}(1-z)$$\n",
    "\n",
    "So all we need is to generate uniform random numbers z in the interval from zero to one and feed them into this equation to get exponentially distributed x values."
   ]
  },
  {
   "cell_type": "code",
   "execution_count": 17,
   "metadata": {},
   "outputs": [
    {
     "data": {
      "image/png": "[encoded data removed]",
      "text/plain": [
       "<Figure size 432x288 with 1 Axes>"
      ]
     },
     "metadata": {
      "needs_background": "light"
     },
     "output_type": "display_data"
    }
   ],
   "source": [
    "# To generate the exponential distribution from uniform distribution\n",
    "import numpy as np\n",
    "import matplotlib.pyplot as plt\n",
    "\n",
    "NTl = 1000           # Number of thallium atoms\n",
    "NPb = 0               # Number of lead atoms\n",
    "tau = 3.053*60        # Half life of thallium in seconds\n",
    "h = 1.0               # Size of time-step in seconds\n",
    "mu = np.log(2)/tau\n",
    "tmax = 1000   \n",
    "\n",
    "Pbpoints = np.zeros([NTl-1])  #the array to store the number of decayed atoms in each time step \n",
    "Tlpoints = NTl * np.ones([NTl-1])  #the array to store the number of decayed atoms in each time step \n",
    "\n",
    "for i in range(NTl):    \n",
    "    z0 = np.random.random()\n",
    "    x0 = int(-np.log(1-z0)/mu) #the time to decay from random number\n",
    "    if x0<tmax:     \n",
    "        Pbpoints[x0:] += 1  #after decay, we need to count 1 from now on\n",
    "        Tlpoints[x0:] -= 1  #after decay, we need to count 1 from now on\n",
    "        \n",
    "plt.plot(Tlpoints, label='Tl')\n",
    "plt.plot(Pbpoints, label='Pb')\n",
    "plt.xlabel(\"Time (s)\")\n",
    "plt.ylabel(\"Number of atoms\")\n",
    "\n",
    "plt.legend()\n",
    "plt.show()"
   ]
  }
 ],
 "metadata": {
  "kernelspec": {
   "display_name": "Python 3.9.12 ('base')",
   "language": "python",
   "name": "python3"
  },
  "language_info": {
   "codemirror_mode": {
    "name": "ipython",
    "version": 3
   },
   "file_extension": ".py",
   "mimetype": "text/x-python",
   "name": "python",
   "nbconvert_exporter": "python",
   "pygments_lexer": "ipython3",
   "version": "3.9.12"
  },
  "vscode": {
   "interpreter": {
    "hash": "ad2bdc8ecc057115af97d19610ffacc2b4e99fae6737bb82f5d7fb13d2f2c186"
   }
  }
 },
 "nbformat": 4,
 "nbformat_minor": 4
}
