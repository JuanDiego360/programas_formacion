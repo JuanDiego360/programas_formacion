{
 "cells": [
  {
   "cell_type": "markdown",
   "id": "fd21e80d",
   "metadata": {},
   "source": [
    "# Juan Diego Florez Vera, codigo:1007308867\n",
    "# Procesos aleatorios\n",
    "\n",
    "## Numeros aleatorios\n",
    "\n",
    "En la teoria de los numeros aleatorios existen dos tipos de numeros aleatorios los pseudoaleatorios y los aleatorios, para este caso vamos a trabajar con los pseudoaletorios que son los que una computadora puede utilizar siguiendo la siguiente ecuación:<br>\n",
    "\n",
    "$$\n",
    "x^\\prime = (ax+c) mod(m)\n",
    "$$\n",
    "\n",
    "donde a, c y m son constantes, y x es una variable que se puede considerar una semilla, de los numeros que están generando.<br>\n",
    "\n",
    "### Ejercicio 10.1: Dados Rodantes\n",
    "\n",
    "a) Escriba un programa que genere e imprima dos números aleatorios entre 1 y 6, para simular el lanzamiento de dos dados."
   ]
  },
  {
   "cell_type": "code",
   "execution_count": 1,
   "id": "1b11a358",
   "metadata": {},
   "outputs": [],
   "source": [
    "import numpy as np\n",
    "import matplotlib.pyplot as plt\n",
    "import time\n",
    "import matplotlib.animation as animation"
   ]
  },
  {
   "cell_type": "code",
   "execution_count": 57,
   "id": "402b2884",
   "metadata": {},
   "outputs": [
    {
     "name": "stdout",
     "output_type": "stream",
     "text": [
      "el primer dado cayó un  3\n",
      "el segundo dado cayó un  5\n"
     ]
    }
   ],
   "source": [
    "dado1=np.random.randint(1,7)\n",
    "dado2=np.random.randint(1,7)\n",
    "print(\"el primer dado cayó un \",dado1)\n",
    "print(\"el segundo dado cayó un \",dado2)"
   ]
  },
  {
   "cell_type": "markdown",
   "id": "e145b2e3",
   "metadata": {},
   "source": [
    "b) Modifique su programa para simular el lanzamiento de dos dados un millón de veces y cuente el número de veces que obtiene un doble seis. Divide por un millón para obtener la fracción de veces que obtienes un doble seis. Debería obtener algo cercano, aunque probablemente no exactamente igual a $\\frac{1}{36}$"
   ]
  },
  {
   "cell_type": "code",
   "execution_count": 61,
   "id": "54120c53",
   "metadata": {},
   "outputs": [
    {
     "name": "stdout",
     "output_type": "stream",
     "text": [
      "tiempo de ejecución 3.9845516681671143\n",
      "el numero total de veces que cayó 6 es  27537\n",
      "la fracción que cayó 6 es: 0.028\n"
     ]
    }
   ],
   "source": [
    "N=int(1E6) #numero de lanzamientos\n",
    "cont=0 # contador\n",
    "for i in range(0,N):\n",
    "    if (np.random.randint(1,7)==6 and np.random.randint(1,7)==6):\n",
    "        cont+=1\n",
    "print(\"el numero total de veces que cayó 6 es \",cont)\n",
    "print(\"la fracción que cayó 6 es:\",round(cont/N,3))"
   ]
  },
  {
   "cell_type": "markdown",
   "id": "4be8ffec",
   "metadata": {},
   "source": [
    "### Ejercicio 10.2: Cadena de desintegración radioactiva\n",
    "Este ejercicio analiza una versión más avanzada de la simulación de desintegración radiactiva simple en el Ejemplo 10.1.<br>\n",
    "El isótopo $^{213} Bi$ se descompone a $^{209} Bi$ estable a través de una de dos rutas diferentes, con probabilidades y semi-vidas como se muestra en la figura. (Técnicamente, $^{209} Bi$ no es realmente estable, pero tiene una vida media de más de $10^{19}$ años, mil millones de veces la edad del universo, por lo que bien podría serlo.)<br>\n",
    "\n",
    "![texto_alternativo](desintegracion.png)\n",
    "\n",
    "Comenzando con una muestra que consiste en 10.000 átomos de $ ^{213} Bi$, simular la desintegración de los átomos como en el Ejemplo 10.1 dividiendo el tiempo en cortes de longitud $\\delta t = 1 s$ cada uno y en cada etapa hacer lo siguiente:<br>\n",
    "\n",
    "Tenga en cuenta que debe trabajar la cadena desde la parte inferior de esta manera, no desde la parte superior, para evitar que el mismo átomo se desintegre inadvertidamente dos veces en un solo paso. Lleve un registro del número de átomos de cada uno de los cuatro isótopos en todo momento durante 20000 segundos y haga un solo gráfico que muestre los cuatro números en función del tiempo en los mismos ejes.<br>\n",
    "\n",
    "a) Para cada átomo de $^{209} Pb$ a su vez, decida al azar, con la probabilidad apropiada, si se descompone o no. (La probabilidad se puede calcular a partir de la Ec. (10.3)) Contar el número total de desintegraciones, restarlo del número de átomos de $^{209} Pb$ y sumarlo al número de atomos de $^{209} Bi$."
   ]
  },
  {
   "cell_type": "code",
   "execution_count": 88,
   "id": "7e081a7d",
   "metadata": {},
   "outputs": [],
   "source": [
    "h=1.0\n",
    "τPbBi=3.3*60\n",
    "τTlPb=2.2*60\n",
    "τBiTl=46*60\n",
    "τBiPb=46*60\n",
    "def probabilidad(τ,h):\n",
    "    p=1-2**(-h/τ)\n",
    "    return(p)\n",
    "pBiPb=probabilidad(τBiPb,h)\n",
    "pBiTl=probabilidad(τBiTl,h)\n",
    "pTlPb=probabilidad(τTlPb,h)\n",
    "pPbBi=probabilidad(τPbBi,h)\n",
    "tmax=20000"
   ]
  },
  {
   "cell_type": "code",
   "execution_count": 89,
   "id": "f001e1a2",
   "metadata": {},
   "outputs": [
    {
     "name": "stdout",
     "output_type": "stream",
     "text": [
      "tiempo de ejecución 22.61275\n"
     ]
    }
   ],
   "source": [
    "NT213Bi=10000\n",
    "NT209Tl=0\n",
    "NT209Pb=0\n",
    "NT209Bi=0\n",
    "tpuntos=np.linspace(0,tmax,NT213Bi)\n",
    "Bi213puntos=[]\n",
    "Pbpuntos=[]\n",
    "Tlpuntos=[]\n",
    "Bi209puntos=[]\n",
    "a=time.time()\n",
    "for t in tpuntos:\n",
    "    Bi213puntos.append(NT213Bi)\n",
    "    Tlpuntos.append(NT209Tl)\n",
    "    Pbpuntos.append(NT209Pb)\n",
    "    Bi209puntos.append(NT209Bi)\n",
    "    decaimiento1=0\n",
    "    decaimiento2=0\n",
    "    decaimiento3=0\n",
    "    decaimiento4=0\n",
    "    numetl=0\n",
    "    for i in range(0,NT209Pb):\n",
    "        if np.random.random()<pPbBi:\n",
    "            decaimiento1+=1\n",
    "    for i in range(0,NT209Tl):\n",
    "        if np.random.random()<pTlPb:\n",
    "            decaimiento2+=1\n",
    "    for i in range(0,NT213Bi):\n",
    "        if np.random.random()<pBiPb:\n",
    "            decaimiento3+=1\n",
    "            if np.random.random()<0.9791:\n",
    "                decaimiento4+=1\n",
    "            else:\n",
    "                numetl+=1\n",
    "    NT213Bi-=decaimiento3\n",
    "    NT209Pb+=decaimiento4-decaimiento1+decaimiento2\n",
    "    NT209Tl+=numetl-decaimiento2\n",
    "    NT209Bi+=decaimiento1\n",
    "b=time.time()\n",
    "print(\"tiempo de ejecución\",round(b-a,5))"
   ]
  },
  {
   "cell_type": "code",
   "execution_count": 90,
   "id": "49fb1fa9",
   "metadata": {},
   "outputs": [
    {
     "data": {
      "image/png": "[encoded data removed]",
      "text/plain": [
       "<Figure size 432x288 with 1 Axes>"
      ]
     },
     "metadata": {
      "needs_background": "light"
     },
     "output_type": "display_data"
    }
   ],
   "source": [
    "plt.plot(tpuntos,Bi213puntos,label=\"$^{213}Bi$\")\n",
    "plt.plot(tpuntos,Pbpuntos,label=\"$^{209}Pb$\")\n",
    "plt.plot(tpuntos,Tlpuntos,label=\"$^{209}Tl$\")\n",
    "plt.plot(tpuntos,Bi209puntos,label=\"$^{209}Bi$\")\n",
    "plt.title(\"Desintegración Radioactiva\")\n",
    "plt.xlabel(\"tiempo (seg)\")\n",
    "plt.ylabel(\"numero de atomos\")\n",
    "plt.legend()\n",
    "plt.show()"
   ]
  },
  {
   "cell_type": "markdown",
   "id": "99464b84",
   "metadata": {},
   "source": [
    "#### Codigo en Julia\n",
    "\n",
    "~~~julia\n",
    "using Plots\n",
    "\n",
    "# cosntantes\n",
    "h=1.0\n",
    "τPbBi=3.3*60\n",
    "τTlPb=2.2*60\n",
    "τBiTl=46*60\n",
    "τBiPb=46*60\n",
    "function probabilidad(τ,h)\n",
    "    p=1-2^(-h/τ)\n",
    "    return(p)\n",
    "end\n",
    "pBiPb=probabilidad(τBiPb,h)\n",
    "pBiTl=probabilidad(τBiTl,h)\n",
    "pTlPb=probabilidad(τTlPb,h)\n",
    "pPbBi=probabilidad(τPbBi,h)\n",
    "tmax=20000\n",
    "\n",
    "NT213Bi=10000\n",
    "NT209Tl=0\n",
    "NT209Pb=0\n",
    "NT209Bi=0\n",
    "tpuntos=0.0:h:tmax\n",
    "Bi213puntos=Array{Int64}(undef,0)\n",
    "Pbpuntos=Array{Int64}(undef,0)\n",
    "Tlpuntos=Array{Int64}(undef,0)\n",
    "Bi209puntos=Array{Int64}(undef,0)\n",
    "@time for t in tpuntos\n",
    "    push!(Bi213puntos,NT213Bi)\n",
    "    push!(Tlpuntos,NT209Tl)\n",
    "    push!(Pbpuntos,NT209Pb)\n",
    "    push!(Bi209puntos,NT209Bi)\n",
    "    decaimica1=0\n",
    "    decaimica2=0\n",
    "    decaimica3=0\n",
    "    decaimica4=0\n",
    "    numetl=0\n",
    "    for i in (0:NT209Pb)\n",
    "        if rand()<pPbBi\n",
    "            decaimica1+=1\n",
    "        end\n",
    "    end\n",
    "    \n",
    "    for i in (0:NT209Tl)\n",
    "        if rand()<pTlPb\n",
    "            decaimica2+=1\n",
    "        end\n",
    "    end\n",
    "    \n",
    "    for i in (0:NT213Bi)\n",
    "        if rand()<pBiPb\n",
    "            decaimica3+=1\n",
    "            if rand()<0.9791\n",
    "                decaimica4+=1\n",
    "            else\n",
    "                numetl+=1\n",
    "            end\n",
    "        end\n",
    "    end\n",
    "    NT213Bi-=decaimica3\n",
    "    NT209Tl+=numetl-decaimica2\n",
    "    NT209Pb+=decaimica4+decaimica2-decaimica1\n",
    "    NT209Bi+=decaimica1\n",
    "end\n",
    "~~~\n",
    "\n",
    "tiempo de ejecución de Julia: 6.696168 seconds\n",
    "\n",
    "~~~julia\n",
    "plot(tpuntos,Bi213puntos,label=\"(213)Bi\")\n",
    "plot!(tpuntos,Pbpuntos,label=\"(209)Pb\")\n",
    "plot!(tpuntos,Tlpuntos,label=\"(209)Tl\")\n",
    "plot!(tpuntos,Bi209puntos,label=\"(209)Bi\")\n",
    "title!(\"Desintegración Radioactiva\")\n",
    "xlabel!(\"tiempo (seg)\")\n",
    "ylabel!(\"numero de atomos\")\n",
    "~~~"
   ]
  },
  {
   "cell_type": "markdown",
   "id": "dc0ee584",
   "metadata": {},
   "source": [
    "### Ejercicio 10.3: Movimiento Brownian\n",
    "\n",
    "El movimiento browniano es el movimiento de una partícula, como una partícula de humo o polvo, en un gas, a medida que es golpeada por colisiones aleatorias con moléculas de gas. Realice una simulación por computadora simple de dicha partícula en dos dimensiones de la siguiente manera. La partícula está confinada a una rejilla cuadrada o retícula $L \\times L$ cuadrados en un lado, de modo que su posición puede representarse por dos números enteros $i,j = 0...L - 1$. Comienza en el centro de la cuadrícula. En cada paso de la simulación, elija una dirección aleatoria (arriba, abajo, izquierda o derecha) y mueva la partícula un paso en esa dirección. Este proceso se denomina caminata aleatoria. No se permite que la partícula se mueva fuera de los límites de la red; si lo intenta, elija una nueva dirección aleatoria para moverse. Escriba un programa para realizar un millón de pasos de este proceso en una red con L = 101 y haga una animación en la pantalla de la posición de la partícula. (Elegimos una longitud impar para el lado del cuadrado de modo que haya un sitio de celosía exactamente en el centro.)\n",
    "Nota: El paquete visual no siempre funciona bien con el paquete aleatorio, pero si importa funciones de visual primero y luego de aleatorio, debería evitar problemas."
   ]
  },
  {
   "cell_type": "code",
   "execution_count": 48,
   "id": "e26d03cd",
   "metadata": {},
   "outputs": [
    {
     "name": "stdout",
     "output_type": "stream",
     "text": [
      "tiempo de ejecución 5.861\n"
     ]
    }
   ],
   "source": [
    "L=101\n",
    "x=int((L+1)/2)\n",
    "y=int((L+1)/2)\n",
    "posc=[[x,y]]\n",
    "initiempo=time.time()\n",
    "for i in range(0,int(1E6)):\n",
    "    a=x\n",
    "    b=y\n",
    "    # varale=1: arriba ; varale=2:abajo ; varale=3: derecha; varale=4: izquierda\n",
    "    varbool=True\n",
    "    while(varbool):\n",
    "        x=a\n",
    "        y=b\n",
    "        varale=np.random.randint(1,5)\n",
    "        if varale==1:\n",
    "            y+=1\n",
    "        if varale==2:\n",
    "            y-=1\n",
    "        if varale==3:\n",
    "            x+=1\n",
    "        if varale==4:\n",
    "            x-=1\n",
    "        if(x==0 or x==(L-1) or y==0 or y==(L-1)):\n",
    "            varbool=True\n",
    "        else:\n",
    "            varbool=False\n",
    "    posc.append([x,y])\n",
    "fintiempo=time.time()\n",
    "print(\"tiempo de ejecución\",round(fintiempo-initiempo,5))"
   ]
  },
  {
   "cell_type": "code",
   "execution_count": 39,
   "id": "6d1fbe8c",
   "metadata": {},
   "outputs": [
    {
     "name": "stdout",
     "output_type": "stream",
     "text": [
      "Using matplotlib backend: Qt5Agg\n"
     ]
    }
   ],
   "source": [
    "%matplotlib"
   ]
  },
  {
   "cell_type": "code",
   "execution_count": 58,
   "id": "52049c4d",
   "metadata": {},
   "outputs": [],
   "source": [
    "#simulación\n",
    "fig3=plt.figure()\n",
    "ax=fig3.gca()\n",
    "def puntoapunto(i):\n",
    "    ax.clear()\n",
    "    plt.plot(posc[i][0],posc[i][1],color=\"black\",marker=\"s\",markersize=15)\n",
    "    plt.title(\"movimiento Brownian\")\n",
    "    plt.xlim(0,L)\n",
    "    plt.ylim(0,L)\n",
    "#     plt.grid()\n",
    "ani=animation.FuncAnimation(fig3, puntoapunto, range(len(posc)))\n",
    "# ani.save(\"Gradiente_de_laplaca_circular.mp4\", writer=\"ffmpeg\")\n",
    "plt.show()"
   ]
  },
  {
   "cell_type": "markdown",
   "id": "f953daf1",
   "metadata": {},
   "source": [
    "#### Codigo en Julia\n",
    "\n",
    "~~~julia\n",
    "using Plots\n",
    "L=101\n",
    "global x=convert(Int32,(L+1)/2)\n",
    "global y=convert(Int32,(L+1)/2)\n",
    "vecx=[x]\n",
    "vecy=[y]\n",
    "for i in (1:2000)\n",
    "    global a=x\n",
    "    global b=y\n",
    "\n",
    "    varbool=true\n",
    "    while(varbool)\n",
    "        global x=a\n",
    "        global y=b\n",
    "        varale=rand(1:4)\n",
    "        if varale==1\n",
    "            y+=1\n",
    "        end\n",
    "        if varale==2\n",
    "            y-=1\n",
    "        end\n",
    "        if varale==3\n",
    "            x+=1\n",
    "        end\n",
    "        if varale==4\n",
    "            x-=1\n",
    "        end\n",
    "        if(x==1 || x==L || y==1 || y==L)\n",
    "            varbool=true\n",
    "        else\n",
    "            varbool=false\n",
    "        end\n",
    "    end\n",
    "    push!(vecx,x)\n",
    "    push!(vecy,y)\n",
    "end\n",
    "~~~\n",
    "tiempo de ejecución de Julia: 1.248990 seconds\n",
    "\n",
    "~~~julia\n",
    "#animar\n",
    "anim = @animate for i in (1:length(vecx))\n",
    "    plot([vecx[i]],[vecy[i]],seriestype=:scatter)\n",
    "    ylims!(0,L)\n",
    "    xlims!(0,L)\n",
    "    title!(\"movimiento Brownian\")\n",
    "end\n",
    "gif(anim, \"anim_fps60.gif\", fps = 60)\n",
    "~~~\n",
    "\n",
    "![Alt Text](movimientoBrowniano.gif)"
   ]
  },
  {
   "cell_type": "markdown",
   "id": "9dd9c1be",
   "metadata": {},
   "source": [
    "### Ejercicio 10.4:  Desintegración radiactiva de nuevo\n",
    "\n",
    "Rehaga el cálculo del Ejemplo 10.1, pero esta vez utilizando el método más rápido descrito en la sección anterior. Usando el método de transformación, se generan 1000 números aleatorios a partir de la distribución no uniforme de la Ec. (10.5) para representar los tiempos de desintegración de 1000 átomos de 208 TI (que tiene una vida media de 3,053 minutos). A continuación, haga una gráfica que muestre el número de átomos que no se han desintegrado en función del tiempo, es decir, una gráfica en función de t que muestre el número de átomos cuyos tiempos de desintegración elegidos son mayores que t.<br>\n",
    "Sugerencia: Puede resultarle útil saber que el paquete numpy contiene una función sort que reorganizará los elementos de una matriz en orden creciente. Es decir, \"b = sort (a)\" devuelve una nueva matriz b que contiene los mismos números que a, pero reorganizados en orden de menor a mayor"
   ]
  },
  {
   "cell_type": "code",
   "execution_count": 183,
   "id": "4f41cdfd",
   "metadata": {},
   "outputs": [
    {
     "name": "stdout",
     "output_type": "stream",
     "text": [
      "tiempo de ejecución 0.018\n"
     ]
    }
   ],
   "source": [
    "# Constants\n",
    "NTl = 1000\n",
    "NPb = 0               # Number of lead atoms\n",
    "τ = 3.053*60        # Half life of thallium in seconds\n",
    "h = 1.0               # Size of time-step in seconds\n",
    "tmax = 1000           # Total time\n",
    "μ=np.log(2)/τ\n",
    "p=2**(-h/τ)*μ*tmax\n",
    "tpoints = np.arange(0.0,tmax,h)\n",
    "Tlpoints = np.ones(tmax)*NTl\n",
    "Pbpoints = np.zeros(tmax)\n",
    "z=np.random.random(NTl)\n",
    "initiempo=time.time()\n",
    "for j in range(0,NTl):\n",
    "    p0=-np.log(1-z[j])\n",
    "    if p0<p:\n",
    "        Tlpoints[int(p0/μ):]-=1\n",
    "        Pbpoints[int(p0/μ):]+=1\n",
    "fintiempo=time.time()\n",
    "print(\"tiempo de ejecución\",round(fintiempo-initiempo,5))"
   ]
  },
  {
   "cell_type": "code",
   "execution_count": 182,
   "id": "b781605a",
   "metadata": {},
   "outputs": [
    {
     "data": {
      "image/png": "[encoded data removed]",
      "text/plain": [
       "<Figure size 432x288 with 1 Axes>"
      ]
     },
     "metadata": {
      "needs_background": "light"
     },
     "output_type": "display_data"
    }
   ],
   "source": [
    "# Make the graph\n",
    "plt.plot(tpoints,Tlpoints,label=\"Tl\")\n",
    "plt.plot(tpoints,Pbpoints,label=\"Pb\")\n",
    "plt.xlabel(\"Tiempo\")\n",
    "plt.ylabel(\"Numeros de atomos\")\n",
    "plt.legend()\n",
    "plt.grid()\n",
    "plt.show()"
   ]
  },
  {
   "cell_type": "markdown",
   "id": "1ace22e2",
   "metadata": {},
   "source": [
    "#### Codigo en Julia\n",
    "\n",
    "~~~julia\n",
    "using Plots\n",
    "NTl = 1000\n",
    "NPb = 0               # Number of lead atoms\n",
    "τ = 3.053*60        # Half life of thallium in seconds\n",
    "h = 1.0               # Size of time-step in seconds\n",
    "tmax = 1000           # Total time\n",
    "μ=log(2)/τ\n",
    "p=2^(-h/τ)*μ*tmax\n",
    "tpoints =1:h:tmax\n",
    "Tlpoints = ones(tmax)*NTl\n",
    "Pbpoints = zeros(tmax)\n",
    "@time for j in (1:NTl)\n",
    "    global p0=-log(1-rand())\n",
    "    if p0<p\n",
    "        t=trunc(Int64,p0/μ)\n",
    "        if(t<NTl && t>1)\n",
    "            Tlpoints[t:end].-=1\n",
    "            Pbpoints[t:end].+=1\n",
    "        end\n",
    "    end\n",
    "end\n",
    "~~~\n",
    "tiempo de ejecución de Julia: 0.007719 seconds\n",
    "~~~julia\n",
    "plot(tpoints,Tlpoints,label=\"Tl\")\n",
    "plot!(tpoints,Pbpoints,label=\"Pb\")\n",
    "xlabel!(\"Tiempo\")\n",
    "ylabel!(\"Numeros de atomos\")\n",
    "~~~"
   ]
  },
  {
   "cell_type": "markdown",
   "id": "0b06067a",
   "metadata": {},
   "source": [
    "### Ejercicio 10.5:\n",
    "\n",
    "a) Escribir un programa para evaluar la integral en la ecuación? (10.22) utilizando el método de Monte Carlo de \"acierto o error\" de la Sección 10.2 con 10 000 puntos. También evalúe el error en su estimación.\n",
    "\n",
    "La integral que vamos a evaluar es:\n",
    "\n",
    "$$\n",
    "I=\\int_0^2{\\sin^2\\left[ \\frac{1}{x(2-x)} \\right] dx}\n",
    "$$\n",
    "\n",
    "Vamos a aproximar la integral como:\n",
    "\n",
    "$$\n",
    "I \\approx \\frac{kA}{N}\n",
    "$$\n",
    "\n",
    "donde:<br>\n",
    "k es el numero de puntos que ha caido por dentro de la función <br>\n",
    "A es el area del rectangulo <br>\n",
    "N es el numero de puntos que lanzamos al rectangulo <br>\n",
    "\n",
    "Parametrizamos $x$ y $y$ en fución del numero $z$ random y sabemos que \n",
    "\n",
    "$$\n",
    "0 \\leq x \\leq 2 ; 0 \\leq y \\leq 1 ; 0 \\leq z \\leq 1\n",
    "$$\n",
    "\n",
    "entonces $x$ y $y$ queda parametrizadas de la siguiente forma\n",
    "\n",
    "$$\n",
    "x=2z ; y=z\n",
    "$$\n",
    "\n",
    "el error de este metodo va hacer:\n",
    "\n",
    "$$\n",
    "\\sigma=\\sqrt{\\frac{I(A-I)}{N}}\n",
    "$$"
   ]
  },
  {
   "cell_type": "code",
   "execution_count": 5,
   "id": "4453dca2",
   "metadata": {},
   "outputs": [
    {
     "name": "stdout",
     "output_type": "stream",
     "text": [
      "la integral da como resultado I=1.6676 ± 0.00745\n"
     ]
    }
   ],
   "source": [
    "N=int(1e4)\n",
    "b=2; a=0; h=1 #limites de integración y la altura maxima de la función\n",
    "A=(b-a)*h\n",
    "k=0\n",
    "for i in range(N):\n",
    "    z=np.random.random()\n",
    "    x=2*z\n",
    "    y=z\n",
    "    f=(np.sin(1/(x*(2-x))))**2\n",
    "    if (y<f):\n",
    "        k+=1\n",
    "I=k*A/N\n",
    "σ=round(np.sqrt((I*(A-I))/N),5)\n",
    "print(\"la integral da como resultado I={0} ± {1}\".format(I,σ))"
   ]
  },
  {
   "cell_type": "markdown",
   "id": "6a4c6f7c",
   "metadata": {},
   "source": [
    "b) Ahora estime la integral nuevamente usando el método del valor medio con 10 000 puntos. evalúe también el error.<br>\n",
    "Debería encontrar que el error es algo más pequeño utilizando el método de valor medio. <br>\n",
    "vamos a aproximar la integral como:\n",
    "$$\n",
    "I \\approx \\frac{b-a}{N}\\sum_{i=1}^{N}f(x_i)\n",
    "$$\n",
    "calculando la $var(f)= \\left \\langle f^2 \\right \\rangle- \\left \\langle f \\right \\rangle^2$ con:\n",
    "\n",
    "$$\n",
    "\\left \\langle f \\right \\rangle=\\frac{1}{N}\\sum_{i=1}^{N}f(x_i)\n",
    "$$\n",
    "\n",
    "$$\n",
    "\\left \\langle f^2 \\right \\rangle=\\frac{1}{N}\\sum_{i=1}^{N}[f(x_i)]^2\n",
    "$$\n",
    "\n",
    "el error nos queda como:\n",
    "\n",
    "$$\n",
    "\\sigma=(b-a)\\sqrt{\\frac{var(f)}{N}}\n",
    "$$"
   ]
  },
  {
   "cell_type": "code",
   "execution_count": 13,
   "id": "39d57819",
   "metadata": {},
   "outputs": [
    {
     "name": "stdout",
     "output_type": "stream",
     "text": [
      "la integral da como resultado I=1.4616 ± 0.00521\n"
     ]
    }
   ],
   "source": [
    "N=int(1e4)\n",
    "b=2; a=0 #limites de integración\n",
    "sumf=0; sumf2=0\n",
    "for i in range(N):\n",
    "    z=np.random.random()\n",
    "    x=2*z\n",
    "    f=(np.sin(1/(x*(2-x))))**2\n",
    "    sumf+=f\n",
    "    sumf2+=f**2\n",
    "I=round((b-a)/N*sumf,5)\n",
    "varf=sumf2/N-(sumf/N)**2\n",
    "σ=round((b-a)*np.sqrt(varf/N),5)\n",
    "print(\"la integral da como resultado I={0} ± {1}\".format(I,σ))"
   ]
  },
  {
   "cell_type": "markdown",
   "id": "d391b236",
   "metadata": {},
   "source": [
    "#### Codigo en Julia\n",
    "a)\n",
    "~~~julia\n",
    "using Printf\n",
    "N=convert(Int64,1e4)\n",
    "b=2; a=0; h=1 #limites de integración y la altura maxima de la función\n",
    "A=(b-a)*h\n",
    "global k=0\n",
    "for i in (1:N)\n",
    "    z=rand()\n",
    "    x=2*z\n",
    "    y=z\n",
    "    f=(sin(1/(x*(2-x))))^2\n",
    "    if (y<f)\n",
    "        global k+=1\n",
    "    end\n",
    "end\n",
    "I=k*A/N\n",
    "σ=round(sqrt((I*(A-I))/N); digits=5)\n",
    "@printf(\"la integral da como resultado I= %.5f ± %f \",I,σ)\n",
    "~~~\n",
    "b)\n",
    "~~~julia\n",
    "using Printf\n",
    "N=convert(Int64,1e4)\n",
    "b=2; a=0 #limites de integración\n",
    "global sumf=0; global sumf2=0\n",
    "for i in (1:N)\n",
    "    z=rand()\n",
    "    x=2*z\n",
    "    f=(sin(1/(x*(2-x))))^2\n",
    "    global sumf+=f\n",
    "    global sumf2+=f^2\n",
    "end\n",
    "I=(b-a)/N*sumf\n",
    "varf=sumf2/N-(sumf/N)^2\n",
    "σ=round((b-a)*sqrt(varf/N); digits=5)\n",
    "@printf(\"la integral da como resultado I= %.5f ± %f\",I,σ)\n",
    "~~~"
   ]
  },
  {
   "cell_type": "markdown",
   "id": "3c30be5e",
   "metadata": {},
   "source": [
    "### Ejercicio 10.6:\n",
    "Construya una prueba general de que el método del valor medio siempre funciona mejor, o al menos no peor, que el método de \"acertar o fallar\" de la Sección 10.2, de la siguiente manera.<br>\n",
    "a) Para una integral de la forma (10.27) con $f(x) \\geq 0$ en todas partes en el dominio de la integración, demuestre que la Ec. (10.23) se puede reescribir como\n",
    "$$\n",
    "I \\approx (b-a)H\\left \\langle s \\right \\rangle\n",
    "$$\n",
    "\n",
    "donde H es la altura vertical de la caja que encierra la función a integrar (de modo que el área de la caja es $A = (b - a)H$) y $ \\left \\langle s \\right \\rangle$ es el promedio de las variables $s_i$\n",
    "definido de tal manera que $s_i = 1$ si el punto i-ésimo en el procedimiento de Monte Carlo fue un \"acierto\" (cayó por debajo de la curva de $f(x)$) y $s_i = 0$ si fue un \"fallo\". Por lo tanto, argumente que el método de acierto o error nunca será más preciso que el método de valor medio si la varianza de la ecuación de f en Eq.(10.32) satisface $var(f) \\leq H^2 var(s)$.<br>\n",
    "\n",
    "Respuesta:<br>\n",
    "\n",
    "Consideramos que la función que se va a integrar en el intervalo a, b sea mayor o igual que 0 esto impica que $f(x)\\geq 0$ en todo el intervalo cerrado $[a,b]$\n",
    "\n",
    "Partimos de la ecuación (10.23) que es la siguiente:\n",
    "\n",
    "$$\n",
    "I \\approx \\frac{A k}{N}\n",
    "$$\n",
    "\n",
    "sabemos que A representa el area de la caja rectangular el cual encierra a dicha fución, donde la base de esta caja es $b-a$ y la altura es el valor de maximo local de la función $H$, entonces el area la podemos representar de la siguiente forma:\n",
    "\n",
    "$$\n",
    "A=(b-a)H\n",
    "$$\n",
    "\n",
    "reemplazandolo en la aproximación de la integral obtenemos:\n",
    "\n",
    "$$\n",
    "I \\approx \\frac{(b-a)H k}{N}\n",
    "$$\n",
    "\n",
    "vamos a definir una función escalon el cual si el punto aleatorio cae por debajo de la curva vamos a tomar el valor de $s_i=1$ de lo contrario va a tomar el valor de $s_i=0$, lo vamos a definir de la siguiente forma:\n",
    "\n",
    "$$\n",
    "s_i=\\left\\{\\begin{matrix}\n",
    " 1&,si\\rightarrow y<f(x) \\\\ \n",
    " 0 & ,si\\rightarrow y>f(x)\n",
    "\\end{matrix}\\right.\n",
    "$$\n",
    "\n",
    "donde $y$ es la variable aleatoria en la coordenadas de las Ordenadas, luego la letra k que indica el numero de veces que el numero aleatorio de las Ordenadas cae por debajo de la curva se puede expresar como la suma de los resultados de la función escalón que definimos anteriormete, de la siguiente forma:\n",
    "\n",
    "$$\n",
    "k=\\sum_{i=1}^N s_i\n",
    "$$\n",
    "\n",
    "reemplazandolo en la aproximación de la integral obtenemos:\n",
    "\n",
    "$$\n",
    "I \\approx \\frac{(b-a)H}{N}\\sum_{i=1}^N s_i\n",
    "$$\n",
    "\n",
    "El valor medio de nuestra función escalón va a ser:\n",
    "\n",
    "$$\n",
    "\\left \\langle s \\right \\rangle = \\frac{1}{N} \\sum_{i=1}^N s_i\n",
    "$$\n",
    "\n",
    "lo reemplazamos en la integral, llegando así a la ecuación\n",
    "\n",
    "$$\n",
    "I \\approx (b-a)H\\left \\langle s \\right \\rangle\n",
    "$$"
   ]
  },
  {
   "cell_type": "markdown",
   "id": "e49b9e4b",
   "metadata": {},
   "source": [
    "### Ejercicio 10.7: Volumen de una Hiperesfera\n",
    "\n",
    "Este ejercicio le pide que estime el volumen de una esfera de radio unitario en diez dimensiones utilizando un método de Monte Carlo. Considere el problema equivalente en dos dimensiones, el área de un círculo de radio unitario:\n",
    "\n",
    "![circunferencia](Circunfernecia.png)\n",
    "\n",
    "El área del círculo, el área sombreada de arriba, viene dada por la integral\n",
    "\n",
    "$$\n",
    "I=\\int_{-1}^1 \\int_{-1}^1 f(x,y) dx dy \n",
    "$$\n",
    "\n",
    "donde $f(x,y)=1$ en todas partes dentro del círculo y cero en todas partes fuera. En otras palabras\n",
    "\n",
    "$$\n",
    "f(x,y)=\\left\\{\\begin{matrix}\n",
    " 1&,si\\rightarrow x^2+y^2 \\leq 1 \\ \\\\ \n",
    " 0 & ,si\\rightarrow x^2+y^2> 1\n",
    "\\end{matrix}\\right.\n",
    "$$\n",
    "\n",
    "Entonces, si aún no conocíamos el área del círculo, podríamos calcularlo mediante la integración de Monte Carlo. Generaríamos un conjunto de N puntos aleatorios $(x, y)$, donde tanto $x$ como $y$ están en el rango de -1 a 1. A continuación, la versión bidimensional de la ecuación. (10.33) para este cálculo sería\n",
    "\n",
    "$$\n",
    "I \\approx \\frac{4}{N} \\sum_{i=1}^{N} f(x_i,y_i)\n",
    "$$\n",
    "\n",
    "Generalice este método al caso de diez dimensiones y escriba un programa para realizar un cálculo de Monte Carlo del volumen de una esfera de radio unitario en diez dimensiones.\n",
    "Si tuviéramos que hacer una integral de diez dimensiones de la manera tradicional, tomaría mucho tiempo. Incluso con solo 100 puntos a lo largo de cada eje (lo que no daría un resultado muy preciso), todavía tendríamos $100^{10}$ = $10^{20}$ puntos para muestrear, lo cual es imposible en cualquier computadora. Pero usando el método de Monte Carlo podemos obtener un resultado bastante bueno con un millón de puntos más o menos."
   ]
  },
  {
   "cell_type": "markdown",
   "id": "38c4c314",
   "metadata": {},
   "source": [
    "vamos a generalizar los ejes de coordenadas para 10 dimensiones\n",
    "$$\n",
    "x_{1i}, x_{2i}, x_{3i}, x_{3i}, x_{4i}, x_{5i}, x_{6i}, x_{6i}, x_{7i}, x_{8i}, x_{9i}, x_{10i}\n",
    "$$\n",
    "\n",
    "la integral para 10 dimensiones seria: \n",
    "\n",
    "$$\n",
    "I \\approx \\frac{2^{10}}{N} \\sum_{i=1}^{N} f(x_{1i}, x_{2i}, x_{3i}, x_{3i}, x_{4i}, x_{5i}, x_{6i}, x_{6i}, x_{7i}, x_{8i}, x_{9i}, x_{10i})\n",
    "$$\n",
    "\n",
    "los ejes $x_{1i}, x_{2i},...,x_{10i}$ cumpliría la siguiente condición\n",
    "\n",
    "$$\n",
    "f(x_1,x_2,...,x_{10})=\\left\\{\\begin{matrix}\n",
    " 1&,si\\rightarrow \\sum_{j=1}^{10} x_{ji} \\leq 1 \\ \\\\ \n",
    " 0 & ,si\\rightarrow \\sum_{j=1}^{10} x_{ji} > 1\n",
    "\\end{matrix}\\right.\n",
    "$$\n",
    "\n",
    "la varianza es:\n",
    "\n",
    "$$\n",
    "var f= \\left \\langle f^2 \\right \\rangle- \\left \\langle f \\right \\rangle^2\n",
    "$$\n",
    "\n",
    "las desviación estandar es:\n",
    "$$\n",
    "\\sigma=\\frac{2^N}{N} \\sqrt{N var f}=2^N \\sqrt{\\frac{var f}{N}}\n",
    "$$"
   ]
  },
  {
   "cell_type": "code",
   "execution_count": 81,
   "id": "61446647",
   "metadata": {},
   "outputs": [
    {
     "name": "stdout",
     "output_type": "stream",
     "text": [
      "el hipervolumen de la esfera es V=2.253 ± 0.480275\n",
      "tiempo de ejecución 0.364\n"
     ]
    }
   ],
   "source": [
    "N=10000\n",
    "dim=10\n",
    "sumf=0\n",
    "def generador(d):\n",
    "    eje=[0]*d\n",
    "    for i in range(0,d):\n",
    "        eje[i]=np.random.uniform(-1, 1)\n",
    "    return(eje)\n",
    "initiempo=time.time()\n",
    "for i in range(0,N):\n",
    "    sumd=0\n",
    "    x=generador(dim)\n",
    "    for j in x:\n",
    "        sumd+=j**2\n",
    "    if(sumd<=1):\n",
    "        sumf+=1\n",
    "fintiempo=time.time()\n",
    "I=round(2**dim/N*sumf,3)\n",
    "varf=sumf/N-sumf/N**2\n",
    "σ=round(2**dim*np.sqrt(varf/N),6)\n",
    "print(\"el hipervolumen de la esfera es V={} ± {}\".format(I,σ))\n",
    "print(\"tiempo de ejecución\",round(fintiempo-initiempo,5))"
   ]
  },
  {
   "cell_type": "markdown",
   "id": "9a6649b3",
   "metadata": {},
   "source": [
    "#### Codigo en Julia\n",
    "~~~julia\n",
    "using Printf\n",
    "using Distributions\n",
    "N=convert(Int64,10000)\n",
    "global dim=convert(Int64,10)\n",
    "global sumf=0\n",
    "\n",
    "function generador(d)\n",
    "    eje=zeros(d)\n",
    "    for i in (1:d)\n",
    "        eje[i]=rand(Uniform(-1,1))\n",
    "    end\n",
    "    return(eje)\n",
    "end\n",
    "\n",
    "@time for i in (1:N)\n",
    "    sumd=0\n",
    "    x=generador(dim)\n",
    "    for j in x\n",
    "        sumd+=j^2\n",
    "    end\n",
    "    if(sumd<=1)\n",
    "        global sumf+=1\n",
    "    end\n",
    "end\n",
    "\n",
    "I=round(2^dim/N*sumf,digits=3)\n",
    "varf=sumf/N-sumf/N^2\n",
    "σ=round(2^dim*sqrt(varf/N);digits=6)\n",
    "@printf(\"el hipervolumen de la esfera es V=%f ± %f\",I,σ)\n",
    "~~~\n",
    "tiempo de ejecución de Julia: 0.040930 seconds"
   ]
  },
  {
   "cell_type": "markdown",
   "id": "1acd44c7",
   "metadata": {},
   "source": [
    "### Ejercicio 10.8: Calcule un valor para la integral\n",
    "\n",
    "$$\n",
    "I=\\int_0^1 \\frac{x^{-1/2}}{e^{x}+1} dx\n",
    "$$\n",
    "\n",
    "usando la fórmula de muestreo por importancia, la Ec.(10.42), con $w(x) = x^{-1/2}$, como sigue.<br>\n",
    "\n",
    "a) Demuestre que la distribución de probabilidad $p(x)$ de la que se deben extraer los puntos de muestra viene dada por\n",
    "\n",
    "$$\n",
    "p(x)=\\frac{1}{2 \\sqrt{x}}\n",
    "$$\n",
    "\n",
    "y derivar una fórmula de transformación para generar números aleatorios entre cero y uno a partir de esta distribución."
   ]
  },
  {
   "cell_type": "markdown",
   "id": "4674d7b4",
   "metadata": {},
   "source": [
    "la ecuación para calcular $P(x)$ viene dada por:\n",
    "\n",
    "$$\n",
    "P(x)=\\frac{w(x)}{\\int_0^1 w(x) dx}\n",
    "$$\n",
    "\n",
    "calculamos la integral con $w(x)=x^{-1/2}$\n",
    "\n",
    "$$\n",
    "\\int_0^1 w(x) dx = \\int_0^1 x^{-1/2} dx = 2x^{1/2}|_0^1=2(1^{1/2}-0^{1/2})=2\n",
    "$$\n",
    "\n",
    "Reemplazando todos los datos en la ecuación de distribución de probabilidad obtenemos:\n",
    "\n",
    "$$\n",
    "P(x)=\\frac{x^{-1/2}}{2}=\\frac{1}{2 \\sqrt{x}}\n",
    "$$\n",
    "\n",
    "ahora utilizando la ecuación (10.42) que es la siguiente:\n",
    "\n",
    "$$\n",
    "I \\approx \\frac{1}{N} \\sum_{i=1}^N \\frac{f(x_i)}{w(x_i)} \\int_a^b w(x) dx\n",
    "$$\n",
    "\n",
    "donde para nuestro caso $f(x_i)$ y $w(x_i)$ van a tener la siguiente forma: \n",
    "\n",
    "$$\n",
    "f(x_i)=\\frac{x_i^{-1/2}}{e^{x_i}+1}\n",
    "$$\n",
    "\n",
    "$$\n",
    "w(x_i)=x_i^{-1/2}\n",
    "$$\n",
    "\n",
    "hacemos la división de $f(x_i)$ y $w(x_i)$ así: $\\frac{f(x_i)}{w(x_i)}$\n",
    "\n",
    "$$\n",
    "\\frac{f(x_i)}{w(x_i)}=\\frac{\\frac{x_i^{-1/2}}{e^{x_i}+1}}{x_i^{-1/2}}=\\frac{x_i^{-1/2}}{(e^{x_i}+1)x_i^{-1/2}}\n",
    "$$\n",
    "\n",
    "$$\n",
    "\\frac{f(x_i)}{w(x_i)}=\\frac{1}{e^{x_i}+1}\n",
    "$$\n",
    "\n",
    "Lo reemplazamos en la aproximación de la integral:\n",
    "\n",
    "$$\n",
    "I \\approx \\frac{1}{N} \\sum_{i=1}^N \\frac{1}{e^{x_i}+1} \\int_0^1 x^{-1/2} dx\n",
    "$$\n",
    "\n",
    "finalmente esa integral ya la calculamos anteriormente dando como resultado $2$, entonces la aproximación a la integral nos queda:\n",
    "\n",
    "$$\n",
    "I \\approx \\frac{1}{N} \\sum_{i=1}^N \\frac{2}{e^{x_i}+1}\n",
    "$$\n",
    "\n",
    "Donde $x_i$ son numeros aleatorios no uniformes, con una distribución de probabilidad $P(x)$ de la siguiente forma:\n",
    "\n",
    "$$\n",
    "z=\\int_{0}^{x_i}P(x) dx = \\int_{0}^{x_i}\\frac{1}{2 \\sqrt{x}} dx\n",
    "$$\n",
    "\n",
    "resolviendo esta ingral nos queda:\n",
    "\n",
    "$$\n",
    "z=\\frac{1}{2} \\int_{0}^{x_i}\\frac{1}{\\sqrt{x}} dx= \\frac{1}{2} (2x^{1/2}|_{0}^{x_i})\n",
    "$$\n",
    "\n",
    "$$\n",
    "z= \\frac{1}{2} (2x^{1/2}|_{0}^{x_i})= \\frac{1}{2} (2x_i^{1/2}-2(0)^{1/2})\n",
    "$$\n",
    "\n",
    "$$\n",
    "z=\\frac{1}{2} (2x_i^{1/2})=x_i^{1/2}\n",
    "$$\n",
    "\n",
    "despejando $x_i$ que son los numeros aleatorios no uniformes en terminos de los numeros aleatorios uniformes nos queda:\n",
    "\n",
    "$$\n",
    "x_i=z^2\n",
    "$$\n",
    "\n",
    "lo reemplazamos en la integral para así derivar una expresión para calcular la integral con dicha probabilidad:\n",
    "\n",
    "$$\n",
    "I \\approx \\frac{1}{N} \\sum_{i=1}^N \\frac{2}{e^{z^2}+1}\n",
    "$$\n",
    "\n",
    "calculamos el valor promedio de la función $\\left \\langle g(x) \\right \\rangle=\\left \\langle f(x)/w(x) \\right \\rangle$\n",
    "\n",
    "$$\n",
    "\\left \\langle g(x) \\right \\rangle=\\left \\langle \\frac{f(x)}{w(x)} \\right \\rangle = \\frac{1}{N} \\sum_{i=1}^N \\frac{f(x_i)}{w(x_i)}\n",
    "$$\n",
    "\n",
    "$$\n",
    "\\left \\langle g(x)^2 \\right \\rangle=\\left \\langle \\left(\\frac{f(x)}{w(x)} \\right)^2 \\right \\rangle = \\frac{1}{N} \\sum_{i=1}^N \\left(\\frac{f(x_i)}{w(x_i)} \\right)^2\n",
    "$$\n",
    "\n",
    "entonces su $var g(x) = \\left \\langle g(x)^2 \\right \\rangle-\\left \\langle g(x) \\right \\rangle^2$ \n",
    "\n",
    "$$\n",
    "var g(x)=\\frac{1}{N} \\sum_{i=1}^N \\left(\\frac{f(x_i)}{w(x_i)} \\right)^2-\\frac{1}{N^2} \\left(\\sum_{i=1}^N \\frac{f(x_i)}{w(x_i)} \\right)^2\n",
    "$$\n",
    "\n",
    "la desviazión estandar va a ser:\n",
    "\n",
    "$$\n",
    "\\sigma = \\frac{1}{N} \\sqrt{N varg(x)} \\int_a^b w(x) dx\n",
    "$$\n",
    "\n",
    "$$\n",
    "\\sigma = \\sqrt{\\frac{varg(x)}{N}} \\int_a^b w(x) dx\n",
    "$$\n",
    "\n",
    "con nuestro ejercicio la desviación estandar va a ser:\n",
    "\n",
    "$$\n",
    "\\sigma = \\sqrt{\\frac{varg(x)}{N}} \\int_0^1 x^{-1/2} dx\n",
    "$$\n",
    "\n",
    "esta integral ya la resolvimos anteriormente lo reemplazamos:\n",
    "\n",
    "$$\n",
    "\\sigma =2 \\sqrt{\\frac{varg(x)}{N}}\n",
    "$$\n",
    "\n",
    "b) Usando su fórmula, muestre N = 1 000 000 de puntos aleatorios y, por lo tanto, evalúe la integral. Debería obtener un valor de alrededor de 0.84."
   ]
  },
  {
   "cell_type": "code",
   "execution_count": 7,
   "id": "85e45a63",
   "metadata": {},
   "outputs": [
    {
     "name": "stdout",
     "output_type": "stream",
     "text": [
      "la integral da como resultado I=0.8387±0.00014 \n",
      "tiempo de ejecución 5.44932\n"
     ]
    }
   ],
   "source": [
    "N=int(1e6)\n",
    "sumf=0\n",
    "sumfxᵢgxᵢ=0\n",
    "sumfxᵢgxᵢ2=0\n",
    "initiempo=time.time()\n",
    "for i in range(N):\n",
    "    z=np.random.random()\n",
    "    xᵢ=z**2\n",
    "    fxᵢ=xᵢ**(-1/2)/(np.exp(xᵢ)+1)\n",
    "    gxᵢ=xᵢ**(-1/2)\n",
    "    f=2/(np.exp(xᵢ)+1)\n",
    "    sumf+=f\n",
    "    sumfxᵢgxᵢ+=fxᵢ/gxᵢ\n",
    "    sumfxᵢgxᵢ2+=(fxᵢ/gxᵢ)**2\n",
    "fintiempo=time.time()\n",
    "I=round(sumf/N,5)\n",
    "vargxᵢ=1/N*sumfxᵢgxᵢ2-(sumfxᵢgxᵢ/N)**2\n",
    "σ=round(2*np.sqrt(vargxᵢ/N),5)\n",
    "print(\"la integral da como resultado I={0}±{1} \".format(I,σ))\n",
    "print(\"tiempo de ejecución\",round(fintiempo-initiempo,5))"
   ]
  },
  {
   "cell_type": "markdown",
   "id": "5c6d1c24",
   "metadata": {},
   "source": [
    "#### Codigo en Julia\n",
    "~~~julia\n",
    "using Printf\n",
    "N=convert(Int64,1e6)\n",
    "global sumf=0\n",
    "global sumfxᵢgxᵢ=0\n",
    "global sumfxᵢgxᵢ2=0\n",
    "@time for i in (1:N)\n",
    "    z=rand()\n",
    "    xᵢ=z^2\n",
    "    fxᵢ=xᵢ^(-1/2)/(exp(xᵢ)+1)\n",
    "    gxᵢ=xᵢ^(-1/2)\n",
    "    f=2/(exp(xᵢ)+1)\n",
    "    global sumf+=f\n",
    "    global sumfxᵢgxᵢ+=fxᵢ/gxᵢ\n",
    "    global sumfxᵢgxᵢ2+=(fxᵢ/gxᵢ)^2\n",
    "end\n",
    "I=round(sumf/N;digits=5)\n",
    "vargxᵢ=1/N*sumfxᵢgxᵢ2-(sumfxᵢgxᵢ/N)^2\n",
    "σ=round(2*sqrt(vargxᵢ/N);digits=5)\n",
    "@printf(\"la integral da como resultado I=%f±%f \",I,σ)\n",
    "~~~\n",
    "tiempo de ejecución de Julia: 0.491788 seconds"
   ]
  },
  {
   "cell_type": "code",
   "execution_count": 3,
   "id": "7f05aca8",
   "metadata": {},
   "outputs": [
    {
     "name": "stdout",
     "output_type": "stream",
     "text": [
      "The version_information extension is already loaded. To reload it, use:\n",
      "  %reload_ext version_information\n"
     ]
    },
    {
     "data": {
      "application/json": {
       "Software versions": [
        {
         "module": "Python",
         "version": "3.9.12 64bit [MSC v.1916 64 bit (AMD64)]"
        },
        {
         "module": "IPython",
         "version": "7.30.0"
        },
        {
         "module": "OS",
         "version": "Windows 10 10.0.19044 SP0"
        },
        {
         "module": "numpy",
         "version": "1.20.3"
        },
        {
         "module": "matplotlib",
         "version": "3.4.0"
        },
        {
         "module": "version_information",
         "version": "1.0.4"
        }
       ]
      },
      "text/html": [
       "<table><tr><th>Software</th><th>Version</th></tr><tr><td>Python</td><td>3.9.12 64bit [MSC v.1916 64 bit (AMD64)]</td></tr><tr><td>IPython</td><td>7.30.0</td></tr><tr><td>OS</td><td>Windows 10 10.0.19044 SP0</td></tr><tr><td>numpy</td><td>1.20.3</td></tr><tr><td>matplotlib</td><td>3.4.0</td></tr><tr><td>version_information</td><td>1.0.4</td></tr><tr><td colspan='2'>Mon Nov 07 11:34:11 2022 Hora est. Pacífico, Sudamérica</td></tr></table>"
      ],
      "text/latex": [
       "\\begin{tabular}{|l|l|}\\hline\n",
       "{\\bf Software} & {\\bf Version} \\\\ \\hline\\hline\n",
       "Python & 3.9.12 64bit [MSC v.1916 64 bit (AMD64)] \\\\ \\hline\n",
       "IPython & 7.30.0 \\\\ \\hline\n",
       "OS & Windows 10 10.0.19044 SP0 \\\\ \\hline\n",
       "numpy & 1.20.3 \\\\ \\hline\n",
       "matplotlib & 3.4.0 \\\\ \\hline\n",
       "version_information & 1.0.4 \\\\ \\hline\n",
       "\\hline \\multicolumn{2}{|l|}{Mon Nov 07 11:34:11 2022 Hora est. Pacífico, Sudamérica} \\\\ \\hline\n",
       "\\end{tabular}\n"
      ],
      "text/plain": [
       "Software versions\n",
       "Python 3.9.12 64bit [MSC v.1916 64 bit (AMD64)]\n",
       "IPython 7.30.0\n",
       "OS Windows 10 10.0.19044 SP0\n",
       "numpy 1.20.3\n",
       "matplotlib 3.4.0\n",
       "version_information 1.0.4\n",
       "Mon Nov 07 11:34:11 2022 Hora est. Pacífico, Sudamérica"
      ]
     },
     "execution_count": 3,
     "metadata": {},
     "output_type": "execute_result"
    }
   ],
   "source": [
    "%load_ext version_information\n",
    "\n",
    "%version_information numpy, matplotlib, version_information"
   ]
  }
 ],
 "metadata": {
  "hide_input": false,
  "kernelspec": {
   "display_name": "Python 3 (ipykernel)",
   "language": "python",
   "name": "python3"
  },
  "language_info": {
   "codemirror_mode": {
    "name": "ipython",
    "version": 3
   },
   "file_extension": ".py",
   "mimetype": "text/x-python",
   "name": "python",
   "nbconvert_exporter": "python",
   "pygments_lexer": "ipython3",
   "version": "3.9.12"
  },
  "nbTranslate": {
   "displayLangs": [
    "*"
   ],
   "hotkey": "alt-t",
   "langInMainMenu": true,
   "sourceLang": "en",
   "targetLang": "fr",
   "useGoogleTranslate": true
  },
  "toc": {
   "base_numbering": 1,
   "nav_menu": {},
   "number_sections": true,
   "sideBar": true,
   "skip_h1_title": false,
   "title_cell": "Table of Contents",
   "title_sidebar": "Contents",
   "toc_cell": false,
   "toc_position": {
    "height": "calc(100% - 180px)",
    "left": "10px",
    "top": "150px",
    "width": "263.797px"
   },
   "toc_section_display": true,
   "toc_window_display": false
  },
  "varInspector": {
   "cols": {
    "lenName": 16,
    "lenType": 16,
    "lenVar": 40
   },
   "kernels_config": {
    "python": {
     "delete_cmd_postfix": "",
     "delete_cmd_prefix": "del ",
     "library": "var_list.py",
     "varRefreshCmd": "print(var_dic_list())"
    },
    "r": {
     "delete_cmd_postfix": ") ",
     "delete_cmd_prefix": "rm(",
     "library": "var_list.r",
     "varRefreshCmd": "cat(var_dic_list()) "
    }
   },
   "types_to_exclude": [
    "module",
    "function",
    "builtin_function_or_method",
    "instance",
    "_Feature"
   ],
   "window_display": false
  }
 },
 "nbformat": 4,
 "nbformat_minor": 5
}
